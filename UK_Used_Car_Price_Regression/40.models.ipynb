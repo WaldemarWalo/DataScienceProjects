{
 "cells": [
  {
   "cell_type": "markdown",
   "id": "22f957d9-c1db-4f82-ba36-e34cadac76ff",
   "metadata": {},
   "source": [
    "# Setup and Imports"
   ]
  },
  {
   "cell_type": "code",
   "execution_count": 1,
   "id": "cc18e7ac-1cfd-48af-9e73-b58a9290d986",
   "metadata": {},
   "outputs": [],
   "source": [
    "import sys\n",
    "if '../Toolkit' not in sys.path: sys.path.append('../Toolkit')\n",
    "\n",
    "%load_ext autoreload\n",
    "%autoreload 1\n",
    "\n",
    "%aimport tools\n",
    "%aimport models\n",
    "\n",
    "import tools as t\n",
    "import models as m\n",
    "\n",
    "from IPython.core.interactiveshell import InteractiveShell\n",
    "InteractiveShell.ast_node_interactivity = 'all'\n",
    "from IPython.display import clear_output\n",
    "\n",
    "import numpy as np\n",
    "import pandas as pd\n",
    "pd.options.display.max_columns = None\n",
    "pd.options.display.max_colwidth = 999\n",
    "pd.options.display.max_rows = 113\n",
    "import matplotlib.pyplot as plt\n",
    "import seaborn as sns\n",
    "\n",
    "RS = 35577 # global random state seed\n",
    "raw_data_path = 'data-raw'\n",
    "processed_data_path = 'data-processed'"
   ]
  },
  {
   "cell_type": "code",
   "execution_count": 2,
   "id": "5e5c03bb-2998-4f0e-8aa5-39066aab8a8f",
   "metadata": {},
   "outputs": [],
   "source": [
    "from sklearn.preprocessing import StandardScaler, PowerTransformer\n",
    "from sklearn.cluster import KMeans\n",
    "from sklearn.mixture import GaussianMixture, BayesianGaussianMixture\n",
    "import time"
   ]
  },
  {
   "cell_type": "code",
   "execution_count": 3,
   "id": "5bb7ccfa-558e-46da-9209-3a4a26930464",
   "metadata": {},
   "outputs": [
    {
     "data": {
      "text/plain": [
       "(97449, 9)"
      ]
     },
     "execution_count": 3,
     "metadata": {},
     "output_type": "execute_result"
    },
    {
     "data": {
      "text/html": [
       "<div>\n",
       "<style scoped>\n",
       "    .dataframe tbody tr th:only-of-type {\n",
       "        vertical-align: middle;\n",
       "    }\n",
       "\n",
       "    .dataframe tbody tr th {\n",
       "        vertical-align: top;\n",
       "    }\n",
       "\n",
       "    .dataframe thead th {\n",
       "        text-align: right;\n",
       "    }\n",
       "</style>\n",
       "<table border=\"1\" class=\"dataframe\">\n",
       "  <thead>\n",
       "    <tr style=\"text-align: right;\">\n",
       "      <th></th>\n",
       "      <th>make</th>\n",
       "      <th>model</th>\n",
       "      <th>year</th>\n",
       "      <th>price</th>\n",
       "      <th>transmission</th>\n",
       "      <th>mileage</th>\n",
       "      <th>fuelType</th>\n",
       "      <th>tax</th>\n",
       "      <th>engineSize</th>\n",
       "    </tr>\n",
       "  </thead>\n",
       "  <tbody>\n",
       "    <tr>\n",
       "      <th>0</th>\n",
       "      <td>Audi</td>\n",
       "      <td>A1</td>\n",
       "      <td>2017</td>\n",
       "      <td>12500</td>\n",
       "      <td>Manual</td>\n",
       "      <td>15735</td>\n",
       "      <td>Petrol</td>\n",
       "      <td>150</td>\n",
       "      <td>1.4</td>\n",
       "    </tr>\n",
       "    <tr>\n",
       "      <th>1</th>\n",
       "      <td>Audi</td>\n",
       "      <td>A6</td>\n",
       "      <td>2016</td>\n",
       "      <td>16500</td>\n",
       "      <td>Automatic</td>\n",
       "      <td>36203</td>\n",
       "      <td>Diesel</td>\n",
       "      <td>20</td>\n",
       "      <td>2.0</td>\n",
       "    </tr>\n",
       "    <tr>\n",
       "      <th>2</th>\n",
       "      <td>Audi</td>\n",
       "      <td>A1</td>\n",
       "      <td>2016</td>\n",
       "      <td>11000</td>\n",
       "      <td>Manual</td>\n",
       "      <td>29946</td>\n",
       "      <td>Petrol</td>\n",
       "      <td>30</td>\n",
       "      <td>1.4</td>\n",
       "    </tr>\n",
       "  </tbody>\n",
       "</table>\n",
       "</div>"
      ],
      "text/plain": [
       "   make model  year  price transmission  mileage fuelType  tax  engineSize\n",
       "0  Audi    A1  2017  12500       Manual    15735   Petrol  150         1.4\n",
       "1  Audi    A6  2016  16500    Automatic    36203   Diesel   20         2.0\n",
       "2  Audi    A1  2016  11000       Manual    29946   Petrol   30         1.4"
      ]
     },
     "execution_count": 3,
     "metadata": {},
     "output_type": "execute_result"
    }
   ],
   "source": [
    "df_data = t.from_pkl(f'{processed_data_path}/df_clean.pkl')\n",
    "\n",
    "df_data.shape\n",
    "df_data.head(3)"
   ]
  },
  {
   "cell_type": "markdown",
   "id": "99b9222c-6f4f-4336-ba7c-93484ca070d7",
   "metadata": {
    "tags": []
   },
   "source": [
    "# Encode"
   ]
  },
  {
   "cell_type": "code",
   "execution_count": 4,
   "id": "51c6ce34-be77-4973-9843-7cc8315f0f7d",
   "metadata": {},
   "outputs": [],
   "source": [
    "from sklearn.preprocessing import OneHotEncoder, OrdinalEncoder"
   ]
  },
  {
   "cell_type": "markdown",
   "id": "344f9b2d-892f-47c6-8462-e6b3a39f01d4",
   "metadata": {},
   "source": [
    "## transmission & fuelType"
   ]
  },
  {
   "cell_type": "code",
   "execution_count": 5,
   "id": "43edb938-d790-4dd7-ad15-de46453b68a2",
   "metadata": {},
   "outputs": [],
   "source": [
    "df_enc1 = df_data.copy()"
   ]
  },
  {
   "cell_type": "code",
   "execution_count": 6,
   "id": "b23bc803-3da2-47c3-8c1c-a174a7191719",
   "metadata": {},
   "outputs": [
    {
     "data": {
      "text/plain": [
       "Manual       55469\n",
       "Semi-Auto    22295\n",
       "Automatic    19685\n",
       "Name: transmission, dtype: int64"
      ]
     },
     "execution_count": 6,
     "metadata": {},
     "output_type": "execute_result"
    },
    {
     "data": {
      "text/plain": [
       "Petrol    53976\n",
       "Diesel    40416\n",
       "Hybrid     3057\n",
       "Name: fuelType, dtype: int64"
      ]
     },
     "execution_count": 6,
     "metadata": {},
     "output_type": "execute_result"
    },
    {
     "data": {
      "text/plain": [
       "1    55469\n",
       "2    22295\n",
       "0    19685\n",
       "Name: transmission, dtype: int64"
      ]
     },
     "execution_count": 6,
     "metadata": {},
     "output_type": "execute_result"
    },
    {
     "data": {
      "text/plain": [
       "2    53976\n",
       "0    40416\n",
       "1     3057\n",
       "Name: fuelType, dtype: int64"
      ]
     },
     "execution_count": 6,
     "metadata": {},
     "output_type": "execute_result"
    }
   ],
   "source": [
    "df_enc1['transmission'].value_counts()\n",
    "df_enc1['fuelType'].value_counts()\n",
    "\n",
    "m.ordinalEncode(df_enc1, ['transmission', 'fuelType'])\n",
    "\n",
    "df_enc1['transmission'].value_counts()\n",
    "df_enc1['fuelType'].value_counts()"
   ]
  },
  {
   "cell_type": "markdown",
   "id": "6e5ed99a-6cd8-4005-83b0-3aa550906ee4",
   "metadata": {},
   "source": [
    "## make & model"
   ]
  },
  {
   "cell_type": "code",
   "execution_count": 7,
   "id": "e59010c1-9adb-4b8f-a062-e78d0ac8d6c5",
   "metadata": {},
   "outputs": [
    {
     "data": {
      "text/plain": [
       "A3     1917\n",
       "Q3     1379\n",
       "A4     1375\n",
       "A1     1337\n",
       "A5      874\n",
       "Q5      864\n",
       "Q2      810\n",
       "A6      748\n",
       "Q7      394\n",
       "TT      336\n",
       "A7      122\n",
       "A8      118\n",
       "Q8       69\n",
       "RS6      39\n",
       "RS3      33\n",
       "RS4      31\n",
       "RS5      28\n",
       "R8       28\n",
       "S3       18\n",
       "SQ5      16\n",
       "S4       12\n",
       "SQ7       8\n",
       "S8        4\n",
       "S5        3\n",
       "A2        1\n",
       "RS7       1\n",
       "Name: model, dtype: int64"
      ]
     },
     "execution_count": 7,
     "metadata": {},
     "output_type": "execute_result"
    },
    {
     "data": {
      "text/plain": [
       "A3     1917\n",
       "Q3     1379\n",
       "A4     1375\n",
       "A1     1337\n",
       "A5      874\n",
       "Q5      864\n",
       "Q2      810\n",
       "A6      748\n",
       "Q7      394\n",
       "TT      336\n",
       "A7      122\n",
       "A8      118\n",
       "Q8       69\n",
       "RS6      39\n",
       "RS3      33\n",
       "RS4      31\n",
       "RS5      28\n",
       "R8       28\n",
       "S3       18\n",
       "SQ5      16\n",
       "S4       12\n",
       "Name: model, dtype: int64"
      ]
     },
     "execution_count": 7,
     "metadata": {},
     "output_type": "execute_result"
    }
   ],
   "source": [
    "df_audi = df_enc1.loc[df_enc1['make'] == 'Audi'].drop(columns='make').copy()\n",
    "\n",
    "model_vc = df_audi['model'].value_counts()\n",
    "model_vc\n",
    "\n",
    "models_to_keep = model_vc[model_vc>10].index\n",
    "df_audi = df_audi.loc[ df_audi['model'].isin(models_to_keep) ]\n",
    "df_audi['model'].value_counts()"
   ]
  },
  {
   "cell_type": "code",
   "execution_count": 8,
   "id": "716f0bee-f8d8-460a-aeac-6c4b68010ea6",
   "metadata": {},
   "outputs": [],
   "source": [
    "m.oh_encode(df_audi, ['model'])"
   ]
  },
  {
   "cell_type": "code",
   "execution_count": 9,
   "id": "2934a70a-9554-44e5-a834-822fe342bf1b",
   "metadata": {},
   "outputs": [],
   "source": [
    "df_train = df_audi"
   ]
  },
  {
   "cell_type": "code",
   "execution_count": 10,
   "id": "5a10a7e4-5d61-43a0-a43b-ebe367b1d390",
   "metadata": {},
   "outputs": [
    {
     "data": {
      "text/html": [
       "<div>\n",
       "<style scoped>\n",
       "    .dataframe tbody tr th:only-of-type {\n",
       "        vertical-align: middle;\n",
       "    }\n",
       "\n",
       "    .dataframe tbody tr th {\n",
       "        vertical-align: top;\n",
       "    }\n",
       "\n",
       "    .dataframe thead th {\n",
       "        text-align: right;\n",
       "    }\n",
       "</style>\n",
       "<table border=\"1\" class=\"dataframe\">\n",
       "  <thead>\n",
       "    <tr style=\"text-align: right;\">\n",
       "      <th></th>\n",
       "      <th>year</th>\n",
       "      <th>price</th>\n",
       "      <th>transmission</th>\n",
       "      <th>mileage</th>\n",
       "      <th>fuelType</th>\n",
       "      <th>tax</th>\n",
       "      <th>engineSize</th>\n",
       "      <th>model__A1</th>\n",
       "      <th>model__A6</th>\n",
       "      <th>model__A4</th>\n",
       "      <th>model__A3</th>\n",
       "      <th>model__Q3</th>\n",
       "      <th>model__Q5</th>\n",
       "      <th>model__A5</th>\n",
       "      <th>model__S4</th>\n",
       "      <th>model__Q2</th>\n",
       "      <th>model__A7</th>\n",
       "      <th>model__TT</th>\n",
       "      <th>model__Q7</th>\n",
       "      <th>model__RS6</th>\n",
       "      <th>model__RS3</th>\n",
       "      <th>model__A8</th>\n",
       "      <th>model__Q8</th>\n",
       "      <th>model__RS4</th>\n",
       "      <th>model__RS5</th>\n",
       "      <th>model__R8</th>\n",
       "      <th>model__SQ5</th>\n",
       "      <th>model__S3</th>\n",
       "    </tr>\n",
       "  </thead>\n",
       "  <tbody>\n",
       "    <tr>\n",
       "      <th>0</th>\n",
       "      <td>2017</td>\n",
       "      <td>12500</td>\n",
       "      <td>1</td>\n",
       "      <td>15735</td>\n",
       "      <td>2</td>\n",
       "      <td>150</td>\n",
       "      <td>1.4</td>\n",
       "      <td>1</td>\n",
       "      <td>0</td>\n",
       "      <td>0</td>\n",
       "      <td>0</td>\n",
       "      <td>0</td>\n",
       "      <td>0</td>\n",
       "      <td>0</td>\n",
       "      <td>0</td>\n",
       "      <td>0</td>\n",
       "      <td>0</td>\n",
       "      <td>0</td>\n",
       "      <td>0</td>\n",
       "      <td>0</td>\n",
       "      <td>0</td>\n",
       "      <td>0</td>\n",
       "      <td>0</td>\n",
       "      <td>0</td>\n",
       "      <td>0</td>\n",
       "      <td>0</td>\n",
       "      <td>0</td>\n",
       "      <td>0</td>\n",
       "    </tr>\n",
       "    <tr>\n",
       "      <th>1</th>\n",
       "      <td>2016</td>\n",
       "      <td>16500</td>\n",
       "      <td>0</td>\n",
       "      <td>36203</td>\n",
       "      <td>0</td>\n",
       "      <td>20</td>\n",
       "      <td>2.0</td>\n",
       "      <td>0</td>\n",
       "      <td>1</td>\n",
       "      <td>0</td>\n",
       "      <td>0</td>\n",
       "      <td>0</td>\n",
       "      <td>0</td>\n",
       "      <td>0</td>\n",
       "      <td>0</td>\n",
       "      <td>0</td>\n",
       "      <td>0</td>\n",
       "      <td>0</td>\n",
       "      <td>0</td>\n",
       "      <td>0</td>\n",
       "      <td>0</td>\n",
       "      <td>0</td>\n",
       "      <td>0</td>\n",
       "      <td>0</td>\n",
       "      <td>0</td>\n",
       "      <td>0</td>\n",
       "      <td>0</td>\n",
       "      <td>0</td>\n",
       "    </tr>\n",
       "    <tr>\n",
       "      <th>2</th>\n",
       "      <td>2016</td>\n",
       "      <td>11000</td>\n",
       "      <td>1</td>\n",
       "      <td>29946</td>\n",
       "      <td>2</td>\n",
       "      <td>30</td>\n",
       "      <td>1.4</td>\n",
       "      <td>1</td>\n",
       "      <td>0</td>\n",
       "      <td>0</td>\n",
       "      <td>0</td>\n",
       "      <td>0</td>\n",
       "      <td>0</td>\n",
       "      <td>0</td>\n",
       "      <td>0</td>\n",
       "      <td>0</td>\n",
       "      <td>0</td>\n",
       "      <td>0</td>\n",
       "      <td>0</td>\n",
       "      <td>0</td>\n",
       "      <td>0</td>\n",
       "      <td>0</td>\n",
       "      <td>0</td>\n",
       "      <td>0</td>\n",
       "      <td>0</td>\n",
       "      <td>0</td>\n",
       "      <td>0</td>\n",
       "      <td>0</td>\n",
       "    </tr>\n",
       "  </tbody>\n",
       "</table>\n",
       "</div>"
      ],
      "text/plain": [
       "   year  price  transmission  mileage  fuelType  tax  engineSize  model__A1  \\\n",
       "0  2017  12500             1    15735         2  150         1.4          1   \n",
       "1  2016  16500             0    36203         0   20         2.0          0   \n",
       "2  2016  11000             1    29946         2   30         1.4          1   \n",
       "\n",
       "   model__A6  model__A4  model__A3  model__Q3  model__Q5  model__A5  \\\n",
       "0          0          0          0          0          0          0   \n",
       "1          1          0          0          0          0          0   \n",
       "2          0          0          0          0          0          0   \n",
       "\n",
       "   model__S4  model__Q2  model__A7  model__TT  model__Q7  model__RS6  \\\n",
       "0          0          0          0          0          0           0   \n",
       "1          0          0          0          0          0           0   \n",
       "2          0          0          0          0          0           0   \n",
       "\n",
       "   model__RS3  model__A8  model__Q8  model__RS4  model__RS5  model__R8  \\\n",
       "0           0          0          0           0           0          0   \n",
       "1           0          0          0           0           0          0   \n",
       "2           0          0          0           0           0          0   \n",
       "\n",
       "   model__SQ5  model__S3  \n",
       "0           0          0  \n",
       "1           0          0  \n",
       "2           0          0  "
      ]
     },
     "execution_count": 10,
     "metadata": {},
     "output_type": "execute_result"
    },
    {
     "data": {
      "text/plain": [
       "year              int64\n",
       "price             int64\n",
       "transmission      int64\n",
       "mileage           int64\n",
       "fuelType          int64\n",
       "tax               int64\n",
       "engineSize      float64\n",
       "model__A1         int64\n",
       "model__A6         int64\n",
       "model__A4         int64\n",
       "model__A3         int64\n",
       "model__Q3         int64\n",
       "model__Q5         int64\n",
       "model__A5         int64\n",
       "model__S4         int64\n",
       "model__Q2         int64\n",
       "model__A7         int64\n",
       "model__TT         int64\n",
       "model__Q7         int64\n",
       "model__RS6        int64\n",
       "model__RS3        int64\n",
       "model__A8         int64\n",
       "model__Q8         int64\n",
       "model__RS4        int64\n",
       "model__RS5        int64\n",
       "model__R8         int64\n",
       "model__SQ5        int64\n",
       "model__S3         int64\n",
       "dtype: object"
      ]
     },
     "execution_count": 10,
     "metadata": {},
     "output_type": "execute_result"
    }
   ],
   "source": [
    "df_train.head(3)\n",
    "df_train.dtypes"
   ]
  },
  {
   "cell_type": "code",
   "execution_count": 11,
   "id": "d3751ef5-9bf0-488c-8ca1-b7c2b8960f7f",
   "metadata": {},
   "outputs": [],
   "source": [
    "X = df_train.drop('price', axis=1)\n",
    "y = df_train['price']"
   ]
  },
  {
   "cell_type": "code",
   "execution_count": 12,
   "id": "d8148275-c74d-4c0c-b64d-f04aad4e06e8",
   "metadata": {},
   "outputs": [
    {
     "data": {
      "text/plain": [
       "(10548, 27)"
      ]
     },
     "execution_count": 12,
     "metadata": {},
     "output_type": "execute_result"
    },
    {
     "data": {
      "text/plain": [
       "(10548,)"
      ]
     },
     "execution_count": 12,
     "metadata": {},
     "output_type": "execute_result"
    }
   ],
   "source": [
    "X.shape\n",
    "y.shape"
   ]
  },
  {
   "cell_type": "markdown",
   "id": "75413f69-a057-449f-9ec1-e06f722d13fe",
   "metadata": {},
   "source": [
    "# Train model"
   ]
  },
  {
   "cell_type": "code",
   "execution_count": 13,
   "id": "1794efb0-25fe-430b-bad9-f958e7e5bb7d",
   "metadata": {},
   "outputs": [],
   "source": [
    "from lightgbm import LGBMRegressor\n",
    "\n",
    "from sklearn.tree import DecisionTreeRegressor\n",
    "from sklearn.ensemble import RandomForestRegressor, AdaBoostRegressor\n",
    "from sklearn.linear_model import LinearRegression, Lasso, Ridge\n",
    "from sklearn.svm import SVC\n",
    "\n",
    "from sklearn.model_selection import KFold, RepeatedKFold, StratifiedKFold, RepeatedStratifiedKFold"
   ]
  },
  {
   "cell_type": "code",
   "execution_count": 14,
   "id": "b5b6c31d-ea56-4442-a697-3949a7e7c59f",
   "metadata": {},
   "outputs": [],
   "source": [
    "from sklearn.metrics import mean_squared_error as mse, mean_absolute_error as mae, r2_score as r2\n",
    "\n",
    "def RMSE(y_true, y_pred):\n",
    "    return mse(y_true, y_pred, squared=False)"
   ]
  },
  {
   "cell_type": "code",
   "execution_count": 15,
   "id": "92987bc2-77dd-40cb-b948-6b27b37606c4",
   "metadata": {},
   "outputs": [],
   "source": [
    "all_results = []"
   ]
  },
  {
   "cell_type": "code",
   "execution_count": 19,
   "id": "be8b5fb0-bfbb-4f0b-bf1a-a66ffd529cba",
   "metadata": {},
   "outputs": [
    {
     "data": {
      "text/html": [
       "<style type=\"text/css\">\n",
       "#T_5aef9_row0_col3, #T_5aef9_row0_col4, #T_5aef9_row0_col5, #T_5aef9_row0_col8, #T_5aef9_row1_col6, #T_5aef9_row4_col7 {\n",
       "  background-color: #09529d;\n",
       "  color: #f1f1f1;\n",
       "}\n",
       "#T_5aef9_row0_col6, #T_5aef9_row5_col3, #T_5aef9_row5_col4, #T_5aef9_row5_col5, #T_5aef9_row5_col8, #T_5aef9_row6_col7 {\n",
       "  background-color: #08306b;\n",
       "  color: #f1f1f1;\n",
       "}\n",
       "#T_5aef9_row0_col7, #T_5aef9_row4_col3, #T_5aef9_row4_col4, #T_5aef9_row4_col5, #T_5aef9_row4_col6, #T_5aef9_row4_col8 {\n",
       "  background-color: #a6cee4;\n",
       "  color: #000000;\n",
       "}\n",
       "#T_5aef9_row0_col9 {\n",
       "  width: 10em;\n",
       "  background: linear-gradient(90deg, #d65f5f 0.7%, transparent 0.7%);\n",
       "}\n",
       "#T_5aef9_row1_col3, #T_5aef9_row1_col5, #T_5aef9_row1_col7, #T_5aef9_row2_col4, #T_5aef9_row2_col8, #T_5aef9_row5_col6 {\n",
       "  background-color: #4695c8;\n",
       "  color: #f1f1f1;\n",
       "}\n",
       "#T_5aef9_row1_col4, #T_5aef9_row1_col8, #T_5aef9_row2_col3, #T_5aef9_row2_col5, #T_5aef9_row2_col6, #T_5aef9_row3_col7 {\n",
       "  background-color: #2373b6;\n",
       "  color: #f1f1f1;\n",
       "}\n",
       "#T_5aef9_row1_col9 {\n",
       "  width: 10em;\n",
       "  background: linear-gradient(90deg, #d65f5f 6.7%, transparent 6.7%);\n",
       "}\n",
       "#T_5aef9_row2_col7, #T_5aef9_row3_col3, #T_5aef9_row3_col4, #T_5aef9_row3_col5, #T_5aef9_row3_col6, #T_5aef9_row3_col8 {\n",
       "  background-color: #72b2d8;\n",
       "  color: #f1f1f1;\n",
       "}\n",
       "#T_5aef9_row2_col9 {\n",
       "  width: 10em;\n",
       "  background: linear-gradient(90deg, #d65f5f 0.3%, transparent 0.3%);\n",
       "}\n",
       "#T_5aef9_row3_col9 {\n",
       "  width: 10em;\n",
       "  background: linear-gradient(90deg, #d65f5f 1.1%, transparent 1.1%);\n",
       "}\n",
       "#T_5aef9_row4_col9 {\n",
       "  width: 10em;\n",
       "  background: linear-gradient(90deg, #d65f5f 100.0%, transparent 100.0%);\n",
       "}\n",
       "#T_5aef9_row5_col7, #T_5aef9_row6_col3, #T_5aef9_row6_col4, #T_5aef9_row6_col5, #T_5aef9_row6_col6, #T_5aef9_row6_col8 {\n",
       "  background-color: #ccdff1;\n",
       "  color: #000000;\n",
       "}\n",
       "#T_5aef9_row5_col9 {\n",
       "  width: 10em;\n",
       "  background: linear-gradient(90deg, #d65f5f 41.6%, transparent 41.6%);\n",
       "}\n",
       "#T_5aef9_row6_col9 {\n",
       "  width: 10em;\n",
       "  background: linear-gradient(90deg, #d65f5f 5.5%, transparent 5.5%);\n",
       "}\n",
       "</style>\n",
       "<table id=\"T_5aef9\">\n",
       "  <thead>\n",
       "    <tr>\n",
       "      <th class=\"blank level0\" >&nbsp;</th>\n",
       "      <th id=\"T_5aef9_level0_col0\" class=\"col_heading level0 col0\" >model</th>\n",
       "      <th id=\"T_5aef9_level0_col1\" class=\"col_heading level0 col1\" >params</th>\n",
       "      <th id=\"T_5aef9_level0_col2\" class=\"col_heading level0 col2\" >n_folds</th>\n",
       "      <th id=\"T_5aef9_level0_col3\" class=\"col_heading level0 col3\" >MAE_mean</th>\n",
       "      <th id=\"T_5aef9_level0_col4\" class=\"col_heading level0 col4\" >MAE_std</th>\n",
       "      <th id=\"T_5aef9_level0_col5\" class=\"col_heading level0 col5\" >RMSE_mean</th>\n",
       "      <th id=\"T_5aef9_level0_col6\" class=\"col_heading level0 col6\" >RMSE_std</th>\n",
       "      <th id=\"T_5aef9_level0_col7\" class=\"col_heading level0 col7\" >R2_mean</th>\n",
       "      <th id=\"T_5aef9_level0_col8\" class=\"col_heading level0 col8\" >R2_std</th>\n",
       "      <th id=\"T_5aef9_level0_col9\" class=\"col_heading level0 col9\" >time</th>\n",
       "    </tr>\n",
       "  </thead>\n",
       "  <tbody>\n",
       "    <tr>\n",
       "      <th id=\"T_5aef9_level0_row0\" class=\"row_heading level0 row0\" >0</th>\n",
       "      <td id=\"T_5aef9_row0_col0\" class=\"data row0 col0\" >LinearRegression</td>\n",
       "      <td id=\"T_5aef9_row0_col1\" class=\"data row0 col1\" ></td>\n",
       "      <td id=\"T_5aef9_row0_col2\" class=\"data row0 col2\" >5</td>\n",
       "      <td id=\"T_5aef9_row0_col3\" class=\"data row0 col3\" >2938</td>\n",
       "      <td id=\"T_5aef9_row0_col4\" class=\"data row0 col4\" >241</td>\n",
       "      <td id=\"T_5aef9_row0_col5\" class=\"data row0 col5\" >4534</td>\n",
       "      <td id=\"T_5aef9_row0_col6\" class=\"data row0 col6\" >553</td>\n",
       "      <td id=\"T_5aef9_row0_col7\" class=\"data row0 col7\" >0.837</td>\n",
       "      <td id=\"T_5aef9_row0_col8\" class=\"data row0 col8\" >0.036</td>\n",
       "      <td id=\"T_5aef9_row0_col9\" class=\"data row0 col9\" >0.1</td>\n",
       "    </tr>\n",
       "    <tr>\n",
       "      <th id=\"T_5aef9_level0_row1\" class=\"row_heading level0 row1\" >1</th>\n",
       "      <td id=\"T_5aef9_row1_col0\" class=\"data row1 col0\" >Lasso</td>\n",
       "      <td id=\"T_5aef9_row1_col1\" class=\"data row1 col1\" ></td>\n",
       "      <td id=\"T_5aef9_row1_col2\" class=\"data row1 col2\" >5</td>\n",
       "      <td id=\"T_5aef9_row1_col3\" class=\"data row1 col3\" >2935</td>\n",
       "      <td id=\"T_5aef9_row1_col4\" class=\"data row1 col4\" >239</td>\n",
       "      <td id=\"T_5aef9_row1_col5\" class=\"data row1 col5\" >4527</td>\n",
       "      <td id=\"T_5aef9_row1_col6\" class=\"data row1 col6\" >547</td>\n",
       "      <td id=\"T_5aef9_row1_col7\" class=\"data row1 col7\" >0.838</td>\n",
       "      <td id=\"T_5aef9_row1_col8\" class=\"data row1 col8\" >0.036</td>\n",
       "      <td id=\"T_5aef9_row1_col9\" class=\"data row1 col9\" >1.1</td>\n",
       "    </tr>\n",
       "    <tr>\n",
       "      <th id=\"T_5aef9_level0_row2\" class=\"row_heading level0 row2\" >2</th>\n",
       "      <td id=\"T_5aef9_row2_col0\" class=\"data row2 col0\" >Ridge</td>\n",
       "      <td id=\"T_5aef9_row2_col1\" class=\"data row2 col1\" ></td>\n",
       "      <td id=\"T_5aef9_row2_col2\" class=\"data row2 col2\" >5</td>\n",
       "      <td id=\"T_5aef9_row2_col3\" class=\"data row2 col3\" >2936</td>\n",
       "      <td id=\"T_5aef9_row2_col4\" class=\"data row2 col4\" >239</td>\n",
       "      <td id=\"T_5aef9_row2_col5\" class=\"data row2 col5\" >4530</td>\n",
       "      <td id=\"T_5aef9_row2_col6\" class=\"data row2 col6\" >542</td>\n",
       "      <td id=\"T_5aef9_row2_col7\" class=\"data row2 col7\" >0.838</td>\n",
       "      <td id=\"T_5aef9_row2_col8\" class=\"data row2 col8\" >0.035</td>\n",
       "      <td id=\"T_5aef9_row2_col9\" class=\"data row2 col9\" >0.1</td>\n",
       "    </tr>\n",
       "    <tr>\n",
       "      <th id=\"T_5aef9_level0_row3\" class=\"row_heading level0 row3\" >3</th>\n",
       "      <td id=\"T_5aef9_row3_col0\" class=\"data row3 col0\" >DecisionTreeRegressor</td>\n",
       "      <td id=\"T_5aef9_row3_col1\" class=\"data row3 col1\" ></td>\n",
       "      <td id=\"T_5aef9_row3_col2\" class=\"data row3 col2\" >5</td>\n",
       "      <td id=\"T_5aef9_row3_col3\" class=\"data row3 col3\" >2381</td>\n",
       "      <td id=\"T_5aef9_row3_col4\" class=\"data row3 col4\" >235</td>\n",
       "      <td id=\"T_5aef9_row3_col5\" class=\"data row3 col5\" >3581</td>\n",
       "      <td id=\"T_5aef9_row3_col6\" class=\"data row3 col6\" >419</td>\n",
       "      <td id=\"T_5aef9_row3_col7\" class=\"data row3 col7\" >0.899</td>\n",
       "      <td id=\"T_5aef9_row3_col8\" class=\"data row3 col8\" >0.020</td>\n",
       "      <td id=\"T_5aef9_row3_col9\" class=\"data row3 col9\" >0.2</td>\n",
       "    </tr>\n",
       "    <tr>\n",
       "      <th id=\"T_5aef9_level0_row4\" class=\"row_heading level0 row4\" >4</th>\n",
       "      <td id=\"T_5aef9_row4_col0\" class=\"data row4 col0\" >RandomForestRegressor</td>\n",
       "      <td id=\"T_5aef9_row4_col1\" class=\"data row4 col1\" >'n_estimators': 200</td>\n",
       "      <td id=\"T_5aef9_row4_col2\" class=\"data row4 col2\" >5</td>\n",
       "      <td id=\"T_5aef9_row4_col3\" class=\"data row4 col3\" >1966</td>\n",
       "      <td id=\"T_5aef9_row4_col4\" class=\"data row4 col4\" >207</td>\n",
       "      <td id=\"T_5aef9_row4_col5\" class=\"data row4 col5\" >3001</td>\n",
       "      <td id=\"T_5aef9_row4_col6\" class=\"data row4 col6\" >367</td>\n",
       "      <td id=\"T_5aef9_row4_col7\" class=\"data row4 col7\" >0.929</td>\n",
       "      <td id=\"T_5aef9_row4_col8\" class=\"data row4 col8\" >0.015</td>\n",
       "      <td id=\"T_5aef9_row4_col9\" class=\"data row4 col9\" >16.1</td>\n",
       "    </tr>\n",
       "    <tr>\n",
       "      <th id=\"T_5aef9_level0_row5\" class=\"row_heading level0 row5\" >5</th>\n",
       "      <td id=\"T_5aef9_row5_col0\" class=\"data row5 col0\" >AdaBoostRegressor</td>\n",
       "      <td id=\"T_5aef9_row5_col1\" class=\"data row5 col1\" >'n_estimators': 200</td>\n",
       "      <td id=\"T_5aef9_row5_col2\" class=\"data row5 col2\" >5</td>\n",
       "      <td id=\"T_5aef9_row5_col3\" class=\"data row5 col3\" >5794</td>\n",
       "      <td id=\"T_5aef9_row5_col4\" class=\"data row5 col4\" >543</td>\n",
       "      <td id=\"T_5aef9_row5_col5\" class=\"data row5 col5\" >6745</td>\n",
       "      <td id=\"T_5aef9_row5_col6\" class=\"data row5 col6\" >511</td>\n",
       "      <td id=\"T_5aef9_row5_col7\" class=\"data row5 col7\" >0.636</td>\n",
       "      <td id=\"T_5aef9_row5_col8\" class=\"data row5 col8\" >0.078</td>\n",
       "      <td id=\"T_5aef9_row5_col9\" class=\"data row5 col9\" >6.7</td>\n",
       "    </tr>\n",
       "    <tr>\n",
       "      <th id=\"T_5aef9_level0_row6\" class=\"row_heading level0 row6\" >6</th>\n",
       "      <td id=\"T_5aef9_row6_col0\" class=\"data row6 col0\" >LGBMRegressor</td>\n",
       "      <td id=\"T_5aef9_row6_col1\" class=\"data row6 col1\" >'n_estimators': 200</td>\n",
       "      <td id=\"T_5aef9_row6_col2\" class=\"data row6 col2\" >5</td>\n",
       "      <td id=\"T_5aef9_row6_col3\" class=\"data row6 col3\" >1834</td>\n",
       "      <td id=\"T_5aef9_row6_col4\" class=\"data row6 col4\" >191</td>\n",
       "      <td id=\"T_5aef9_row6_col5\" class=\"data row6 col5\" >2802</td>\n",
       "      <td id=\"T_5aef9_row6_col6\" class=\"data row6 col6\" >330</td>\n",
       "      <td id=\"T_5aef9_row6_col7\" class=\"data row6 col7\" >0.938</td>\n",
       "      <td id=\"T_5aef9_row6_col8\" class=\"data row6 col8\" >0.013</td>\n",
       "      <td id=\"T_5aef9_row6_col9\" class=\"data row6 col9\" >0.9</td>\n",
       "    </tr>\n",
       "  </tbody>\n",
       "</table>\n"
      ],
      "text/plain": [
       "<pandas.io.formats.style.Styler at 0x7fadc2c67cd0>"
      ]
     },
     "metadata": {},
     "output_type": "display_data"
    }
   ],
   "source": [
    "n_est_list = [200]\n",
    "models_and_params = [\n",
    "    (LinearRegression, {}),\n",
    "    (Lasso, {'random_state': RS}),\n",
    "    (Ridge, {'random_state': RS}),\n",
    "    (DecisionTreeRegressor, {}),\n",
    "    *[ (RandomForestRegressor,         {'random_state': RS, 'n_estimators': n_e}) for n_e in n_est_list ],\n",
    "    *[ (AdaBoostRegressor,         {'random_state': RS, 'n_estimators': n_e}) for n_e in  n_est_list],\n",
    "    *[ (LGBMRegressor,         {'random_state': RS, 'n_estimators': n_e}) for n_e in n_est_list ],\n",
    "]\n",
    "cv = KFold(5)\n",
    "metrics = [ mae, RMSE, r2]\n",
    "\n",
    "r = t.grid_exec(\n",
    "    lambda model: m.cv_regression(model, cv, X, y, metrics), \n",
    "    models_and_params, \n",
    "    on1Completed = lambda r: m.display_stats(r)\n",
    ")\n"
   ]
  },
  {
   "cell_type": "code",
   "execution_count": null,
   "id": "f815ad64-fba4-4c81-9a83-89ac72ac6cf6",
   "metadata": {},
   "outputs": [],
   "source": []
  }
 ],
 "metadata": {
  "kernelspec": {
   "display_name": "Python 3 (ipykernel)",
   "language": "python",
   "name": "python3"
  },
  "language_info": {
   "codemirror_mode": {
    "name": "ipython",
    "version": 3
   },
   "file_extension": ".py",
   "mimetype": "text/x-python",
   "name": "python",
   "nbconvert_exporter": "python",
   "pygments_lexer": "ipython3",
   "version": "3.10.5"
  }
 },
 "nbformat": 4,
 "nbformat_minor": 5
}
