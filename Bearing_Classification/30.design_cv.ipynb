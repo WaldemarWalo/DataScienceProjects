{
 "cells": [
  {
   "cell_type": "code",
   "execution_count": 1,
   "id": "190c22ee-9b0d-4a13-ab96-364d0ee5d65c",
   "metadata": {},
   "outputs": [
    {
     "name": "stdout",
     "output_type": "stream",
     "text": [
      "transformations loaded, version: 0.1\n",
      "framework loaded, version: 0.1\n"
     ]
    }
   ],
   "source": [
    "%load_ext autoreload\n",
    "%autoreload 1\n",
    "%aimport transformations\n",
    "\n",
    "%aimport transformations\n",
    "%aimport f"
   ]
  },
  {
   "cell_type": "code",
   "execution_count": 2,
   "id": "6db99e2d-f204-4d1d-a4f5-06da60ffa865",
   "metadata": {},
   "outputs": [],
   "source": [
    "from IPython.core.interactiveshell import InteractiveShell\n",
    "InteractiveShell.ast_node_interactivity = 'all'\n",
    "from IPython.display import clear_output\n",
    "\n",
    "import numpy as np\n",
    "import pandas as pd\n",
    "pd.options.display.max_columns = None\n",
    "pd.options.display.max_colwidth = 999\n",
    "pd.options.display.max_rows = 113\n",
    "\n",
    "import matplotlib.pyplot as plt\n",
    "\n",
    "import seaborn as sns\n",
    "from sklearn.preprocessing import StandardScaler, PowerTransformer\n",
    "\n",
    "from sklearn.cluster import KMeans\n",
    "from sklearn.mixture import GaussianMixture, BayesianGaussianMixture\n",
    "\n",
    "RS = 35577 # global random state seed\n",
    "data_path = './data-raw/'"
   ]
  },
  {
   "cell_type": "code",
   "execution_count": 3,
   "id": "f5dd40ff-4b18-4c30-85b4-f178f25e1a1a",
   "metadata": {},
   "outputs": [
    {
     "data": {
      "text/plain": [
       "(200, 36)"
      ]
     },
     "execution_count": 3,
     "metadata": {},
     "output_type": "execute_result"
    },
    {
     "data": {
      "text/plain": [
       "Index(['x__amin', 'x__amax', 'x__sum', 'x__median', 'x__mean', 'x__std',\n",
       "       'x__var', 'x__q1', 'x__q3', 'x__iqr', 'x__kurtosis', 'x__skew',\n",
       "       'y__amin', 'y__amax', 'y__sum', 'y__median', 'y__mean', 'y__std',\n",
       "       'y__var', 'y__q1', 'y__q3', 'y__iqr', 'y__kurtosis', 'y__skew',\n",
       "       'z__amin', 'z__amax', 'z__sum', 'z__median', 'z__mean', 'z__std',\n",
       "       'z__var', 'z__q1', 'z__q3', 'z__iqr', 'z__kurtosis', 'z__skew'],\n",
       "      dtype='object')"
      ]
     },
     "execution_count": 3,
     "metadata": {},
     "output_type": "execute_result"
    },
    {
     "data": {
      "text/plain": [
       "(200,)"
      ]
     },
     "execution_count": 3,
     "metadata": {},
     "output_type": "execute_result"
    },
    {
     "data": {
      "text/plain": [
       "1    100\n",
       "0    100\n",
       "Name: status, dtype: int64"
      ]
     },
     "execution_count": 3,
     "metadata": {},
     "output_type": "execute_result"
    }
   ],
   "source": [
    "(X, y) = f.from_pkl(f'data-processed/all_b1_b2.data.pkl')\n",
    "\n",
    "X.shape\n",
    "X.columns\n",
    "\n",
    "y.shape\n",
    "y.value_counts()"
   ]
  },
  {
   "cell_type": "markdown",
   "id": "d65fe56a-a099-4f2b-a62a-12d88c51baa4",
   "metadata": {},
   "source": [
    "# CV"
   ]
  },
  {
   "cell_type": "code",
   "execution_count": null,
   "id": "288ae4c1-e90a-4a69-bef3-44a6d62cbaec",
   "metadata": {},
   "outputs": [],
   "source": [
    "from sklearn.model_selection import KFold, StratifiedKFold\n",
    "from sklearn.metrics import roc_auc_score"
   ]
  },
  {
   "cell_type": "code",
   "execution_count": 4,
   "id": "e9a66382-a55f-4f7c-9497-5bfd1b4ff284",
   "metadata": {},
   "outputs": [
    {
     "ename": "SyntaxError",
     "evalue": "invalid syntax (3267108278.py, line 1)",
     "output_type": "error",
     "traceback": [
      "\u001b[0;36m  Input \u001b[0;32mIn [4]\u001b[0;36m\u001b[0m\n\u001b[0;31m    https://scikit-learn.org/stable/auto_examples/model_selection/plot_cv_indices.html\u001b[0m\n\u001b[0m          ^\u001b[0m\n\u001b[0;31mSyntaxError\u001b[0m\u001b[0;31m:\u001b[0m invalid syntax\n"
     ]
    }
   ],
   "source": [
    "https://scikit-learn.org/stable/auto_examples/model_selection/plot_cv_indices.html"
   ]
  },
  {
   "cell_type": "code",
   "execution_count": null,
   "id": "95624b73-fdfa-49d1-96a7-260b096c6680",
   "metadata": {},
   "outputs": [],
   "source": [
    "folds_n = 5\n",
    "for i_fold, (idx_train, idx_test) in enumerate(StratifiedKFold(n_splits=folds_n, shuffle=True, random_state=get_random()).split(X, y, y)):\n",
    "    X_train, y_train = X.iloc[idx_train], y.iloc[idx_train]\n",
    "    X_test, y_test = X.iloc[idx_test], y.iloc[idx_test]"
   ]
  },
  {
   "cell_type": "code",
   "execution_count": null,
   "id": "47372355-a1a5-4904-88cc-4021267b8caf",
   "metadata": {},
   "outputs": [],
   "source": [
    "def cross_val(model_factory, X, y, cv_repeat_n = 1, model_repeat_n = 1, folds_n = 7):\n",
    "    np.random.seed(RS)\n",
    "    get_random = lambda  : np.random.randint(1, 10000)\n",
    "    cv_scores = []\n",
    "    \n",
    "    for i_cv in range(cv_repeat_n):\n",
    "        fold_scores = []\n",
    "        cv_scores.append(fold_scores)\n",
    "        \n",
    "        for i_fold, (idx_train, idx_test) in enumerate(StratifiedKFold(n_splits=folds_n, shuffle=True, random_state=get_random()).split(X, y, y)):\n",
    "            \n",
    "            X_train, y_train = X.iloc[idx_train], y.iloc[idx_train]\n",
    "            X_test, y_test = X.iloc[idx_test], y.iloc[idx_test]\n",
    "            \n",
    "            model_scores = []\n",
    "            fold_scores.append(model_scores)\n",
    "\n",
    "            for i_model in range(model_repeat_n):\n",
    "                rand = get_random()\n",
    "                constructor, params_dic = model_factory(rand)\n",
    "                \n",
    "                model = constructor(**params_dic)\n",
    "                # model = model_factory(get_random())\n",
    "                model.fit(X_train, y_train)\n",
    "\n",
    "                y_pred = model.predict_proba(X_test)[:, 1]\n",
    "                score = roc_auc_score(y_test, y_pred)\n",
    "                model_scores.append(score)\n",
    "                \n",
    "            model_name = model.__class__.__name__\n",
    "            model_params = params_dic.copy()\n",
    "                \n",
    "    return model_name, model_params, cv_repeat_n, folds_n, model_repeat_n, np.array(cv_scores)"
   ]
  }
 ],
 "metadata": {
  "kernelspec": {
   "display_name": "Python 3 (ipykernel)",
   "language": "python",
   "name": "python3"
  },
  "language_info": {
   "codemirror_mode": {
    "name": "ipython",
    "version": 3
   },
   "file_extension": ".py",
   "mimetype": "text/x-python",
   "name": "python",
   "nbconvert_exporter": "python",
   "pygments_lexer": "ipython3",
   "version": "3.10.5"
  }
 },
 "nbformat": 4,
 "nbformat_minor": 5
}
