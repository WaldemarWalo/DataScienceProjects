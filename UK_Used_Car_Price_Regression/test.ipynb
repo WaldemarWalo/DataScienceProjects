{
 "cells": [
  {
   "cell_type": "code",
   "execution_count": 1,
   "id": "b25735f2-86db-4c75-b4b2-f2aedca8a597",
   "metadata": {},
   "outputs": [],
   "source": [
    "import sys\n",
    "if '../Toolkit' not in sys.path: sys.path.append('../Toolkit')"
   ]
  },
  {
   "cell_type": "code",
   "execution_count": null,
   "id": "de46d031-c8b1-47bd-b458-bc4e2e75be34",
   "metadata": {},
   "outputs": [],
   "source": []
  },
  {
   "cell_type": "code",
   "execution_count": 2,
   "id": "34409f5a-5f9c-44f8-b399-141932163d5d",
   "metadata": {},
   "outputs": [
    {
     "name": "stdout",
     "output_type": "stream",
     "text": [
      "Version 1\n"
     ]
    }
   ],
   "source": [
    "%load_ext autoreload\n",
    "%autoreload 1\n",
    "\n",
    "%aimport tst\n",
    "import tst as t"
   ]
  },
  {
   "cell_type": "code",
   "execution_count": null,
   "id": "1d6ec365-906c-45e8-9ba0-56894fde7ae1",
   "metadata": {},
   "outputs": [],
   "source": []
  }
 ],
 "metadata": {
  "kernelspec": {
   "display_name": "Python 3 (ipykernel)",
   "language": "python",
   "name": "python3"
  },
  "language_info": {
   "codemirror_mode": {
    "name": "ipython",
    "version": 3
   },
   "file_extension": ".py",
   "mimetype": "text/x-python",
   "name": "python",
   "nbconvert_exporter": "python",
   "pygments_lexer": "ipython3",
   "version": "3.10.5"
  }
 },
 "nbformat": 4,
 "nbformat_minor": 5
}
