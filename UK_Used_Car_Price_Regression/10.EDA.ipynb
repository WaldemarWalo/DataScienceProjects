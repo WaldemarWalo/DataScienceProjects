{
 "cells": [
  {
   "cell_type": "code",
   "execution_count": 115,
   "id": "2e1da071-20bb-4224-bba4-7fc474322d85",
   "metadata": {},
   "outputs": [
    {
     "name": "stdout",
     "output_type": "stream",
     "text": [
      "The autoreload extension is already loaded. To reload it, use:\n",
      "  %reload_ext autoreload\n"
     ]
    }
   ],
   "source": [
    "%load_ext autoreload\n",
    "%autoreload 1\n",
    "# %aimport transformations\n",
    "# %aimport f\n",
    "\n",
    "from pathlib import Path\n",
    "\n",
    "from IPython.core.interactiveshell import InteractiveShell\n",
    "InteractiveShell.ast_node_interactivity = 'all'\n",
    "\n",
    "import numpy as np\n",
    "import pandas as pd\n",
    "pd.options.display.max_columns = None\n",
    "pd.options.display.max_colwidth = 999\n",
    "pd.options.display.max_rows = 113\n",
    "\n",
    "import matplotlib.pyplot as plt\n",
    "\n",
    "import seaborn as sns\n",
    "from sklearn.preprocessing import Normalizer, StandardScaler, PowerTransformer\n",
    "\n",
    "from sklearn.cluster import KMeans\n",
    "from sklearn.mixture import GaussianMixture, BayesianGaussianMixture\n",
    "\n",
    "RS = 35577 # global random state seed\n",
    "raw_data_dir_path = './data-raw'\n",
    "\n",
    "# data_csv_path = f'{raw_data_dir_path}/bearing_signals.csv'\n",
    "# lbls_csv_path = f'{raw_data_dir_path}/bearing_classes.csv'"
   ]
  },
  {
   "cell_type": "code",
   "execution_count": 83,
   "id": "7803260c-f989-4dda-aca1-bec722b4d4ec",
   "metadata": {},
   "outputs": [
    {
     "data": {
      "text/plain": [
       "[PosixPath('data-raw/audi.csv'),\n",
       " PosixPath('data-raw/bmw.csv'),\n",
       " PosixPath('data-raw/cclass.csv'),\n",
       " PosixPath('data-raw/focus.csv'),\n",
       " PosixPath('data-raw/ford.csv'),\n",
       " PosixPath('data-raw/hyundi.csv'),\n",
       " PosixPath('data-raw/merc.csv'),\n",
       " PosixPath('data-raw/skoda.csv'),\n",
       " PosixPath('data-raw/toyota.csv'),\n",
       " PosixPath('data-raw/unclean cclass.csv'),\n",
       " PosixPath('data-raw/unclean focus.csv'),\n",
       " PosixPath('data-raw/vauxhall.csv'),\n",
       " PosixPath('data-raw/vw.csv')]"
      ]
     },
     "execution_count": 83,
     "metadata": {},
     "output_type": "execute_result"
    }
   ],
   "source": [
    "data_file_paths = [f for f in Path(f'{raw_data_dir_path}').iterdir()]\n",
    "data_file_paths\n",
    "\n",
    "all_df_and_name = [(pd.read_csv(csv_path), csv_path.name) for csv_path in data_file_paths]"
   ]
  },
  {
   "cell_type": "code",
   "execution_count": 84,
   "id": "a0b54696-1572-43ff-a57d-c595e828b38f",
   "metadata": {},
   "outputs": [
    {
     "data": {
      "text/plain": [
       "('audi.csv', (10668, 9))"
      ]
     },
     "execution_count": 84,
     "metadata": {},
     "output_type": "execute_result"
    },
    {
     "data": {
      "text/plain": [
       "('bmw.csv', (10781, 9))"
      ]
     },
     "execution_count": 84,
     "metadata": {},
     "output_type": "execute_result"
    },
    {
     "data": {
      "text/plain": [
       "('cclass.csv', (3899, 7))"
      ]
     },
     "execution_count": 84,
     "metadata": {},
     "output_type": "execute_result"
    },
    {
     "data": {
      "text/plain": [
       "('focus.csv', (5454, 7))"
      ]
     },
     "execution_count": 84,
     "metadata": {},
     "output_type": "execute_result"
    },
    {
     "data": {
      "text/plain": [
       "('ford.csv', (17965, 9))"
      ]
     },
     "execution_count": 84,
     "metadata": {},
     "output_type": "execute_result"
    },
    {
     "data": {
      "text/plain": [
       "('hyundi.csv', (4860, 9))"
      ]
     },
     "execution_count": 84,
     "metadata": {},
     "output_type": "execute_result"
    },
    {
     "data": {
      "text/plain": [
       "('merc.csv', (13119, 9))"
      ]
     },
     "execution_count": 84,
     "metadata": {},
     "output_type": "execute_result"
    },
    {
     "data": {
      "text/plain": [
       "('skoda.csv', (6267, 9))"
      ]
     },
     "execution_count": 84,
     "metadata": {},
     "output_type": "execute_result"
    },
    {
     "data": {
      "text/plain": [
       "('toyota.csv', (6738, 9))"
      ]
     },
     "execution_count": 84,
     "metadata": {},
     "output_type": "execute_result"
    },
    {
     "data": {
      "text/plain": [
       "('unclean cclass.csv', (4006, 11))"
      ]
     },
     "execution_count": 84,
     "metadata": {},
     "output_type": "execute_result"
    },
    {
     "data": {
      "text/plain": [
       "('unclean focus.csv', (5604, 11))"
      ]
     },
     "execution_count": 84,
     "metadata": {},
     "output_type": "execute_result"
    },
    {
     "data": {
      "text/plain": [
       "('vauxhall.csv', (13632, 9))"
      ]
     },
     "execution_count": 84,
     "metadata": {},
     "output_type": "execute_result"
    },
    {
     "data": {
      "text/plain": [
       "('vw.csv', (15157, 9))"
      ]
     },
     "execution_count": 84,
     "metadata": {},
     "output_type": "execute_result"
    }
   ],
   "source": [
    "for df, name in all_df_and_name:\n",
    "    name, df.shape"
   ]
  },
  {
   "cell_type": "code",
   "execution_count": 85,
   "id": "e82e6a02-38bf-4880-8b47-7668b36d03e8",
   "metadata": {},
   "outputs": [],
   "source": [
    "all_desc = []\n",
    "for df, name in all_df_and_name:\n",
    "    s = (~df.isna()).sum()\n",
    "    s.name = name\n",
    "    all_desc.append(s)\n"
   ]
  },
  {
   "cell_type": "code",
   "execution_count": 91,
   "id": "21096dac-7d96-4872-993c-094f13d33e07",
   "metadata": {},
   "outputs": [
    {
     "data": {
      "text/html": [
       "<style type=\"text/css\">\n",
       "#T_7f562_row0_col0, #T_7f562_row0_col1, #T_7f562_row0_col2, #T_7f562_row0_col3, #T_7f562_row0_col4, #T_7f562_row0_col5, #T_7f562_row0_col6, #T_7f562_row0_col7, #T_7f562_row0_col8, #T_7f562_row0_col9, #T_7f562_row0_col10, #T_7f562_row0_col11, #T_7f562_row0_col12, #T_7f562_row1_col0, #T_7f562_row1_col1, #T_7f562_row1_col2, #T_7f562_row1_col3, #T_7f562_row1_col4, #T_7f562_row1_col5, #T_7f562_row1_col6, #T_7f562_row1_col7, #T_7f562_row1_col8, #T_7f562_row1_col9, #T_7f562_row1_col11, #T_7f562_row1_col12, #T_7f562_row2_col0, #T_7f562_row2_col1, #T_7f562_row2_col2, #T_7f562_row2_col3, #T_7f562_row2_col4, #T_7f562_row2_col5, #T_7f562_row2_col6, #T_7f562_row2_col7, #T_7f562_row2_col8, #T_7f562_row2_col9, #T_7f562_row2_col10, #T_7f562_row2_col11, #T_7f562_row2_col12, #T_7f562_row3_col0, #T_7f562_row3_col1, #T_7f562_row3_col2, #T_7f562_row3_col3, #T_7f562_row3_col4, #T_7f562_row3_col5, #T_7f562_row3_col6, #T_7f562_row3_col7, #T_7f562_row3_col8, #T_7f562_row3_col9, #T_7f562_row3_col10, #T_7f562_row3_col11, #T_7f562_row3_col12, #T_7f562_row4_col0, #T_7f562_row4_col1, #T_7f562_row4_col2, #T_7f562_row4_col3, #T_7f562_row4_col4, #T_7f562_row4_col5, #T_7f562_row4_col6, #T_7f562_row4_col7, #T_7f562_row4_col8, #T_7f562_row4_col11, #T_7f562_row4_col12, #T_7f562_row5_col0, #T_7f562_row5_col1, #T_7f562_row5_col2, #T_7f562_row5_col3, #T_7f562_row5_col4, #T_7f562_row5_col5, #T_7f562_row5_col6, #T_7f562_row5_col7, #T_7f562_row5_col8, #T_7f562_row5_col11, #T_7f562_row5_col12, #T_7f562_row6_col0, #T_7f562_row6_col1, #T_7f562_row6_col4, #T_7f562_row6_col6, #T_7f562_row6_col7, #T_7f562_row6_col8, #T_7f562_row6_col11, #T_7f562_row6_col12, #T_7f562_row7_col0, #T_7f562_row7_col1, #T_7f562_row7_col4, #T_7f562_row7_col5, #T_7f562_row7_col6, #T_7f562_row7_col7, #T_7f562_row7_col8, #T_7f562_row7_col11, #T_7f562_row7_col12, #T_7f562_row8_col0, #T_7f562_row8_col1, #T_7f562_row8_col2, #T_7f562_row8_col3, #T_7f562_row8_col4, #T_7f562_row8_col5, #T_7f562_row8_col6, #T_7f562_row8_col7, #T_7f562_row8_col8, #T_7f562_row8_col11, #T_7f562_row8_col12, #T_7f562_row9_col5, #T_7f562_row15_col9, #T_7f562_row15_col10 {\n",
       "  background-color: #08306b;\n",
       "  color: #f1f1f1;\n",
       "}\n",
       "#T_7f562_row1_col10, #T_7f562_row11_col9 {\n",
       "  background-color: #083471;\n",
       "  color: #f1f1f1;\n",
       "}\n",
       "#T_7f562_row4_col9, #T_7f562_row13_col9, #T_7f562_row14_col9 {\n",
       "  background-color: #083674;\n",
       "  color: #f1f1f1;\n",
       "}\n",
       "#T_7f562_row4_col10, #T_7f562_row13_col10, #T_7f562_row14_col10 {\n",
       "  background-color: #0c56a0;\n",
       "  color: #f1f1f1;\n",
       "}\n",
       "#T_7f562_row5_col9, #T_7f562_row5_col10, #T_7f562_row6_col2, #T_7f562_row6_col3, #T_7f562_row6_col5, #T_7f562_row6_col9, #T_7f562_row6_col10, #T_7f562_row7_col2, #T_7f562_row7_col3, #T_7f562_row7_col9, #T_7f562_row7_col10, #T_7f562_row8_col9, #T_7f562_row8_col10, #T_7f562_row9_col0, #T_7f562_row9_col1, #T_7f562_row9_col2, #T_7f562_row9_col3, #T_7f562_row9_col4, #T_7f562_row9_col6, #T_7f562_row9_col7, #T_7f562_row9_col8, #T_7f562_row9_col9, #T_7f562_row9_col10, #T_7f562_row9_col11, #T_7f562_row9_col12, #T_7f562_row10_col0, #T_7f562_row10_col1, #T_7f562_row10_col2, #T_7f562_row10_col3, #T_7f562_row10_col4, #T_7f562_row10_col5, #T_7f562_row10_col6, #T_7f562_row10_col7, #T_7f562_row10_col8, #T_7f562_row10_col11, #T_7f562_row10_col12, #T_7f562_row11_col0, #T_7f562_row11_col1, #T_7f562_row11_col2, #T_7f562_row11_col3, #T_7f562_row11_col4, #T_7f562_row11_col5, #T_7f562_row11_col6, #T_7f562_row11_col7, #T_7f562_row11_col8, #T_7f562_row11_col11, #T_7f562_row11_col12, #T_7f562_row12_col0, #T_7f562_row12_col1, #T_7f562_row12_col2, #T_7f562_row12_col3, #T_7f562_row12_col4, #T_7f562_row12_col5, #T_7f562_row12_col6, #T_7f562_row12_col7, #T_7f562_row12_col8, #T_7f562_row12_col11, #T_7f562_row12_col12, #T_7f562_row13_col0, #T_7f562_row13_col1, #T_7f562_row13_col2, #T_7f562_row13_col3, #T_7f562_row13_col4, #T_7f562_row13_col5, #T_7f562_row13_col6, #T_7f562_row13_col7, #T_7f562_row13_col8, #T_7f562_row13_col11, #T_7f562_row13_col12, #T_7f562_row14_col0, #T_7f562_row14_col1, #T_7f562_row14_col2, #T_7f562_row14_col3, #T_7f562_row14_col4, #T_7f562_row14_col5, #T_7f562_row14_col6, #T_7f562_row14_col7, #T_7f562_row14_col8, #T_7f562_row14_col11, #T_7f562_row14_col12, #T_7f562_row15_col0, #T_7f562_row15_col1, #T_7f562_row15_col2, #T_7f562_row15_col3, #T_7f562_row15_col4, #T_7f562_row15_col5, #T_7f562_row15_col6, #T_7f562_row15_col7, #T_7f562_row15_col8, #T_7f562_row15_col11, #T_7f562_row15_col12 {\n",
       "  background-color: #000000;\n",
       "  color: #f1f1f1;\n",
       "}\n",
       "#T_7f562_row10_col9 {\n",
       "  background-color: #a9cfe5;\n",
       "  color: #000000;\n",
       "}\n",
       "#T_7f562_row10_col10 {\n",
       "  background-color: #95c5df;\n",
       "  color: #000000;\n",
       "}\n",
       "#T_7f562_row11_col10 {\n",
       "  background-color: #08326e;\n",
       "  color: #f1f1f1;\n",
       "}\n",
       "#T_7f562_row12_col9, #T_7f562_row12_col10 {\n",
       "  background-color: #08316d;\n",
       "  color: #f1f1f1;\n",
       "}\n",
       "</style>\n",
       "<table id=\"T_7f562\">\n",
       "  <thead>\n",
       "    <tr>\n",
       "      <th class=\"blank level0\" >&nbsp;</th>\n",
       "      <th id=\"T_7f562_level0_col0\" class=\"col_heading level0 col0\" >audi.csv</th>\n",
       "      <th id=\"T_7f562_level0_col1\" class=\"col_heading level0 col1\" >bmw.csv</th>\n",
       "      <th id=\"T_7f562_level0_col2\" class=\"col_heading level0 col2\" >cclass.csv</th>\n",
       "      <th id=\"T_7f562_level0_col3\" class=\"col_heading level0 col3\" >focus.csv</th>\n",
       "      <th id=\"T_7f562_level0_col4\" class=\"col_heading level0 col4\" >ford.csv</th>\n",
       "      <th id=\"T_7f562_level0_col5\" class=\"col_heading level0 col5\" >hyundi.csv</th>\n",
       "      <th id=\"T_7f562_level0_col6\" class=\"col_heading level0 col6\" >merc.csv</th>\n",
       "      <th id=\"T_7f562_level0_col7\" class=\"col_heading level0 col7\" >skoda.csv</th>\n",
       "      <th id=\"T_7f562_level0_col8\" class=\"col_heading level0 col8\" >toyota.csv</th>\n",
       "      <th id=\"T_7f562_level0_col9\" class=\"col_heading level0 col9\" >unclean cclass.csv</th>\n",
       "      <th id=\"T_7f562_level0_col10\" class=\"col_heading level0 col10\" >unclean focus.csv</th>\n",
       "      <th id=\"T_7f562_level0_col11\" class=\"col_heading level0 col11\" >vauxhall.csv</th>\n",
       "      <th id=\"T_7f562_level0_col12\" class=\"col_heading level0 col12\" >vw.csv</th>\n",
       "    </tr>\n",
       "  </thead>\n",
       "  <tbody>\n",
       "    <tr>\n",
       "      <th id=\"T_7f562_level0_row0\" class=\"row_heading level0 row0\" >model</th>\n",
       "      <td id=\"T_7f562_row0_col0\" class=\"data row0 col0\" >10668</td>\n",
       "      <td id=\"T_7f562_row0_col1\" class=\"data row0 col1\" >10781</td>\n",
       "      <td id=\"T_7f562_row0_col2\" class=\"data row0 col2\" >3899</td>\n",
       "      <td id=\"T_7f562_row0_col3\" class=\"data row0 col3\" >5454</td>\n",
       "      <td id=\"T_7f562_row0_col4\" class=\"data row0 col4\" >17965</td>\n",
       "      <td id=\"T_7f562_row0_col5\" class=\"data row0 col5\" >4860</td>\n",
       "      <td id=\"T_7f562_row0_col6\" class=\"data row0 col6\" >13119</td>\n",
       "      <td id=\"T_7f562_row0_col7\" class=\"data row0 col7\" >6267</td>\n",
       "      <td id=\"T_7f562_row0_col8\" class=\"data row0 col8\" >6738</td>\n",
       "      <td id=\"T_7f562_row0_col9\" class=\"data row0 col9\" >3907</td>\n",
       "      <td id=\"T_7f562_row0_col10\" class=\"data row0 col10\" >5548</td>\n",
       "      <td id=\"T_7f562_row0_col11\" class=\"data row0 col11\" >13632</td>\n",
       "      <td id=\"T_7f562_row0_col12\" class=\"data row0 col12\" >15157</td>\n",
       "    </tr>\n",
       "    <tr>\n",
       "      <th id=\"T_7f562_level0_row1\" class=\"row_heading level0 row1\" >year</th>\n",
       "      <td id=\"T_7f562_row1_col0\" class=\"data row1 col0\" >10668</td>\n",
       "      <td id=\"T_7f562_row1_col1\" class=\"data row1 col1\" >10781</td>\n",
       "      <td id=\"T_7f562_row1_col2\" class=\"data row1 col2\" >3899</td>\n",
       "      <td id=\"T_7f562_row1_col3\" class=\"data row1 col3\" >5454</td>\n",
       "      <td id=\"T_7f562_row1_col4\" class=\"data row1 col4\" >17965</td>\n",
       "      <td id=\"T_7f562_row1_col5\" class=\"data row1 col5\" >4860</td>\n",
       "      <td id=\"T_7f562_row1_col6\" class=\"data row1 col6\" >13119</td>\n",
       "      <td id=\"T_7f562_row1_col7\" class=\"data row1 col7\" >6267</td>\n",
       "      <td id=\"T_7f562_row1_col8\" class=\"data row1 col8\" >6738</td>\n",
       "      <td id=\"T_7f562_row1_col9\" class=\"data row1 col9\" >3904</td>\n",
       "      <td id=\"T_7f562_row1_col10\" class=\"data row1 col10\" >5459</td>\n",
       "      <td id=\"T_7f562_row1_col11\" class=\"data row1 col11\" >13632</td>\n",
       "      <td id=\"T_7f562_row1_col12\" class=\"data row1 col12\" >15157</td>\n",
       "    </tr>\n",
       "    <tr>\n",
       "      <th id=\"T_7f562_level0_row2\" class=\"row_heading level0 row2\" >price</th>\n",
       "      <td id=\"T_7f562_row2_col0\" class=\"data row2 col0\" >10668</td>\n",
       "      <td id=\"T_7f562_row2_col1\" class=\"data row2 col1\" >10781</td>\n",
       "      <td id=\"T_7f562_row2_col2\" class=\"data row2 col2\" >3899</td>\n",
       "      <td id=\"T_7f562_row2_col3\" class=\"data row2 col3\" >5454</td>\n",
       "      <td id=\"T_7f562_row2_col4\" class=\"data row2 col4\" >17965</td>\n",
       "      <td id=\"T_7f562_row2_col5\" class=\"data row2 col5\" >4860</td>\n",
       "      <td id=\"T_7f562_row2_col6\" class=\"data row2 col6\" >13119</td>\n",
       "      <td id=\"T_7f562_row2_col7\" class=\"data row2 col7\" >6267</td>\n",
       "      <td id=\"T_7f562_row2_col8\" class=\"data row2 col8\" >6738</td>\n",
       "      <td id=\"T_7f562_row2_col9\" class=\"data row2 col9\" >3907</td>\n",
       "      <td id=\"T_7f562_row2_col10\" class=\"data row2 col10\" >5548</td>\n",
       "      <td id=\"T_7f562_row2_col11\" class=\"data row2 col11\" >13632</td>\n",
       "      <td id=\"T_7f562_row2_col12\" class=\"data row2 col12\" >15157</td>\n",
       "    </tr>\n",
       "    <tr>\n",
       "      <th id=\"T_7f562_level0_row3\" class=\"row_heading level0 row3\" >transmission</th>\n",
       "      <td id=\"T_7f562_row3_col0\" class=\"data row3 col0\" >10668</td>\n",
       "      <td id=\"T_7f562_row3_col1\" class=\"data row3 col1\" >10781</td>\n",
       "      <td id=\"T_7f562_row3_col2\" class=\"data row3 col2\" >3899</td>\n",
       "      <td id=\"T_7f562_row3_col3\" class=\"data row3 col3\" >5454</td>\n",
       "      <td id=\"T_7f562_row3_col4\" class=\"data row3 col4\" >17965</td>\n",
       "      <td id=\"T_7f562_row3_col5\" class=\"data row3 col5\" >4860</td>\n",
       "      <td id=\"T_7f562_row3_col6\" class=\"data row3 col6\" >13119</td>\n",
       "      <td id=\"T_7f562_row3_col7\" class=\"data row3 col7\" >6267</td>\n",
       "      <td id=\"T_7f562_row3_col8\" class=\"data row3 col8\" >6738</td>\n",
       "      <td id=\"T_7f562_row3_col9\" class=\"data row3 col9\" >3907</td>\n",
       "      <td id=\"T_7f562_row3_col10\" class=\"data row3 col10\" >5548</td>\n",
       "      <td id=\"T_7f562_row3_col11\" class=\"data row3 col11\" >13632</td>\n",
       "      <td id=\"T_7f562_row3_col12\" class=\"data row3 col12\" >15157</td>\n",
       "    </tr>\n",
       "    <tr>\n",
       "      <th id=\"T_7f562_level0_row4\" class=\"row_heading level0 row4\" >mileage</th>\n",
       "      <td id=\"T_7f562_row4_col0\" class=\"data row4 col0\" >10668</td>\n",
       "      <td id=\"T_7f562_row4_col1\" class=\"data row4 col1\" >10781</td>\n",
       "      <td id=\"T_7f562_row4_col2\" class=\"data row4 col2\" >3899</td>\n",
       "      <td id=\"T_7f562_row4_col3\" class=\"data row4 col3\" >5454</td>\n",
       "      <td id=\"T_7f562_row4_col4\" class=\"data row4 col4\" >17965</td>\n",
       "      <td id=\"T_7f562_row4_col5\" class=\"data row4 col5\" >4860</td>\n",
       "      <td id=\"T_7f562_row4_col6\" class=\"data row4 col6\" >13119</td>\n",
       "      <td id=\"T_7f562_row4_col7\" class=\"data row4 col7\" >6267</td>\n",
       "      <td id=\"T_7f562_row4_col8\" class=\"data row4 col8\" >6738</td>\n",
       "      <td id=\"T_7f562_row4_col9\" class=\"data row4 col9\" >3808</td>\n",
       "      <td id=\"T_7f562_row4_col10\" class=\"data row4 col10\" >4729</td>\n",
       "      <td id=\"T_7f562_row4_col11\" class=\"data row4 col11\" >13632</td>\n",
       "      <td id=\"T_7f562_row4_col12\" class=\"data row4 col12\" >15157</td>\n",
       "    </tr>\n",
       "    <tr>\n",
       "      <th id=\"T_7f562_level0_row5\" class=\"row_heading level0 row5\" >fuelType</th>\n",
       "      <td id=\"T_7f562_row5_col0\" class=\"data row5 col0\" >10668</td>\n",
       "      <td id=\"T_7f562_row5_col1\" class=\"data row5 col1\" >10781</td>\n",
       "      <td id=\"T_7f562_row5_col2\" class=\"data row5 col2\" >3899</td>\n",
       "      <td id=\"T_7f562_row5_col3\" class=\"data row5 col3\" >5454</td>\n",
       "      <td id=\"T_7f562_row5_col4\" class=\"data row5 col4\" >17965</td>\n",
       "      <td id=\"T_7f562_row5_col5\" class=\"data row5 col5\" >4860</td>\n",
       "      <td id=\"T_7f562_row5_col6\" class=\"data row5 col6\" >13119</td>\n",
       "      <td id=\"T_7f562_row5_col7\" class=\"data row5 col7\" >6267</td>\n",
       "      <td id=\"T_7f562_row5_col8\" class=\"data row5 col8\" >6738</td>\n",
       "      <td id=\"T_7f562_row5_col9\" class=\"data row5 col9\" >nan</td>\n",
       "      <td id=\"T_7f562_row5_col10\" class=\"data row5 col10\" >nan</td>\n",
       "      <td id=\"T_7f562_row5_col11\" class=\"data row5 col11\" >13632</td>\n",
       "      <td id=\"T_7f562_row5_col12\" class=\"data row5 col12\" >15157</td>\n",
       "    </tr>\n",
       "    <tr>\n",
       "      <th id=\"T_7f562_level0_row6\" class=\"row_heading level0 row6\" >tax</th>\n",
       "      <td id=\"T_7f562_row6_col0\" class=\"data row6 col0\" >10668</td>\n",
       "      <td id=\"T_7f562_row6_col1\" class=\"data row6 col1\" >10781</td>\n",
       "      <td id=\"T_7f562_row6_col2\" class=\"data row6 col2\" >nan</td>\n",
       "      <td id=\"T_7f562_row6_col3\" class=\"data row6 col3\" >nan</td>\n",
       "      <td id=\"T_7f562_row6_col4\" class=\"data row6 col4\" >17965</td>\n",
       "      <td id=\"T_7f562_row6_col5\" class=\"data row6 col5\" >nan</td>\n",
       "      <td id=\"T_7f562_row6_col6\" class=\"data row6 col6\" >13119</td>\n",
       "      <td id=\"T_7f562_row6_col7\" class=\"data row6 col7\" >6267</td>\n",
       "      <td id=\"T_7f562_row6_col8\" class=\"data row6 col8\" >6738</td>\n",
       "      <td id=\"T_7f562_row6_col9\" class=\"data row6 col9\" >nan</td>\n",
       "      <td id=\"T_7f562_row6_col10\" class=\"data row6 col10\" >nan</td>\n",
       "      <td id=\"T_7f562_row6_col11\" class=\"data row6 col11\" >13632</td>\n",
       "      <td id=\"T_7f562_row6_col12\" class=\"data row6 col12\" >15157</td>\n",
       "    </tr>\n",
       "    <tr>\n",
       "      <th id=\"T_7f562_level0_row7\" class=\"row_heading level0 row7\" >mpg</th>\n",
       "      <td id=\"T_7f562_row7_col0\" class=\"data row7 col0\" >10668</td>\n",
       "      <td id=\"T_7f562_row7_col1\" class=\"data row7 col1\" >10781</td>\n",
       "      <td id=\"T_7f562_row7_col2\" class=\"data row7 col2\" >nan</td>\n",
       "      <td id=\"T_7f562_row7_col3\" class=\"data row7 col3\" >nan</td>\n",
       "      <td id=\"T_7f562_row7_col4\" class=\"data row7 col4\" >17965</td>\n",
       "      <td id=\"T_7f562_row7_col5\" class=\"data row7 col5\" >4860</td>\n",
       "      <td id=\"T_7f562_row7_col6\" class=\"data row7 col6\" >13119</td>\n",
       "      <td id=\"T_7f562_row7_col7\" class=\"data row7 col7\" >6267</td>\n",
       "      <td id=\"T_7f562_row7_col8\" class=\"data row7 col8\" >6738</td>\n",
       "      <td id=\"T_7f562_row7_col9\" class=\"data row7 col9\" >nan</td>\n",
       "      <td id=\"T_7f562_row7_col10\" class=\"data row7 col10\" >nan</td>\n",
       "      <td id=\"T_7f562_row7_col11\" class=\"data row7 col11\" >13632</td>\n",
       "      <td id=\"T_7f562_row7_col12\" class=\"data row7 col12\" >15157</td>\n",
       "    </tr>\n",
       "    <tr>\n",
       "      <th id=\"T_7f562_level0_row8\" class=\"row_heading level0 row8\" >engineSize</th>\n",
       "      <td id=\"T_7f562_row8_col0\" class=\"data row8 col0\" >10668</td>\n",
       "      <td id=\"T_7f562_row8_col1\" class=\"data row8 col1\" >10781</td>\n",
       "      <td id=\"T_7f562_row8_col2\" class=\"data row8 col2\" >3899</td>\n",
       "      <td id=\"T_7f562_row8_col3\" class=\"data row8 col3\" >5454</td>\n",
       "      <td id=\"T_7f562_row8_col4\" class=\"data row8 col4\" >17965</td>\n",
       "      <td id=\"T_7f562_row8_col5\" class=\"data row8 col5\" >4860</td>\n",
       "      <td id=\"T_7f562_row8_col6\" class=\"data row8 col6\" >13119</td>\n",
       "      <td id=\"T_7f562_row8_col7\" class=\"data row8 col7\" >6267</td>\n",
       "      <td id=\"T_7f562_row8_col8\" class=\"data row8 col8\" >6738</td>\n",
       "      <td id=\"T_7f562_row8_col9\" class=\"data row8 col9\" >nan</td>\n",
       "      <td id=\"T_7f562_row8_col10\" class=\"data row8 col10\" >nan</td>\n",
       "      <td id=\"T_7f562_row8_col11\" class=\"data row8 col11\" >13632</td>\n",
       "      <td id=\"T_7f562_row8_col12\" class=\"data row8 col12\" >15157</td>\n",
       "    </tr>\n",
       "    <tr>\n",
       "      <th id=\"T_7f562_level0_row9\" class=\"row_heading level0 row9\" >tax(£)</th>\n",
       "      <td id=\"T_7f562_row9_col0\" class=\"data row9 col0\" >nan</td>\n",
       "      <td id=\"T_7f562_row9_col1\" class=\"data row9 col1\" >nan</td>\n",
       "      <td id=\"T_7f562_row9_col2\" class=\"data row9 col2\" >nan</td>\n",
       "      <td id=\"T_7f562_row9_col3\" class=\"data row9 col3\" >nan</td>\n",
       "      <td id=\"T_7f562_row9_col4\" class=\"data row9 col4\" >nan</td>\n",
       "      <td id=\"T_7f562_row9_col5\" class=\"data row9 col5\" >4860</td>\n",
       "      <td id=\"T_7f562_row9_col6\" class=\"data row9 col6\" >nan</td>\n",
       "      <td id=\"T_7f562_row9_col7\" class=\"data row9 col7\" >nan</td>\n",
       "      <td id=\"T_7f562_row9_col8\" class=\"data row9 col8\" >nan</td>\n",
       "      <td id=\"T_7f562_row9_col9\" class=\"data row9 col9\" >nan</td>\n",
       "      <td id=\"T_7f562_row9_col10\" class=\"data row9 col10\" >nan</td>\n",
       "      <td id=\"T_7f562_row9_col11\" class=\"data row9 col11\" >nan</td>\n",
       "      <td id=\"T_7f562_row9_col12\" class=\"data row9 col12\" >nan</td>\n",
       "    </tr>\n",
       "    <tr>\n",
       "      <th id=\"T_7f562_level0_row10\" class=\"row_heading level0 row10\" >fuel type</th>\n",
       "      <td id=\"T_7f562_row10_col0\" class=\"data row10 col0\" >nan</td>\n",
       "      <td id=\"T_7f562_row10_col1\" class=\"data row10 col1\" >nan</td>\n",
       "      <td id=\"T_7f562_row10_col2\" class=\"data row10 col2\" >nan</td>\n",
       "      <td id=\"T_7f562_row10_col3\" class=\"data row10 col3\" >nan</td>\n",
       "      <td id=\"T_7f562_row10_col4\" class=\"data row10 col4\" >nan</td>\n",
       "      <td id=\"T_7f562_row10_col5\" class=\"data row10 col5\" >nan</td>\n",
       "      <td id=\"T_7f562_row10_col6\" class=\"data row10 col6\" >nan</td>\n",
       "      <td id=\"T_7f562_row10_col7\" class=\"data row10 col7\" >nan</td>\n",
       "      <td id=\"T_7f562_row10_col8\" class=\"data row10 col8\" >nan</td>\n",
       "      <td id=\"T_7f562_row10_col9\" class=\"data row10 col9\" >1329</td>\n",
       "      <td id=\"T_7f562_row10_col10\" class=\"data row10 col10\" >2188</td>\n",
       "      <td id=\"T_7f562_row10_col11\" class=\"data row10 col11\" >nan</td>\n",
       "      <td id=\"T_7f562_row10_col12\" class=\"data row10 col12\" >nan</td>\n",
       "    </tr>\n",
       "    <tr>\n",
       "      <th id=\"T_7f562_level0_row11\" class=\"row_heading level0 row11\" >engine size</th>\n",
       "      <td id=\"T_7f562_row11_col0\" class=\"data row11 col0\" >nan</td>\n",
       "      <td id=\"T_7f562_row11_col1\" class=\"data row11 col1\" >nan</td>\n",
       "      <td id=\"T_7f562_row11_col2\" class=\"data row11 col2\" >nan</td>\n",
       "      <td id=\"T_7f562_row11_col3\" class=\"data row11 col3\" >nan</td>\n",
       "      <td id=\"T_7f562_row11_col4\" class=\"data row11 col4\" >nan</td>\n",
       "      <td id=\"T_7f562_row11_col5\" class=\"data row11 col5\" >nan</td>\n",
       "      <td id=\"T_7f562_row11_col6\" class=\"data row11 col6\" >nan</td>\n",
       "      <td id=\"T_7f562_row11_col7\" class=\"data row11 col7\" >nan</td>\n",
       "      <td id=\"T_7f562_row11_col8\" class=\"data row11 col8\" >nan</td>\n",
       "      <td id=\"T_7f562_row11_col9\" class=\"data row11 col9\" >3842</td>\n",
       "      <td id=\"T_7f562_row11_col10\" class=\"data row11 col10\" >5503</td>\n",
       "      <td id=\"T_7f562_row11_col11\" class=\"data row11 col11\" >nan</td>\n",
       "      <td id=\"T_7f562_row11_col12\" class=\"data row11 col12\" >nan</td>\n",
       "    </tr>\n",
       "    <tr>\n",
       "      <th id=\"T_7f562_level0_row12\" class=\"row_heading level0 row12\" >mileage2</th>\n",
       "      <td id=\"T_7f562_row12_col0\" class=\"data row12 col0\" >nan</td>\n",
       "      <td id=\"T_7f562_row12_col1\" class=\"data row12 col1\" >nan</td>\n",
       "      <td id=\"T_7f562_row12_col2\" class=\"data row12 col2\" >nan</td>\n",
       "      <td id=\"T_7f562_row12_col3\" class=\"data row12 col3\" >nan</td>\n",
       "      <td id=\"T_7f562_row12_col4\" class=\"data row12 col4\" >nan</td>\n",
       "      <td id=\"T_7f562_row12_col5\" class=\"data row12 col5\" >nan</td>\n",
       "      <td id=\"T_7f562_row12_col6\" class=\"data row12 col6\" >nan</td>\n",
       "      <td id=\"T_7f562_row12_col7\" class=\"data row12 col7\" >nan</td>\n",
       "      <td id=\"T_7f562_row12_col8\" class=\"data row12 col8\" >nan</td>\n",
       "      <td id=\"T_7f562_row12_col9\" class=\"data row12 col9\" >3890</td>\n",
       "      <td id=\"T_7f562_row12_col10\" class=\"data row12 col10\" >5509</td>\n",
       "      <td id=\"T_7f562_row12_col11\" class=\"data row12 col11\" >nan</td>\n",
       "      <td id=\"T_7f562_row12_col12\" class=\"data row12 col12\" >nan</td>\n",
       "    </tr>\n",
       "    <tr>\n",
       "      <th id=\"T_7f562_level0_row13\" class=\"row_heading level0 row13\" >fuel type2</th>\n",
       "      <td id=\"T_7f562_row13_col0\" class=\"data row13 col0\" >nan</td>\n",
       "      <td id=\"T_7f562_row13_col1\" class=\"data row13 col1\" >nan</td>\n",
       "      <td id=\"T_7f562_row13_col2\" class=\"data row13 col2\" >nan</td>\n",
       "      <td id=\"T_7f562_row13_col3\" class=\"data row13 col3\" >nan</td>\n",
       "      <td id=\"T_7f562_row13_col4\" class=\"data row13 col4\" >nan</td>\n",
       "      <td id=\"T_7f562_row13_col5\" class=\"data row13 col5\" >nan</td>\n",
       "      <td id=\"T_7f562_row13_col6\" class=\"data row13 col6\" >nan</td>\n",
       "      <td id=\"T_7f562_row13_col7\" class=\"data row13 col7\" >nan</td>\n",
       "      <td id=\"T_7f562_row13_col8\" class=\"data row13 col8\" >nan</td>\n",
       "      <td id=\"T_7f562_row13_col9\" class=\"data row13 col9\" >3808</td>\n",
       "      <td id=\"T_7f562_row13_col10\" class=\"data row13 col10\" >4729</td>\n",
       "      <td id=\"T_7f562_row13_col11\" class=\"data row13 col11\" >nan</td>\n",
       "      <td id=\"T_7f562_row13_col12\" class=\"data row13 col12\" >nan</td>\n",
       "    </tr>\n",
       "    <tr>\n",
       "      <th id=\"T_7f562_level0_row14\" class=\"row_heading level0 row14\" >engine size2</th>\n",
       "      <td id=\"T_7f562_row14_col0\" class=\"data row14 col0\" >nan</td>\n",
       "      <td id=\"T_7f562_row14_col1\" class=\"data row14 col1\" >nan</td>\n",
       "      <td id=\"T_7f562_row14_col2\" class=\"data row14 col2\" >nan</td>\n",
       "      <td id=\"T_7f562_row14_col3\" class=\"data row14 col3\" >nan</td>\n",
       "      <td id=\"T_7f562_row14_col4\" class=\"data row14 col4\" >nan</td>\n",
       "      <td id=\"T_7f562_row14_col5\" class=\"data row14 col5\" >nan</td>\n",
       "      <td id=\"T_7f562_row14_col6\" class=\"data row14 col6\" >nan</td>\n",
       "      <td id=\"T_7f562_row14_col7\" class=\"data row14 col7\" >nan</td>\n",
       "      <td id=\"T_7f562_row14_col8\" class=\"data row14 col8\" >nan</td>\n",
       "      <td id=\"T_7f562_row14_col9\" class=\"data row14 col9\" >3808</td>\n",
       "      <td id=\"T_7f562_row14_col10\" class=\"data row14 col10\" >4729</td>\n",
       "      <td id=\"T_7f562_row14_col11\" class=\"data row14 col11\" >nan</td>\n",
       "      <td id=\"T_7f562_row14_col12\" class=\"data row14 col12\" >nan</td>\n",
       "    </tr>\n",
       "    <tr>\n",
       "      <th id=\"T_7f562_level0_row15\" class=\"row_heading level0 row15\" >reference</th>\n",
       "      <td id=\"T_7f562_row15_col0\" class=\"data row15 col0\" >nan</td>\n",
       "      <td id=\"T_7f562_row15_col1\" class=\"data row15 col1\" >nan</td>\n",
       "      <td id=\"T_7f562_row15_col2\" class=\"data row15 col2\" >nan</td>\n",
       "      <td id=\"T_7f562_row15_col3\" class=\"data row15 col3\" >nan</td>\n",
       "      <td id=\"T_7f562_row15_col4\" class=\"data row15 col4\" >nan</td>\n",
       "      <td id=\"T_7f562_row15_col5\" class=\"data row15 col5\" >nan</td>\n",
       "      <td id=\"T_7f562_row15_col6\" class=\"data row15 col6\" >nan</td>\n",
       "      <td id=\"T_7f562_row15_col7\" class=\"data row15 col7\" >nan</td>\n",
       "      <td id=\"T_7f562_row15_col8\" class=\"data row15 col8\" >nan</td>\n",
       "      <td id=\"T_7f562_row15_col9\" class=\"data row15 col9\" >3907</td>\n",
       "      <td id=\"T_7f562_row15_col10\" class=\"data row15 col10\" >5548</td>\n",
       "      <td id=\"T_7f562_row15_col11\" class=\"data row15 col11\" >nan</td>\n",
       "      <td id=\"T_7f562_row15_col12\" class=\"data row15 col12\" >nan</td>\n",
       "    </tr>\n",
       "  </tbody>\n",
       "</table>\n"
      ],
      "text/plain": [
       "<pandas.io.formats.style.Styler at 0x7f76a664e8c0>"
      ]
     },
     "execution_count": 91,
     "metadata": {},
     "output_type": "execute_result"
    }
   ],
   "source": [
    "styler = pd.concat(all_desc, axis=1).style\n",
    "_ = styler.background_gradient(cmap = 'Blues', axis=0, vmin=-10)\n",
    "styler.format('{:.0f}')"
   ]
  },
  {
   "cell_type": "code",
   "execution_count": 102,
   "id": "e590a344-63c9-4d2d-b168-0dd27eef3ad8",
   "metadata": {},
   "outputs": [
    {
     "data": {
      "text/plain": [
       "Index(['audi.csv', 'bmw.csv', 'cclass.csv', 'focus.csv', 'ford.csv',\n",
       "       'hyundi.csv', 'merc.csv', 'skoda.csv', 'toyota.csv',\n",
       "       'unclean cclass.csv', 'unclean focus.csv', 'vauxhall.csv', 'vw.csv'],\n",
       "      dtype='object')"
      ]
     },
     "execution_count": 102,
     "metadata": {},
     "output_type": "execute_result"
    }
   ],
   "source": [
    "styler.data.columns"
   ]
  },
  {
   "cell_type": "code",
   "execution_count": 111,
   "id": "d7df153c-2fec-41d3-bdb8-6034643e9076",
   "metadata": {
    "collapsed": true,
    "jupyter": {
     "outputs_hidden": true
    },
    "tags": []
   },
   "outputs": [
    {
     "ename": "ValueError",
     "evalue": "All objects passed were None",
     "output_type": "error",
     "traceback": [
      "\u001b[0;31m---------------------------------------------------------------------------\u001b[0m",
      "\u001b[0;31mValueError\u001b[0m                                Traceback (most recent call last)",
      "Input \u001b[0;32mIn [111]\u001b[0m, in \u001b[0;36m<cell line: 5>\u001b[0;34m()\u001b[0m\n\u001b[1;32m      1\u001b[0m csv_names \u001b[38;5;241m=\u001b[39m [\u001b[38;5;124m'\u001b[39m\u001b[38;5;124maudi.csv\u001b[39m\u001b[38;5;124m'\u001b[39m, \u001b[38;5;124m'\u001b[39m\u001b[38;5;124mbmw.csv\u001b[39m\u001b[38;5;124m'\u001b[39m, \u001b[38;5;124m'\u001b[39m\u001b[38;5;124mford.csv\u001b[39m\u001b[38;5;124m'\u001b[39m, \u001b[38;5;124m'\u001b[39m\u001b[38;5;124mhyundi.csv\u001b[39m\u001b[38;5;124m'\u001b[39m, \u001b[38;5;124m'\u001b[39m\u001b[38;5;124mmerc.csv\u001b[39m\u001b[38;5;124m'\u001b[39m, \u001b[38;5;124m'\u001b[39m\u001b[38;5;124mskoda.csv\u001b[39m\u001b[38;5;124m'\u001b[39m, \u001b[38;5;124m'\u001b[39m\u001b[38;5;124mtoyota.csv\u001b[39m\u001b[38;5;124m'\u001b[39m, \u001b[38;5;124m'\u001b[39m\u001b[38;5;124mvauxhall.csv\u001b[39m\u001b[38;5;124m'\u001b[39m, \u001b[38;5;124m'\u001b[39m\u001b[38;5;124mvw.csv\u001b[39m\u001b[38;5;124m'\u001b[39m]\n\u001b[1;32m      3\u001b[0m all_dfs_and_names \u001b[38;5;241m=\u001b[39m [(pd\u001b[38;5;241m.\u001b[39mread_csv(f), f\u001b[38;5;241m.\u001b[39mname[:\u001b[38;5;241m-\u001b[39m\u001b[38;5;241m4\u001b[39m]) \u001b[38;5;28;01mfor\u001b[39;00m f \u001b[38;5;129;01min\u001b[39;00m Path(\u001b[38;5;124mf\u001b[39m\u001b[38;5;124m'\u001b[39m\u001b[38;5;132;01m{\u001b[39;00mraw_data_dir_path\u001b[38;5;132;01m}\u001b[39;00m\u001b[38;5;124m'\u001b[39m)\u001b[38;5;241m.\u001b[39miterdir() \u001b[38;5;28;01mif\u001b[39;00m f\u001b[38;5;241m.\u001b[39mname \u001b[38;5;129;01min\u001b[39;00m csv_names]\n\u001b[0;32m----> 5\u001b[0m df \u001b[38;5;241m=\u001b[39m \u001b[43mpd\u001b[49m\u001b[38;5;241;43m.\u001b[39;49m\u001b[43mconcat\u001b[49m\u001b[43m(\u001b[49m\u001b[43m[\u001b[49m\u001b[43mdf\u001b[49m\u001b[38;5;241;43m.\u001b[39;49m\u001b[43minsert\u001b[49m\u001b[43m(\u001b[49m\u001b[38;5;241;43m0\u001b[39;49m\u001b[43m,\u001b[49m\u001b[43m \u001b[49m\u001b[38;5;124;43m'\u001b[39;49m\u001b[38;5;124;43mmake\u001b[39;49m\u001b[38;5;124;43m'\u001b[39;49m\u001b[43m,\u001b[49m\u001b[43m \u001b[49m\u001b[43mname\u001b[49m\u001b[43m)\u001b[49m\u001b[43m \u001b[49m\u001b[38;5;28;43;01mfor\u001b[39;49;00m\u001b[43m \u001b[49m\u001b[43mdf\u001b[49m\u001b[43m,\u001b[49m\u001b[43m \u001b[49m\u001b[43mname\u001b[49m\u001b[43m \u001b[49m\u001b[38;5;129;43;01min\u001b[39;49;00m\u001b[43m \u001b[49m\u001b[43mall_dfs_and_names\u001b[49m\u001b[43m]\u001b[49m\u001b[43m,\u001b[49m\u001b[43m \u001b[49m\u001b[43maxis\u001b[49m\u001b[38;5;241;43m=\u001b[39;49m\u001b[38;5;241;43m1\u001b[39;49m\u001b[43m)\u001b[49m\n",
      "File \u001b[0;32m/opt/conda/lib/python3.10/site-packages/pandas/util/_decorators.py:311\u001b[0m, in \u001b[0;36mdeprecate_nonkeyword_arguments.<locals>.decorate.<locals>.wrapper\u001b[0;34m(*args, **kwargs)\u001b[0m\n\u001b[1;32m    305\u001b[0m \u001b[38;5;28;01mif\u001b[39;00m \u001b[38;5;28mlen\u001b[39m(args) \u001b[38;5;241m>\u001b[39m num_allow_args:\n\u001b[1;32m    306\u001b[0m     warnings\u001b[38;5;241m.\u001b[39mwarn(\n\u001b[1;32m    307\u001b[0m         msg\u001b[38;5;241m.\u001b[39mformat(arguments\u001b[38;5;241m=\u001b[39marguments),\n\u001b[1;32m    308\u001b[0m         \u001b[38;5;167;01mFutureWarning\u001b[39;00m,\n\u001b[1;32m    309\u001b[0m         stacklevel\u001b[38;5;241m=\u001b[39mstacklevel,\n\u001b[1;32m    310\u001b[0m     )\n\u001b[0;32m--> 311\u001b[0m \u001b[38;5;28;01mreturn\u001b[39;00m \u001b[43mfunc\u001b[49m\u001b[43m(\u001b[49m\u001b[38;5;241;43m*\u001b[39;49m\u001b[43margs\u001b[49m\u001b[43m,\u001b[49m\u001b[43m \u001b[49m\u001b[38;5;241;43m*\u001b[39;49m\u001b[38;5;241;43m*\u001b[39;49m\u001b[43mkwargs\u001b[49m\u001b[43m)\u001b[49m\n",
      "File \u001b[0;32m/opt/conda/lib/python3.10/site-packages/pandas/core/reshape/concat.py:347\u001b[0m, in \u001b[0;36mconcat\u001b[0;34m(objs, axis, join, ignore_index, keys, levels, names, verify_integrity, sort, copy)\u001b[0m\n\u001b[1;32m    143\u001b[0m \u001b[38;5;129m@deprecate_nonkeyword_arguments\u001b[39m(version\u001b[38;5;241m=\u001b[39m\u001b[38;5;28;01mNone\u001b[39;00m, allowed_args\u001b[38;5;241m=\u001b[39m[\u001b[38;5;124m\"\u001b[39m\u001b[38;5;124mobjs\u001b[39m\u001b[38;5;124m\"\u001b[39m])\n\u001b[1;32m    144\u001b[0m \u001b[38;5;28;01mdef\u001b[39;00m \u001b[38;5;21mconcat\u001b[39m(\n\u001b[1;32m    145\u001b[0m     objs: Iterable[NDFrame] \u001b[38;5;241m|\u001b[39m Mapping[Hashable, NDFrame],\n\u001b[0;32m   (...)\u001b[0m\n\u001b[1;32m    154\u001b[0m     copy: \u001b[38;5;28mbool\u001b[39m \u001b[38;5;241m=\u001b[39m \u001b[38;5;28;01mTrue\u001b[39;00m,\n\u001b[1;32m    155\u001b[0m ) \u001b[38;5;241m-\u001b[39m\u001b[38;5;241m>\u001b[39m DataFrame \u001b[38;5;241m|\u001b[39m Series:\n\u001b[1;32m    156\u001b[0m     \u001b[38;5;124;03m\"\"\"\u001b[39;00m\n\u001b[1;32m    157\u001b[0m \u001b[38;5;124;03m    Concatenate pandas objects along a particular axis with optional set logic\u001b[39;00m\n\u001b[1;32m    158\u001b[0m \u001b[38;5;124;03m    along the other axes.\u001b[39;00m\n\u001b[0;32m   (...)\u001b[0m\n\u001b[1;32m    345\u001b[0m \u001b[38;5;124;03m    ValueError: Indexes have overlapping values: ['a']\u001b[39;00m\n\u001b[1;32m    346\u001b[0m \u001b[38;5;124;03m    \"\"\"\u001b[39;00m\n\u001b[0;32m--> 347\u001b[0m     op \u001b[38;5;241m=\u001b[39m \u001b[43m_Concatenator\u001b[49m\u001b[43m(\u001b[49m\n\u001b[1;32m    348\u001b[0m \u001b[43m        \u001b[49m\u001b[43mobjs\u001b[49m\u001b[43m,\u001b[49m\n\u001b[1;32m    349\u001b[0m \u001b[43m        \u001b[49m\u001b[43maxis\u001b[49m\u001b[38;5;241;43m=\u001b[39;49m\u001b[43maxis\u001b[49m\u001b[43m,\u001b[49m\n\u001b[1;32m    350\u001b[0m \u001b[43m        \u001b[49m\u001b[43mignore_index\u001b[49m\u001b[38;5;241;43m=\u001b[39;49m\u001b[43mignore_index\u001b[49m\u001b[43m,\u001b[49m\n\u001b[1;32m    351\u001b[0m \u001b[43m        \u001b[49m\u001b[43mjoin\u001b[49m\u001b[38;5;241;43m=\u001b[39;49m\u001b[43mjoin\u001b[49m\u001b[43m,\u001b[49m\n\u001b[1;32m    352\u001b[0m \u001b[43m        \u001b[49m\u001b[43mkeys\u001b[49m\u001b[38;5;241;43m=\u001b[39;49m\u001b[43mkeys\u001b[49m\u001b[43m,\u001b[49m\n\u001b[1;32m    353\u001b[0m \u001b[43m        \u001b[49m\u001b[43mlevels\u001b[49m\u001b[38;5;241;43m=\u001b[39;49m\u001b[43mlevels\u001b[49m\u001b[43m,\u001b[49m\n\u001b[1;32m    354\u001b[0m \u001b[43m        \u001b[49m\u001b[43mnames\u001b[49m\u001b[38;5;241;43m=\u001b[39;49m\u001b[43mnames\u001b[49m\u001b[43m,\u001b[49m\n\u001b[1;32m    355\u001b[0m \u001b[43m        \u001b[49m\u001b[43mverify_integrity\u001b[49m\u001b[38;5;241;43m=\u001b[39;49m\u001b[43mverify_integrity\u001b[49m\u001b[43m,\u001b[49m\n\u001b[1;32m    356\u001b[0m \u001b[43m        \u001b[49m\u001b[43mcopy\u001b[49m\u001b[38;5;241;43m=\u001b[39;49m\u001b[43mcopy\u001b[49m\u001b[43m,\u001b[49m\n\u001b[1;32m    357\u001b[0m \u001b[43m        \u001b[49m\u001b[43msort\u001b[49m\u001b[38;5;241;43m=\u001b[39;49m\u001b[43msort\u001b[49m\u001b[43m,\u001b[49m\n\u001b[1;32m    358\u001b[0m \u001b[43m    \u001b[49m\u001b[43m)\u001b[49m\n\u001b[1;32m    360\u001b[0m     \u001b[38;5;28;01mreturn\u001b[39;00m op\u001b[38;5;241m.\u001b[39mget_result()\n",
      "File \u001b[0;32m/opt/conda/lib/python3.10/site-packages/pandas/core/reshape/concat.py:427\u001b[0m, in \u001b[0;36m_Concatenator.__init__\u001b[0;34m(self, objs, axis, join, keys, levels, names, ignore_index, verify_integrity, copy, sort)\u001b[0m\n\u001b[1;32m    424\u001b[0m         keys \u001b[38;5;241m=\u001b[39m Index(clean_keys, name\u001b[38;5;241m=\u001b[39mname)\n\u001b[1;32m    426\u001b[0m \u001b[38;5;28;01mif\u001b[39;00m \u001b[38;5;28mlen\u001b[39m(objs) \u001b[38;5;241m==\u001b[39m \u001b[38;5;241m0\u001b[39m:\n\u001b[0;32m--> 427\u001b[0m     \u001b[38;5;28;01mraise\u001b[39;00m \u001b[38;5;167;01mValueError\u001b[39;00m(\u001b[38;5;124m\"\u001b[39m\u001b[38;5;124mAll objects passed were None\u001b[39m\u001b[38;5;124m\"\u001b[39m)\n\u001b[1;32m    429\u001b[0m \u001b[38;5;66;03m# figure out what our result ndim is going to be\u001b[39;00m\n\u001b[1;32m    430\u001b[0m ndims \u001b[38;5;241m=\u001b[39m \u001b[38;5;28mset\u001b[39m()\n",
      "\u001b[0;31mValueError\u001b[0m: All objects passed were None"
     ]
    }
   ],
   "source": [
    "csv_names = ['audi.csv', 'bmw.csv', 'ford.csv', 'hyundi.csv', 'merc.csv', 'skoda.csv', 'toyota.csv', 'vauxhall.csv', 'vw.csv']\n",
    "\n",
    "all_dfs_and_names = [(pd.read_csv(f), f.name[:-4]) for f in Path(f'{raw_data_dir_path}').iterdir() if f.name in csv_names]\n",
    "\n",
    "\n",
    "for df, name in all_dfs_and_names:\n",
    "    df.insert(0, 'make', name)\n",
    "\n",
    "df = pd.concat(, axis=1)\n",
    "    \n",
    "\n",
    "\n",
    "# all_df_and_name = [(pd.read_csv(csv_path), csv_path.name) for csv_path in data_file_paths]"
   ]
  },
  {
   "cell_type": "code",
   "execution_count": 121,
   "id": "35f14af1-1377-47e4-a9c5-01877b39196f",
   "metadata": {},
   "outputs": [],
   "source": [
    "all_df = []\n",
    "for csv_name in csv_names:\n",
    "    df = pd.read_csv(f'{raw_data_dir_path}/{csv_name}')\n",
    "    df.insert(0, 'make', name)\n",
    "    all_df.append(df)"
   ]
  },
  {
   "cell_type": "code",
   "execution_count": 126,
   "id": "10db26b4-bb74-4876-baa6-472fd2758569",
   "metadata": {},
   "outputs": [],
   "source": [
    "df = pd.concat(all_df).drop(['tax(£)'], axis=1)"
   ]
  },
  {
   "cell_type": "code",
   "execution_count": 129,
   "id": "d9c95782-6023-448d-b954-a906ba5ffabf",
   "metadata": {},
   "outputs": [
    {
     "name": "stdout",
     "output_type": "stream",
     "text": [
      "<class 'pandas.core.frame.DataFrame'>\n",
      "Int64Index: 99187 entries, 0 to 15156\n",
      "Data columns (total 10 columns):\n",
      " #   Column        Non-Null Count  Dtype  \n",
      "---  ------        --------------  -----  \n",
      " 0   make          99187 non-null  object \n",
      " 1   model         99187 non-null  object \n",
      " 2   year          99187 non-null  int64  \n",
      " 3   price         99187 non-null  int64  \n",
      " 4   transmission  99187 non-null  object \n",
      " 5   mileage       99187 non-null  int64  \n",
      " 6   fuelType      99187 non-null  object \n",
      " 7   tax           94327 non-null  float64\n",
      " 8   mpg           99187 non-null  float64\n",
      " 9   engineSize    99187 non-null  float64\n",
      "dtypes: float64(3), int64(3), object(4)\n",
      "memory usage: 8.3+ MB\n"
     ]
    },
    {
     "data": {
      "text/html": [
       "<div>\n",
       "<style scoped>\n",
       "    .dataframe tbody tr th:only-of-type {\n",
       "        vertical-align: middle;\n",
       "    }\n",
       "\n",
       "    .dataframe tbody tr th {\n",
       "        vertical-align: top;\n",
       "    }\n",
       "\n",
       "    .dataframe thead th {\n",
       "        text-align: right;\n",
       "    }\n",
       "</style>\n",
       "<table border=\"1\" class=\"dataframe\">\n",
       "  <thead>\n",
       "    <tr style=\"text-align: right;\">\n",
       "      <th></th>\n",
       "      <th>year</th>\n",
       "      <th>price</th>\n",
       "      <th>mileage</th>\n",
       "      <th>tax</th>\n",
       "      <th>mpg</th>\n",
       "      <th>engineSize</th>\n",
       "    </tr>\n",
       "  </thead>\n",
       "  <tbody>\n",
       "    <tr>\n",
       "      <th>count</th>\n",
       "      <td>99187.000000</td>\n",
       "      <td>99187.000000</td>\n",
       "      <td>99187.000000</td>\n",
       "      <td>94327.000000</td>\n",
       "      <td>99187.000000</td>\n",
       "      <td>99187.000000</td>\n",
       "    </tr>\n",
       "    <tr>\n",
       "      <th>mean</th>\n",
       "      <td>2017.087723</td>\n",
       "      <td>16805.347656</td>\n",
       "      <td>23058.914213</td>\n",
       "      <td>120.256183</td>\n",
       "      <td>55.166825</td>\n",
       "      <td>1.663280</td>\n",
       "    </tr>\n",
       "    <tr>\n",
       "      <th>std</th>\n",
       "      <td>2.123934</td>\n",
       "      <td>9866.773417</td>\n",
       "      <td>21148.523721</td>\n",
       "      <td>63.404805</td>\n",
       "      <td>16.138522</td>\n",
       "      <td>0.557646</td>\n",
       "    </tr>\n",
       "    <tr>\n",
       "      <th>min</th>\n",
       "      <td>1970.000000</td>\n",
       "      <td>450.000000</td>\n",
       "      <td>1.000000</td>\n",
       "      <td>0.000000</td>\n",
       "      <td>0.300000</td>\n",
       "      <td>0.000000</td>\n",
       "    </tr>\n",
       "    <tr>\n",
       "      <th>25%</th>\n",
       "      <td>2016.000000</td>\n",
       "      <td>9999.000000</td>\n",
       "      <td>7425.000000</td>\n",
       "      <td>125.000000</td>\n",
       "      <td>47.100000</td>\n",
       "      <td>1.200000</td>\n",
       "    </tr>\n",
       "    <tr>\n",
       "      <th>50%</th>\n",
       "      <td>2017.000000</td>\n",
       "      <td>14495.000000</td>\n",
       "      <td>17460.000000</td>\n",
       "      <td>145.000000</td>\n",
       "      <td>54.300000</td>\n",
       "      <td>1.600000</td>\n",
       "    </tr>\n",
       "    <tr>\n",
       "      <th>75%</th>\n",
       "      <td>2019.000000</td>\n",
       "      <td>20870.000000</td>\n",
       "      <td>32339.000000</td>\n",
       "      <td>145.000000</td>\n",
       "      <td>62.800000</td>\n",
       "      <td>2.000000</td>\n",
       "    </tr>\n",
       "    <tr>\n",
       "      <th>max</th>\n",
       "      <td>2060.000000</td>\n",
       "      <td>159999.000000</td>\n",
       "      <td>323000.000000</td>\n",
       "      <td>580.000000</td>\n",
       "      <td>470.800000</td>\n",
       "      <td>6.600000</td>\n",
       "    </tr>\n",
       "  </tbody>\n",
       "</table>\n",
       "</div>"
      ],
      "text/plain": [
       "               year          price        mileage           tax           mpg  \\\n",
       "count  99187.000000   99187.000000   99187.000000  94327.000000  99187.000000   \n",
       "mean    2017.087723   16805.347656   23058.914213    120.256183     55.166825   \n",
       "std        2.123934    9866.773417   21148.523721     63.404805     16.138522   \n",
       "min     1970.000000     450.000000       1.000000      0.000000      0.300000   \n",
       "25%     2016.000000    9999.000000    7425.000000    125.000000     47.100000   \n",
       "50%     2017.000000   14495.000000   17460.000000    145.000000     54.300000   \n",
       "75%     2019.000000   20870.000000   32339.000000    145.000000     62.800000   \n",
       "max     2060.000000  159999.000000  323000.000000    580.000000    470.800000   \n",
       "\n",
       "         engineSize  \n",
       "count  99187.000000  \n",
       "mean       1.663280  \n",
       "std        0.557646  \n",
       "min        0.000000  \n",
       "25%        1.200000  \n",
       "50%        1.600000  \n",
       "75%        2.000000  \n",
       "max        6.600000  "
      ]
     },
     "execution_count": 129,
     "metadata": {},
     "output_type": "execute_result"
    }
   ],
   "source": [
    "df.info()\n",
    "df.describe()"
   ]
  },
  {
   "cell_type": "code",
   "execution_count": null,
   "id": "6b730627-853f-4281-82d7-d18622b59feb",
   "metadata": {},
   "outputs": [],
   "source": []
  }
 ],
 "metadata": {
  "kernelspec": {
   "display_name": "Python 3 (ipykernel)",
   "language": "python",
   "name": "python3"
  },
  "language_info": {
   "codemirror_mode": {
    "name": "ipython",
    "version": 3
   },
   "file_extension": ".py",
   "mimetype": "text/x-python",
   "name": "python",
   "nbconvert_exporter": "python",
   "pygments_lexer": "ipython3",
   "version": "3.10.5"
  }
 },
 "nbformat": 4,
 "nbformat_minor": 5
}
