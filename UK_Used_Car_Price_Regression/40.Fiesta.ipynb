{
 "cells": [
  {
   "cell_type": "markdown",
   "id": "ef600d47-aaef-4a38-9ef2-8a5561a2c2fe",
   "metadata": {},
   "source": [
    "# Setup and Imports"
   ]
  },
  {
   "cell_type": "code",
   "execution_count": 1,
   "id": "8e1d76cf-9cc5-4335-be9d-2ef2dc4c6342",
   "metadata": {},
   "outputs": [],
   "source": [
    "import sys\n",
    "if '../Toolkit' not in sys.path: sys.path.append('../Toolkit')\n",
    "\n",
    "%load_ext autoreload\n",
    "%autoreload 1\n",
    "\n",
    "%aimport tools\n",
    "%aimport models\n",
    "\n",
    "import tools as t\n",
    "import models as m\n",
    "\n",
    "from IPython.core.interactiveshell import InteractiveShell\n",
    "InteractiveShell.ast_node_interactivity = 'all'\n",
    "from IPython.display import clear_output\n",
    "\n",
    "import numpy as np\n",
    "import pandas as pd\n",
    "pd.options.display.max_columns = None\n",
    "pd.options.display.max_colwidth = 999\n",
    "pd.options.display.max_rows = 113\n",
    "import matplotlib.pyplot as plt\n",
    "import seaborn as sns\n",
    "\n",
    "RS = 35577 # global random state seed\n",
    "raw_data_path = 'data-raw'\n",
    "processed_data_path = 'data-processed'"
   ]
  },
  {
   "cell_type": "code",
   "execution_count": 2,
   "id": "5e5c03bb-2998-4f0e-8aa5-39066aab8a8f",
   "metadata": {
    "tags": []
   },
   "outputs": [],
   "source": [
    "from sklearn.preprocessing import StandardScaler, PowerTransformer\n",
    "from sklearn.cluster import KMeans\n",
    "from sklearn.mixture import GaussianMixture, BayesianGaussianMixture\n",
    "import time"
   ]
  },
  {
   "cell_type": "code",
   "execution_count": 3,
   "id": "5bb7ccfa-558e-46da-9209-3a4a26930464",
   "metadata": {},
   "outputs": [
    {
     "data": {
      "text/plain": [
       "(97323, 8)"
      ]
     },
     "execution_count": 3,
     "metadata": {},
     "output_type": "execute_result"
    },
    {
     "data": {
      "text/html": [
       "<div>\n",
       "<style scoped>\n",
       "    .dataframe tbody tr th:only-of-type {\n",
       "        vertical-align: middle;\n",
       "    }\n",
       "\n",
       "    .dataframe tbody tr th {\n",
       "        vertical-align: top;\n",
       "    }\n",
       "\n",
       "    .dataframe thead th {\n",
       "        text-align: right;\n",
       "    }\n",
       "</style>\n",
       "<table border=\"1\" class=\"dataframe\">\n",
       "  <thead>\n",
       "    <tr style=\"text-align: right;\">\n",
       "      <th></th>\n",
       "      <th>make</th>\n",
       "      <th>model</th>\n",
       "      <th>year</th>\n",
       "      <th>price</th>\n",
       "      <th>transmission</th>\n",
       "      <th>mileage</th>\n",
       "      <th>fuelType</th>\n",
       "      <th>engineSize</th>\n",
       "    </tr>\n",
       "  </thead>\n",
       "  <tbody>\n",
       "    <tr>\n",
       "      <th>0</th>\n",
       "      <td>Audi</td>\n",
       "      <td>A1</td>\n",
       "      <td>2017</td>\n",
       "      <td>12500</td>\n",
       "      <td>Manual</td>\n",
       "      <td>15735</td>\n",
       "      <td>Petrol</td>\n",
       "      <td>1.4</td>\n",
       "    </tr>\n",
       "    <tr>\n",
       "      <th>1</th>\n",
       "      <td>Audi</td>\n",
       "      <td>A6</td>\n",
       "      <td>2016</td>\n",
       "      <td>16500</td>\n",
       "      <td>Automatic</td>\n",
       "      <td>36203</td>\n",
       "      <td>Diesel</td>\n",
       "      <td>2.0</td>\n",
       "    </tr>\n",
       "    <tr>\n",
       "      <th>2</th>\n",
       "      <td>Audi</td>\n",
       "      <td>A1</td>\n",
       "      <td>2016</td>\n",
       "      <td>11000</td>\n",
       "      <td>Manual</td>\n",
       "      <td>29946</td>\n",
       "      <td>Petrol</td>\n",
       "      <td>1.4</td>\n",
       "    </tr>\n",
       "  </tbody>\n",
       "</table>\n",
       "</div>"
      ],
      "text/plain": [
       "   make model  year  price transmission  mileage fuelType  engineSize\n",
       "0  Audi    A1  2017  12500       Manual    15735   Petrol         1.4\n",
       "1  Audi    A6  2016  16500    Automatic    36203   Diesel         2.0\n",
       "2  Audi    A1  2016  11000       Manual    29946   Petrol         1.4"
      ]
     },
     "execution_count": 3,
     "metadata": {},
     "output_type": "execute_result"
    }
   ],
   "source": [
    "df_data = t.from_pkl(f'{processed_data_path}/df_clean.pkl')\n",
    "\n",
    "df_data.shape\n",
    "df_data.head(3)"
   ]
  },
  {
   "cell_type": "code",
   "execution_count": 4,
   "id": "043fa316-7473-4011-b7a8-a258529cc058",
   "metadata": {},
   "outputs": [
    {
     "data": {
      "text/html": [
       "<div>\n",
       "<style scoped>\n",
       "    .dataframe tbody tr th:only-of-type {\n",
       "        vertical-align: middle;\n",
       "    }\n",
       "\n",
       "    .dataframe tbody tr th {\n",
       "        vertical-align: top;\n",
       "    }\n",
       "\n",
       "    .dataframe thead th {\n",
       "        text-align: right;\n",
       "    }\n",
       "</style>\n",
       "<table border=\"1\" class=\"dataframe\">\n",
       "  <thead>\n",
       "    <tr style=\"text-align: right;\">\n",
       "      <th></th>\n",
       "      <th>make</th>\n",
       "      <th>model</th>\n",
       "      <th>year</th>\n",
       "      <th>price</th>\n",
       "      <th>transmission</th>\n",
       "      <th>mileage</th>\n",
       "      <th>fuelType</th>\n",
       "      <th>engineSize</th>\n",
       "    </tr>\n",
       "  </thead>\n",
       "  <tbody>\n",
       "    <tr>\n",
       "      <th>0</th>\n",
       "      <td>Audi</td>\n",
       "      <td>A1</td>\n",
       "      <td>2017</td>\n",
       "      <td>12500</td>\n",
       "      <td>Manual</td>\n",
       "      <td>15735</td>\n",
       "      <td>Petrol</td>\n",
       "      <td>1.4</td>\n",
       "    </tr>\n",
       "    <tr>\n",
       "      <th>1</th>\n",
       "      <td>Audi</td>\n",
       "      <td>A6</td>\n",
       "      <td>2016</td>\n",
       "      <td>16500</td>\n",
       "      <td>Automatic</td>\n",
       "      <td>36203</td>\n",
       "      <td>Diesel</td>\n",
       "      <td>2.0</td>\n",
       "    </tr>\n",
       "    <tr>\n",
       "      <th>2</th>\n",
       "      <td>Audi</td>\n",
       "      <td>A1</td>\n",
       "      <td>2016</td>\n",
       "      <td>11000</td>\n",
       "      <td>Manual</td>\n",
       "      <td>29946</td>\n",
       "      <td>Petrol</td>\n",
       "      <td>1.4</td>\n",
       "    </tr>\n",
       "    <tr>\n",
       "      <th>3</th>\n",
       "      <td>Audi</td>\n",
       "      <td>A4</td>\n",
       "      <td>2017</td>\n",
       "      <td>16800</td>\n",
       "      <td>Automatic</td>\n",
       "      <td>25952</td>\n",
       "      <td>Diesel</td>\n",
       "      <td>2.0</td>\n",
       "    </tr>\n",
       "    <tr>\n",
       "      <th>4</th>\n",
       "      <td>Audi</td>\n",
       "      <td>A3</td>\n",
       "      <td>2019</td>\n",
       "      <td>17300</td>\n",
       "      <td>Manual</td>\n",
       "      <td>1998</td>\n",
       "      <td>Petrol</td>\n",
       "      <td>1.0</td>\n",
       "    </tr>\n",
       "    <tr>\n",
       "      <th>...</th>\n",
       "      <td>...</td>\n",
       "      <td>...</td>\n",
       "      <td>...</td>\n",
       "      <td>...</td>\n",
       "      <td>...</td>\n",
       "      <td>...</td>\n",
       "      <td>...</td>\n",
       "      <td>...</td>\n",
       "    </tr>\n",
       "    <tr>\n",
       "      <th>99153</th>\n",
       "      <td>Vw</td>\n",
       "      <td>California</td>\n",
       "      <td>2019</td>\n",
       "      <td>57991</td>\n",
       "      <td>Automatic</td>\n",
       "      <td>10288</td>\n",
       "      <td>Diesel</td>\n",
       "      <td>2.0</td>\n",
       "    </tr>\n",
       "    <tr>\n",
       "      <th>99154</th>\n",
       "      <td>Vw</td>\n",
       "      <td>California</td>\n",
       "      <td>2019</td>\n",
       "      <td>57991</td>\n",
       "      <td>Automatic</td>\n",
       "      <td>6739</td>\n",
       "      <td>Diesel</td>\n",
       "      <td>2.0</td>\n",
       "    </tr>\n",
       "    <tr>\n",
       "      <th>99155</th>\n",
       "      <td>Vw</td>\n",
       "      <td>California</td>\n",
       "      <td>2019</td>\n",
       "      <td>57991</td>\n",
       "      <td>Automatic</td>\n",
       "      <td>7259</td>\n",
       "      <td>Diesel</td>\n",
       "      <td>2.0</td>\n",
       "    </tr>\n",
       "    <tr>\n",
       "      <th>99156</th>\n",
       "      <td>Vw</td>\n",
       "      <td>California</td>\n",
       "      <td>2019</td>\n",
       "      <td>57991</td>\n",
       "      <td>Automatic</td>\n",
       "      <td>7486</td>\n",
       "      <td>Diesel</td>\n",
       "      <td>2.0</td>\n",
       "    </tr>\n",
       "    <tr>\n",
       "      <th>99157</th>\n",
       "      <td>Vw</td>\n",
       "      <td>California</td>\n",
       "      <td>2019</td>\n",
       "      <td>57991</td>\n",
       "      <td>Automatic</td>\n",
       "      <td>10080</td>\n",
       "      <td>Diesel</td>\n",
       "      <td>2.0</td>\n",
       "    </tr>\n",
       "  </tbody>\n",
       "</table>\n",
       "<p>97323 rows × 8 columns</p>\n",
       "</div>"
      ],
      "text/plain": [
       "       make       model  year  price transmission  mileage fuelType  \\\n",
       "0      Audi          A1  2017  12500       Manual    15735   Petrol   \n",
       "1      Audi          A6  2016  16500    Automatic    36203   Diesel   \n",
       "2      Audi          A1  2016  11000       Manual    29946   Petrol   \n",
       "3      Audi          A4  2017  16800    Automatic    25952   Diesel   \n",
       "4      Audi          A3  2019  17300       Manual     1998   Petrol   \n",
       "...     ...         ...   ...    ...          ...      ...      ...   \n",
       "99153    Vw  California  2019  57991    Automatic    10288   Diesel   \n",
       "99154    Vw  California  2019  57991    Automatic     6739   Diesel   \n",
       "99155    Vw  California  2019  57991    Automatic     7259   Diesel   \n",
       "99156    Vw  California  2019  57991    Automatic     7486   Diesel   \n",
       "99157    Vw  California  2019  57991    Automatic    10080   Diesel   \n",
       "\n",
       "       engineSize  \n",
       "0             1.4  \n",
       "1             2.0  \n",
       "2             1.4  \n",
       "3             2.0  \n",
       "4             1.0  \n",
       "...           ...  \n",
       "99153         2.0  \n",
       "99154         2.0  \n",
       "99155         2.0  \n",
       "99156         2.0  \n",
       "99157         2.0  \n",
       "\n",
       "[97323 rows x 8 columns]"
      ]
     },
     "execution_count": 4,
     "metadata": {},
     "output_type": "execute_result"
    }
   ],
   "source": [
    "df_data"
   ]
  },
  {
   "cell_type": "code",
   "execution_count": null,
   "id": "bcde8028-eee0-4f24-a786-eea42613d542",
   "metadata": {},
   "outputs": [],
   "source": [
    "df_fiesta = df_data.loc[ \n",
    "    (df_data['make'] == 'Ford') & \\\n",
    "    (df_data['model'] == 'Fiesta') & \\\n",
    "    (df_data['transmission'] == 'Manual') & \\\n",
    "    (df_data['fuelType'] == 'Petrol')\n",
    "].drop(columns=['make', 'model', 'transmission', 'fuelType']).copy()\n",
    "\n",
    "df_fiesta['mileage_5k'] = ((df_fiesta['mileage'] / 5000).round(0)*5000 ).astype(int)\n",
    "df_fiesta.drop(columns='mileage', inplace=True)\n",
    "df_fiesta = df_fiesta.loc[df_fiesta['mileage_5k'] <= 80000]\n",
    "\n",
    "df_fiesta.head(3)\n",
    "df_fiesta.shape"
   ]
  },
  {
   "cell_type": "code",
   "execution_count": null,
   "id": "2454c8bc-1d7d-43c5-ad15-5712017763bf",
   "metadata": {},
   "outputs": [],
   "source": [
    "def mad(s):\n",
    "    return (s - s.mean() ).abs().mean()"
   ]
  },
  {
   "cell_type": "code",
   "execution_count": null,
   "id": "74ba6ef5-897d-48fb-919f-fe59059693cb",
   "metadata": {},
   "outputs": [],
   "source": [
    "d = df_fiesta.groupby(['year', 'engineSize', 'mileage_5k'])['price'].agg([len, np.mean, np.std, mad])\n",
    "\n",
    "'std', d['std'].mean()\n",
    "'mad', d['mad'].mean()\n",
    "\n",
    "d.tail(20).style.format('{:.0f}') "
   ]
  },
  {
   "cell_type": "markdown",
   "id": "99b9222c-6f4f-4336-ba7c-93484ca070d7",
   "metadata": {
    "tags": []
   },
   "source": [
    "# Encode"
   ]
  },
  {
   "cell_type": "code",
   "execution_count": null,
   "id": "51c6ce34-be77-4973-9843-7cc8315f0f7d",
   "metadata": {},
   "outputs": [],
   "source": [
    "from sklearn.preprocessing import OneHotEncoder, OrdinalEncoder"
   ]
  },
  {
   "cell_type": "code",
   "execution_count": null,
   "id": "0c6dae8b-d67f-43fd-b921-eaa19fb439b0",
   "metadata": {},
   "outputs": [],
   "source": [
    "## transmission & fuelType\n",
    "\n",
    "# df_enc1 = df_fiesta_mp.copy()\n",
    "\n",
    "# df_enc1['transmission'].value_counts()\n",
    "# df_enc1['fuelType'].value_counts()\n",
    "\n",
    "# t.ordinalEncode(df_enc1, ['transmission', 'fuelType'])\n",
    "\n",
    "# df_enc1['transmission'].value_counts()\n",
    "# df_enc1['fuelType'].value_counts()"
   ]
  },
  {
   "cell_type": "markdown",
   "id": "49c7ee4d-5286-4183-a83f-707eb24776f9",
   "metadata": {
    "tags": []
   },
   "source": [
    "## Prep X y"
   ]
  },
  {
   "cell_type": "code",
   "execution_count": null,
   "id": "2934a70a-9554-44e5-a834-822fe342bf1b",
   "metadata": {},
   "outputs": [],
   "source": [
    "df_train = df_fiesta"
   ]
  },
  {
   "cell_type": "code",
   "execution_count": null,
   "id": "e966b3fb-2694-43a9-bb2c-8736ebcd32be",
   "metadata": {},
   "outputs": [],
   "source": [
    "_ = sns.pairplot(data= df_train).fig.set_size_inches(15,15)"
   ]
  },
  {
   "cell_type": "code",
   "execution_count": null,
   "id": "5a10a7e4-5d61-43a0-a43b-ebe367b1d390",
   "metadata": {},
   "outputs": [],
   "source": [
    "df_train.head(3)\n",
    "df_train.dtypes"
   ]
  },
  {
   "cell_type": "code",
   "execution_count": null,
   "id": "d3751ef5-9bf0-488c-8ca1-b7c2b8960f7f",
   "metadata": {},
   "outputs": [],
   "source": [
    "X = df_train.drop('price', axis=1)\n",
    "y = df_train['price']\n",
    "\n",
    "X.shape\n",
    "y.shape"
   ]
  },
  {
   "cell_type": "markdown",
   "id": "75413f69-a057-449f-9ec1-e06f722d13fe",
   "metadata": {},
   "source": [
    "# Train model"
   ]
  },
  {
   "cell_type": "code",
   "execution_count": null,
   "id": "334b3d69-8651-4606-bae5-68acffd68ddc",
   "metadata": {},
   "outputs": [],
   "source": [
    "from sklearn.tree import DecisionTreeRegressor\n",
    "from sklearn.ensemble import RandomForestRegressor, AdaBoostRegressor\n",
    "from sklearn.linear_model import LinearRegression, Lasso, Ridge\n",
    "from sklearn.svm import SVC\n",
    "\n",
    "from lightgbm import LGBMRegressor\n",
    "\n",
    "from sklearn.model_selection import KFold, RepeatedKFold, StratifiedKFold, RepeatedStratifiedKFold"
   ]
  },
  {
   "cell_type": "code",
   "execution_count": null,
   "id": "f4dd1eac-9fc9-4a29-914b-2d4542bfb94c",
   "metadata": {},
   "outputs": [],
   "source": [
    "from sklearn.metrics import mean_squared_error as mse, mean_absolute_error as mae, r2_score as r2\n",
    "\n",
    "def rmse(y_true, y_pred):\n",
    "    return mse(y_true, y_pred, squared=False)"
   ]
  },
  {
   "cell_type": "code",
   "execution_count": null,
   "id": "f07e21f6-bd2c-4f4c-895e-b83e9c4104cd",
   "metadata": {},
   "outputs": [],
   "source": [
    "all_results = []"
   ]
  },
  {
   "cell_type": "code",
   "execution_count": null,
   "id": "e52d91c6-86a5-4c37-980c-6edd9a20b0db",
   "metadata": {},
   "outputs": [],
   "source": [
    "n_est_list = [200]\n",
    "models_and_params = [\n",
    "    (LinearRegression, {}),\n",
    "    (Lasso, {'random_state': RS}),\n",
    "    # (Ridge, {'random_state': RS}),\n",
    "    (DecisionTreeRegressor, {}),\n",
    "    # *[ (RandomForestRegressor,         {'random_state': RS, 'n_estimators': n_e}) for n_e in n_est_list ],\n",
    "    # *[ (AdaBoostRegressor,         {'random_state': RS, 'n_estimators': n_e}) for n_e in  n_est_list],\n",
    "    *[ (LGBMRegressor,         {'random_state': RS, 'n_estimators': n_e}) for n_e in n_est_list ],\n",
    "]\n",
    "cv = KFold(5)\n",
    "metrics = [ mae, rmse, r2]\n",
    "\n",
    "r = t.grid_exec(\n",
    "    lambda model: m.cv_regression(model, cv, X, y, metrics), \n",
    "    models_and_params, \n",
    "    on1Completed = lambda r: m.display_stats(r)\n",
    ")\n"
   ]
  },
  {
   "cell_type": "code",
   "execution_count": null,
   "id": "a91a02ae-e4bb-4e62-9dc4-c0c3203f779f",
   "metadata": {},
   "outputs": [],
   "source": [
    "from sklearn.preprocessing import PolynomialFeatures\n",
    "n_est_list = [300]\n",
    "models_and_params = [\n",
    "    (LinearRegression, {}),\n",
    "    # (Lasso, {'random_state': RS}),\n",
    "    # (Ridge, {'random_state': RS}),\n",
    "]\n",
    "cv = RepeatedKFold(n_splits=5, n_repeats=2)\n",
    "metrics = [ r2]\n",
    "\n",
    "res = []\n",
    "for i in range(15):\n",
    "    X_p = pd.DataFrame(data=PolynomialFeatures(degree=i).fit_transform(X))\n",
    "    r = t.grid_exec(\n",
    "        lambda model: m.cv_regression(model, cv, X_p, y, metrics), \n",
    "        models_and_params, \n",
    "        on1Completed = lambda r: m.display_stats(r)\n",
    "    )\n",
    "    res.extend(r)\n",
    "    m.display_stats(res)"
   ]
  },
  {
   "cell_type": "code",
   "execution_count": null,
   "id": "4ceb7f9a-7ef0-454c-9e32-c960fbd5211f",
   "metadata": {},
   "outputs": [],
   "source": []
  }
 ],
 "metadata": {
  "kernelspec": {
   "display_name": "Python 3 (ipykernel)",
   "language": "python",
   "name": "python3"
  },
  "language_info": {
   "codemirror_mode": {
    "name": "ipython",
    "version": 3
   },
   "file_extension": ".py",
   "mimetype": "text/x-python",
   "name": "python",
   "nbconvert_exporter": "python",
   "pygments_lexer": "ipython3",
   "version": "3.10.5"
  }
 },
 "nbformat": 4,
 "nbformat_minor": 5
}
