{
 "cells": [
  {
   "cell_type": "markdown",
   "id": "dbf98f45-3a1c-4bc8-8bc2-83f533d32167",
   "metadata": {
    "tags": []
   },
   "source": [
    "# Setup and Imports"
   ]
  },
  {
   "cell_type": "code",
   "execution_count": 1,
   "id": "0ba3cdd8-2dea-4223-a4fb-dadba5b6cd67",
   "metadata": {},
   "outputs": [],
   "source": [
    "# !pip install xgboost\n",
    "# !pip install lightgbm\n",
    "# !pip install catboost"
   ]
  },
  {
   "cell_type": "code",
   "execution_count": 2,
   "id": "2f437971-699f-4ea4-ad01-6fe087d8ae6f",
   "metadata": {},
   "outputs": [],
   "source": [
    "import sys\n",
    "if '../Toolkit' not in sys.path: sys.path.append('../Toolkit')\n",
    "\n",
    "%load_ext autoreload\n",
    "%autoreload 1\n",
    "\n",
    "%aimport tools\n",
    "%aimport models\n",
    "\n",
    "import tools as t\n",
    "import models as m\n",
    "\n",
    "from IPython.core.interactiveshell import InteractiveShell\n",
    "InteractiveShell.ast_node_interactivity = 'all'\n",
    "from IPython.display import clear_output\n",
    "\n",
    "import numpy as np\n",
    "import pandas as pd\n",
    "pd.options.display.max_columns = None\n",
    "pd.options.display.max_colwidth = 999\n",
    "pd.options.display.max_rows = 113\n",
    "import matplotlib.pyplot as plt\n",
    "import seaborn as sns\n",
    "\n",
    "RS = 35577 # global random state seed\n",
    "raw_data_path = 'data-raw'\n",
    "processed_data_path = 'data-processed'"
   ]
  },
  {
   "cell_type": "code",
   "execution_count": 3,
   "id": "ac879e25-81ea-49ac-b5dd-804da8e3b9c6",
   "metadata": {},
   "outputs": [],
   "source": [
    "import time\n",
    "\n",
    "from sklearn.preprocessing import StandardScaler, PowerTransformer"
   ]
  },
  {
   "cell_type": "code",
   "execution_count": 4,
   "id": "8d7fabef-a961-4a02-9c1c-9d3b9ee3dd36",
   "metadata": {},
   "outputs": [
    {
     "data": {
      "text/plain": [
       "(200, 36)"
      ]
     },
     "execution_count": 4,
     "metadata": {},
     "output_type": "execute_result"
    },
    {
     "data": {
      "text/plain": [
       "Index(['x__amin', 'x__amax', 'x__sum', 'x__median', 'x__mean', 'x__std',\n",
       "       'x__var', 'x__q1', 'x__q3', 'x__iqr', 'x__kurtosis', 'x__skew',\n",
       "       'y__amin', 'y__amax', 'y__sum', 'y__median', 'y__mean', 'y__std',\n",
       "       'y__var', 'y__q1', 'y__q3', 'y__iqr', 'y__kurtosis', 'y__skew',\n",
       "       'z__amin', 'z__amax', 'z__sum', 'z__median', 'z__mean', 'z__std',\n",
       "       'z__var', 'z__q1', 'z__q3', 'z__iqr', 'z__kurtosis', 'z__skew'],\n",
       "      dtype='object')"
      ]
     },
     "execution_count": 4,
     "metadata": {},
     "output_type": "execute_result"
    },
    {
     "data": {
      "text/plain": [
       "(200,)"
      ]
     },
     "execution_count": 4,
     "metadata": {},
     "output_type": "execute_result"
    },
    {
     "data": {
      "text/plain": [
       "0    100\n",
       "1    100\n",
       "Name: status, dtype: int64"
      ]
     },
     "execution_count": 4,
     "metadata": {},
     "output_type": "execute_result"
    }
   ],
   "source": [
    "(X, y) = t.from_pkl(f'{processed_data_path}/all_b1_b2.data.pkl')\n",
    "\n",
    "X.shape\n",
    "X.columns\n",
    "\n",
    "y.shape\n",
    "y.value_counts()"
   ]
  },
  {
   "cell_type": "markdown",
   "id": "51e9012c-b0ae-41d3-8420-48597a0d14bc",
   "metadata": {},
   "source": [
    "# CV"
   ]
  },
  {
   "cell_type": "markdown",
   "id": "41c85dc0-5b36-4012-bf3d-de4b6ef977b6",
   "metadata": {},
   "source": [
    "## Multiple Models"
   ]
  },
  {
   "cell_type": "markdown",
   "id": "abb1f58f-2c15-4fc6-bfe2-efa14023a660",
   "metadata": {
    "tags": []
   },
   "source": [
    "https://scikit-learn.org/stable/auto_examples/classification/plot_classifier_comparison.html"
   ]
  },
  {
   "cell_type": "code",
   "execution_count": 5,
   "id": "5d8e28d4-d56c-4118-8920-887f7d1e59dc",
   "metadata": {
    "tags": []
   },
   "outputs": [],
   "source": [
    "from sklearn.linear_model import LogisticRegression\n",
    "from sklearn.neighbors import KNeighborsClassifier\n",
    "from sklearn.tree import DecisionTreeClassifier\n",
    "\n",
    "from sklearn.ensemble import RandomForestClassifier\n",
    "from sklearn.ensemble import AdaBoostClassifier\n",
    "\n",
    "# from sklearn.svm import SVC\n",
    "# from sklearn.gaussian_process import GaussianProcessClassifier\n",
    "# from sklearn.gaussian_process.kernels import RBF\n",
    "# from sklearn.naive_bayes import GaussianNB\n",
    "# from sklearn.discriminant_analysis import QuadraticDiscriminantAnalysis\n",
    "\n",
    "from lightgbm import LGBMClassifier\n",
    "from xgboost import XGBClassifier\n",
    "from catboost import CatBoostClassifier\n",
    "\n",
    "from sklearn.metrics import roc_auc_score, log_loss\n",
    "\n",
    "from sklearn.model_selection import KFold, RepeatedKFold, StratifiedKFold, RepeatedStratifiedKFold"
   ]
  },
  {
   "cell_type": "markdown",
   "id": "42831e38-8116-4e26-ab86-35dab8735d7e",
   "metadata": {},
   "source": [
    "# First Run"
   ]
  },
  {
   "cell_type": "code",
   "execution_count": 6,
   "id": "8ceac133-fd56-46e8-9f4b-91dac9ca6e98",
   "metadata": {},
   "outputs": [],
   "source": [
    "# all_results = []\n",
    "# n_est_list = [200]\n",
    "# models_and_params = [\n",
    "#     (DecisionTreeClassifier, {}),\n",
    "#     (KNeighborsClassifier, {}),\n",
    "    \n",
    "#     *[ (RandomForestClassifier, {'random_state': RS, 'n_estimators': n_e}) for n_e in n_est_list ],\n",
    "#     *[ (AdaBoostClassifier,     {'random_state': RS, 'n_estimators': n_e}) for n_e in n_est_list ],\n",
    "    \n",
    "#     *[ (LGBMClassifier,         {'random_state': RS, 'n_estimators': n_e}) for n_e in n_est_list ],\n",
    "#     *[ (XGBClassifier,          {'random_state': RS, 'n_estimators': n_e}) for n_e in n_est_list ],\n",
    "#     *[ (CatBoostClassifier,     {'random_state': RS, 'n_estimators': n_e, 'silent': True}) for n_e in n_est_list ],\n",
    "# ]\n",
    "# cv = RepeatedStratifiedKFold(n_splits=5, n_repeats=2)\n",
    "# metrics = [ roc_auc_score, log_loss ]\n",
    "\n",
    "# r = t.grid_exec(\n",
    "#     lambda model: m.cv_classification(model, cv, X, y, metrics), \n",
    "#     models_and_params, \n",
    "#     on1Completed = lambda r: m.display_stats(r)\n",
    "# )\n"
   ]
  },
  {
   "cell_type": "code",
   "execution_count": 7,
   "id": "3dffd91d-6fa6-4a65-a7c7-f4072de48bf9",
   "metadata": {},
   "outputs": [
    {
     "data": {
      "text/html": [
       "<style type=\"text/css\">\n",
       "#T_4865f_row0_col3, #T_4865f_row0_col5, #T_4865f_row1_col4, #T_4865f_row1_col6 {\n",
       "  background-color: #08306b;\n",
       "  color: #f1f1f1;\n",
       "}\n",
       "#T_4865f_row0_col4, #T_4865f_row0_col6, #T_4865f_row1_col3, #T_4865f_row1_col5 {\n",
       "  background-color: #5ca4d0;\n",
       "  color: #f1f1f1;\n",
       "}\n",
       "#T_4865f_row0_col7 {\n",
       "  width: 10em;\n",
       "  background: linear-gradient(90deg, #d65f5f 100.0%, transparent 100.0%);\n",
       "}\n",
       "#T_4865f_row1_col7 {\n",
       "  width: 10em;\n",
       "  background: linear-gradient(90deg, #d65f5f 46.8%, transparent 46.8%);\n",
       "}\n",
       "</style>\n",
       "<table id=\"T_4865f\">\n",
       "  <thead>\n",
       "    <tr>\n",
       "      <th class=\"blank level0\" >&nbsp;</th>\n",
       "      <th id=\"T_4865f_level0_col0\" class=\"col_heading level0 col0\" >model</th>\n",
       "      <th id=\"T_4865f_level0_col1\" class=\"col_heading level0 col1\" >params</th>\n",
       "      <th id=\"T_4865f_level0_col2\" class=\"col_heading level0 col2\" >n_folds</th>\n",
       "      <th id=\"T_4865f_level0_col3\" class=\"col_heading level0 col3\" >roc_auc_mean</th>\n",
       "      <th id=\"T_4865f_level0_col4\" class=\"col_heading level0 col4\" >roc_auc_std</th>\n",
       "      <th id=\"T_4865f_level0_col5\" class=\"col_heading level0 col5\" >log_loss_mean</th>\n",
       "      <th id=\"T_4865f_level0_col6\" class=\"col_heading level0 col6\" >log_loss_std</th>\n",
       "      <th id=\"T_4865f_level0_col7\" class=\"col_heading level0 col7\" >time</th>\n",
       "    </tr>\n",
       "  </thead>\n",
       "  <tbody>\n",
       "    <tr>\n",
       "      <th id=\"T_4865f_level0_row0\" class=\"row_heading level0 row0\" >0</th>\n",
       "      <td id=\"T_4865f_row0_col0\" class=\"data row0 col0\" >AdaBoostClassifier</td>\n",
       "      <td id=\"T_4865f_row0_col1\" class=\"data row0 col1\" >'n_estimators': 2000</td>\n",
       "      <td id=\"T_4865f_row0_col2\" class=\"data row0 col2\" >10</td>\n",
       "      <td id=\"T_4865f_row0_col3\" class=\"data row0 col3\" >0.992</td>\n",
       "      <td id=\"T_4865f_row0_col4\" class=\"data row0 col4\" >0.010</td>\n",
       "      <td id=\"T_4865f_row0_col5\" class=\"data row0 col5\" >0.452</td>\n",
       "      <td id=\"T_4865f_row0_col6\" class=\"data row0 col6\" >0.025</td>\n",
       "      <td id=\"T_4865f_row0_col7\" class=\"data row0 col7\" >32.4</td>\n",
       "    </tr>\n",
       "    <tr>\n",
       "      <th id=\"T_4865f_level0_row1\" class=\"row_heading level0 row1\" >1</th>\n",
       "      <td id=\"T_4865f_row1_col0\" class=\"data row1 col0\" >LGBMClassifier</td>\n",
       "      <td id=\"T_4865f_row1_col1\" class=\"data row1 col1\" >'n_estimators': 2000</td>\n",
       "      <td id=\"T_4865f_row1_col2\" class=\"data row1 col2\" >10</td>\n",
       "      <td id=\"T_4865f_row1_col3\" class=\"data row1 col3\" >0.989</td>\n",
       "      <td id=\"T_4865f_row1_col4\" class=\"data row1 col4\" >0.010</td>\n",
       "      <td id=\"T_4865f_row1_col5\" class=\"data row1 col5\" >0.228</td>\n",
       "      <td id=\"T_4865f_row1_col6\" class=\"data row1 col6\" >0.160</td>\n",
       "      <td id=\"T_4865f_row1_col7\" class=\"data row1 col7\" >15.1</td>\n",
       "    </tr>\n",
       "  </tbody>\n",
       "</table>\n"
      ],
      "text/plain": [
       "<pandas.io.formats.style.Styler at 0x7f1a4a2f8580>"
      ]
     },
     "metadata": {},
     "output_type": "display_data"
    }
   ],
   "source": [
    "all_results = []\n",
    "n_est_list = [2000]\n",
    "models_and_params = [\n",
    "    # (DecisionTreeClassifier, {}),\n",
    "    # (KNeighborsClassifier, {}),\n",
    "    \n",
    "    # *[ (RandomForestClassifier, {'random_state': RS, 'n_estimators': n_e}) for n_e in n_est_list ],\n",
    "    *[ (AdaBoostClassifier,     {'random_state': RS, 'n_estimators': n_e}) for n_e in n_est_list ],\n",
    "    \n",
    "    *[ (LGBMClassifier,         {'random_state': RS, 'n_estimators': n_e}) for n_e in n_est_list ],\n",
    "    # *[ (XGBClassifier,          {'random_state': RS, 'n_estimators': n_e}) for n_e in n_est_list ],\n",
    "    # *[ (CatBoostClassifier,     {'random_state': RS, 'n_estimators': n_e, 'silent': True}) for n_e in n_est_list ],\n",
    "]\n",
    "cv = RepeatedStratifiedKFold(n_splits=5, n_repeats=2)\n",
    "metrics = [ roc_auc_score, log_loss ]\n",
    "\n",
    "r = t.grid_exec(\n",
    "    lambda model: m.cv_classification(model, cv, X, y, metrics), \n",
    "    models_and_params, \n",
    "    on1Completed = lambda r: m.display_stats(r)\n",
    ")\n"
   ]
  },
  {
   "cell_type": "code",
   "execution_count": 8,
   "id": "69f67574-0198-4385-b5bc-877efccdfb70",
   "metadata": {},
   "outputs": [],
   "source": [
    "# all_f_imp = []\n",
    "\n",
    "# n_folds = 5\n",
    "# n_models = len(all_trained_models[::5])\n",
    "\n",
    "\n",
    "# for i, m in enumerate(models_to_analyse):\n",
    "#     if 'feature_names_in_' in m.__dict__.keys():\n",
    "#         all_f_imp.append(\n",
    "#             pd.Series(data = m.feature_importances_, index = m.feature_names_in_, name=f'{m.__class__.__name__[0]}_{i}')#.rank().astype(int)\n",
    "#         )\n",
    "#     else:\n",
    "#         all_f_imp.append(\n",
    "#             pd.Series(data = m.feature_importances_, index = m.feature_name_, name=f'{m.__class__.__name__[0]}_{i}')\n",
    "#         )\n",
    "\n",
    "# df_f_imp = pd.concat(all_f_imp, axis=1)\n",
    "# df_f_imp\n"
   ]
  },
  {
   "cell_type": "code",
   "execution_count": 9,
   "id": "3bb913b4-f0b7-4584-8cbb-3d10dcd9befd",
   "metadata": {},
   "outputs": [],
   "source": [
    "# fe = pd.concat(all_f_imp, axis=1)\n",
    "# sfor s_col in range(1,3):\n",
    "#     fe.insert(5, 'sum_1', None)\n",
    "#     fe.insert(11, 'sum_2', None)\n",
    "#     fe.insert(17, 'sum_3', None)\n",
    "#     fe['sum_1'] = fe.iloc[:, :5].sum(axis=1)\n",
    "#     fe['sum_2'] = fe.iloc[:, 5:10].sum(axis=1)\n",
    "#     fe['sum_3'] = fe.iloc[:, 10:].sum(axis=1)\n",
    "\n",
    "\n",
    "# fe.sort_values(by=['sum_1', 'sum_2', 'sum_3'], ascending=False)\\\n",
    "#     .round(2)\\\n",
    "#     .style\\\n",
    "#     .format('{:.2f}')\\\n",
    "#     .highlight_max(color='green')\\\n",
    "#     .highlight_min(color='blue')\\\n",
    "#     .highlight_max(color='red', subset=['sum_1', 'sum_2', 'sum_3'])"
   ]
  },
  {
   "cell_type": "code",
   "execution_count": 10,
   "id": "cc03e954-cb6e-46fd-b667-3aead8a20c80",
   "metadata": {},
   "outputs": [],
   "source": [
    "# fe_s = fe.sort_values(by=['sum_1', 'sum_2', 'sum_3'], ascending=False).round(2).style\n",
    "# _ = fe_s.format('{:.2f}')\n",
    "# for c in fe.columns:\n",
    "#     _ = fe_s.background_gradient(cmap='Greens', subset=c, vmin=-5, gmap=fe[c].rank(), )\n",
    "    \n",
    "# for c in ['sum_1', 'sum_2', 'sum_3']:\n",
    "#     _ = fe_s.background_gradient(cmap='Reds', subset=c, vmin=-50, gmap=fe[c].rank(), )\n",
    "    \n",
    "# fe_s\n",
    "#     # .highlight_max(color='green')\\\n",
    "#     # .highlight_min(color='blue')\\\n",
    "\n",
    "#     # .highlight_max(color='red', subset=['sum_1', 'sum_2', 'sum_3'])"
   ]
  },
  {
   "cell_type": "code",
   "execution_count": null,
   "id": "37b94fd7-0754-41e8-be1d-e9132589198c",
   "metadata": {},
   "outputs": [],
   "source": []
  }
 ],
 "metadata": {
  "kernelspec": {
   "display_name": "Python 3 (ipykernel)",
   "language": "python",
   "name": "python3"
  },
  "language_info": {
   "codemirror_mode": {
    "name": "ipython",
    "version": 3
   },
   "file_extension": ".py",
   "mimetype": "text/x-python",
   "name": "python",
   "nbconvert_exporter": "python",
   "pygments_lexer": "ipython3",
   "version": "3.10.5"
  }
 },
 "nbformat": 4,
 "nbformat_minor": 5
}
