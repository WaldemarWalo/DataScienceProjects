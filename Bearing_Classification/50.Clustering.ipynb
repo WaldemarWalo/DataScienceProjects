{
 "cells": [
  {
   "cell_type": "code",
   "execution_count": 2,
   "id": "0a18685f-71a2-4bf9-a93f-ee47b5a860ff",
   "metadata": {},
   "outputs": [],
   "source": [
    "import sys\n",
    "if '../Toolkit' not in sys.path: sys.path.append('../Toolkit')\n",
    "\n",
    "%load_ext autoreload\n",
    "%autoreload 1\n",
    "\n",
    "%aimport tools\n",
    "%aimport models\n",
    "\n",
    "import tools as t\n",
    "import models as m\n",
    "\n",
    "from IPython.core.interactiveshell import InteractiveShell\n",
    "InteractiveShell.ast_node_interactivity = 'all'\n",
    "from IPython.display import clear_output\n",
    "\n",
    "import numpy as np\n",
    "import pandas as pd\n",
    "pd.options.display.max_columns = None\n",
    "pd.options.display.max_colwidth = 999\n",
    "pd.options.display.max_rows = 113\n",
    "import matplotlib.pyplot as plt\n",
    "import seaborn as sns\n",
    "\n",
    "RS = 35577 # global random state seed\n",
    "raw_data_path = 'data-raw'\n",
    "processed_data_path = 'data-processed'"
   ]
  },
  {
   "cell_type": "code",
   "execution_count": 79,
   "id": "cd5c9228-37d9-4d65-899c-8af1289a1b1b",
   "metadata": {},
   "outputs": [],
   "source": [
    "import time\n",
    "from collections import OrderedDict\n",
    "def adv_sequential_feature_selection(X, y, score_func, base_features = [], num_features_to_select = -1, verbose= 0, on_feature_selected=None):\n",
    "    \"\"\"\n",
    "    Custom implementation of Sequential Feature Selection that allowes to select starting/base features, \n",
    "    prints the progress of finding features and allowes to pick up selecting features where you left off.\n",
    "\n",
    "    :param X: train df with features\n",
    "    :param y: train df with target\n",
    "    :param score_func: function that will be called with X, and y. Should return score in form of 1 float - this si your function with CV or test/train split\n",
    "    :param base_features: list of features to always include in scoring\n",
    "    :param num_features_to_select: number of featrues to select from (X.columns - base_features). Will start from best and finish when limit is reached\n",
    "    :param verbose: logging levels 1 - log when best featre is found, 2 - log every sequence trained\n",
    "    :param on_feature_selected: function that accepts a series with detailed resultsm of all feature scores for current best feature\n",
    "    :return: series with best features\n",
    "    \"\"\"\n",
    "    \n",
    "    base_features = sorted(list(base_features))\n",
    "    features_to_select_from = sorted(list(set(X.columns) - set(base_features)))\n",
    "    if verbose > 1:\n",
    "        print(f'features_to_select_from: {features_to_select_from}')\n",
    "        print(f'base_features: {base_features}')\n",
    "    \n",
    "    if num_features_to_select == -1:\n",
    "        num_features_to_select = len(features_to_select_from)\n",
    "    \n",
    "    scorred_features = OrderedDict()\n",
    "    pending_features_to_score = []\n",
    "    \n",
    "    # df_verb_2_log = pd.DataFrame(index=features_to_select_from)\n",
    "    \n",
    "    for i in range(num_features_to_select):\n",
    "        scores = {}\n",
    "        for feature in features_to_select_from:\n",
    "            features_to_fit = base_features + list(scorred_features.keys()) + [feature]\n",
    "            \n",
    "            fit_start_time = time.perf_counter()\n",
    "            score = score_func( X[features_to_fit], y)\n",
    "            fit_time_elapsed = np.round((time.perf_counter() - fit_start_time)/1000, 1)\n",
    "            \n",
    "            if verbose > 1:\n",
    "                # print(f'Base: {base_features}   Selected: {list(scorred_features.keys())}   Added: {feature}   Score {score}   Time: {fit_time_elapsed}s')\n",
    "                print(f'   [{features_to_fit}]   Score {np.round(score,4)}   Time: {fit_time_elapsed}s')\n",
    "            scores[feature] = score\n",
    "        \n",
    "        best_feature = max(scores, key=scores.get)\n",
    "        best_score = scores[best_feature]\n",
    "        if verbose > 0:\n",
    "            print(f'Best feature: {best_feature}   Score: {best_score}\\n')\n",
    "        \n",
    "        if not (on_feature_selected is None):\n",
    "            scores_for_current_feature = pd.Series(scores)\n",
    "            scores_for_current_feature.name = best_feature\n",
    "            on_feature_selected(scores_for_current_feature)\n",
    "        \n",
    "        scorred_features[best_feature] = best_score\n",
    "        features_to_select_from.remove(best_feature)\n",
    "\n",
    "    return pd.Series(scorred_features)"
   ]
  },
  {
   "cell_type": "code",
   "execution_count": 62,
   "id": "9a7abaf5-cf18-43ce-9587-dd498eed0cbd",
   "metadata": {},
   "outputs": [],
   "source": [
    "top_15_fetures = ['x__skew',\n",
    " 'z__sum',\n",
    " 'z__skew',\n",
    " 'xyz__amin',\n",
    " 'y__sum',\n",
    " 'x__sum',\n",
    " 'x__kurtosis',\n",
    " 'y__skew',\n",
    " 'z__p99',\n",
    " 'x__p30',\n",
    " 'x__p70',\n",
    " 'z__mean',\n",
    " 'x__median',\n",
    " 'xyz__kurtosis',\n",
    " 'y__p70']\n",
    "\n",
    "top_30_fetures = ['x__skew',\n",
    " 'z__sum',\n",
    " 'z__skew',\n",
    " 'xyz__amin',\n",
    " 'y__sum',\n",
    " 'x__sum',\n",
    " 'x__kurtosis',\n",
    " 'y__skew',\n",
    " 'z__p99',\n",
    " 'x__p30',\n",
    " 'x__p70',\n",
    " 'z__mean',\n",
    " 'x__median',\n",
    " 'xyz__kurtosis',\n",
    " 'y__p70',\n",
    " 'x__amax',\n",
    " 'z__kurtosis',\n",
    " 'z__amax',\n",
    " 'x__mean',\n",
    " 'y__mean',\n",
    " 'z__p10',\n",
    " 'y__amin',\n",
    " 'z__p70',\n",
    " 'y__p30',\n",
    " 'y__median',\n",
    " 'z__amin',\n",
    " 'y__kurtosis',\n",
    " 'x__amin',\n",
    " 'y__p90',\n",
    " 'z__median']"
   ]
  },
  {
   "cell_type": "code",
   "execution_count": 87,
   "id": "6b0a84e5-57f3-427c-8a8c-c1c35083a737",
   "metadata": {},
   "outputs": [
    {
     "data": {
      "text/plain": [
       "(200, 15)"
      ]
     },
     "execution_count": 87,
     "metadata": {},
     "output_type": "execute_result"
    },
    {
     "data": {
      "text/plain": [
       "Index(['x__skew', 'z__sum', 'z__skew', 'xyz__amin', 'y__sum', 'x__sum',\n",
       "       'x__kurtosis', 'y__skew', 'z__p99', 'x__p30', 'x__p70', 'z__mean',\n",
       "       'x__median', 'xyz__kurtosis', 'y__p70'],\n",
       "      dtype='object')"
      ]
     },
     "execution_count": 87,
     "metadata": {},
     "output_type": "execute_result"
    },
    {
     "data": {
      "text/plain": [
       "(200,)"
      ]
     },
     "execution_count": 87,
     "metadata": {},
     "output_type": "execute_result"
    },
    {
     "data": {
      "text/plain": [
       "0    100\n",
       "1    100\n",
       "Name: status, dtype: int64"
      ]
     },
     "execution_count": 87,
     "metadata": {},
     "output_type": "execute_result"
    }
   ],
   "source": [
    "(X, y) = t.from_pkl(f'{processed_data_path}/all_b1_b2_xyz_distance_cluster1.data.pkl')\n",
    "\n",
    "X = X[top_15_fetures]\n",
    "# X = X[top_30_fetures]\n",
    "\n",
    "X.shape\n",
    "X.columns\n",
    "\n",
    "y.shape\n",
    "y.value_counts()"
   ]
  },
  {
   "cell_type": "code",
   "execution_count": 88,
   "id": "21437a7d-bdaa-4307-8d30-48ce90d133b6",
   "metadata": {},
   "outputs": [],
   "source": [
    "from sklearn.preprocessing import scale, power_transform\n",
    "from sklearn.cluster import KMeans\n",
    "from sklearn.mixture import GaussianMixture, BayesianGaussianMixture\n",
    "\n",
    "from sklearn.metrics import adjusted_rand_score\n",
    "\n",
    "%aimport transformations"
   ]
  },
  {
   "cell_type": "markdown",
   "id": "9e617cba-2bbe-46ef-ac96-c17af2e2365c",
   "metadata": {},
   "source": [
    "# Top 15 Features"
   ]
  },
  {
   "cell_type": "code",
   "execution_count": 89,
   "id": "cc001562-8f68-4648-a721-9c9f0cdc32ba",
   "metadata": {},
   "outputs": [
    {
     "data": {
      "text/html": [
       "<div>\n",
       "<style scoped>\n",
       "    .dataframe tbody tr th:only-of-type {\n",
       "        vertical-align: middle;\n",
       "    }\n",
       "\n",
       "    .dataframe tbody tr th {\n",
       "        vertical-align: top;\n",
       "    }\n",
       "\n",
       "    .dataframe thead th {\n",
       "        text-align: right;\n",
       "    }\n",
       "</style>\n",
       "<table border=\"1\" class=\"dataframe\">\n",
       "  <thead>\n",
       "    <tr style=\"text-align: right;\">\n",
       "      <th></th>\n",
       "      <th>x__skew</th>\n",
       "      <th>z__sum</th>\n",
       "      <th>z__skew</th>\n",
       "      <th>xyz__amin</th>\n",
       "      <th>y__sum</th>\n",
       "      <th>x__sum</th>\n",
       "      <th>x__kurtosis</th>\n",
       "      <th>y__skew</th>\n",
       "      <th>z__p99</th>\n",
       "      <th>x__p30</th>\n",
       "      <th>x__p70</th>\n",
       "      <th>z__mean</th>\n",
       "      <th>x__median</th>\n",
       "      <th>xyz__kurtosis</th>\n",
       "      <th>y__p70</th>\n",
       "      <th>status</th>\n",
       "    </tr>\n",
       "  </thead>\n",
       "  <tbody>\n",
       "    <tr>\n",
       "      <th>0</th>\n",
       "      <td>0.565319</td>\n",
       "      <td>5642.467250</td>\n",
       "      <td>-0.239643</td>\n",
       "      <td>0.101637</td>\n",
       "      <td>-1121.855887</td>\n",
       "      <td>5575.268706</td>\n",
       "      <td>-0.192928</td>\n",
       "      <td>1.177432</td>\n",
       "      <td>6.134114</td>\n",
       "      <td>-1.979711</td>\n",
       "      <td>1.702056</td>\n",
       "      <td>0.140598</td>\n",
       "      <td>-0.563647</td>\n",
       "      <td>1.778544</td>\n",
       "      <td>0.771121</td>\n",
       "      <td>0</td>\n",
       "    </tr>\n",
       "    <tr>\n",
       "      <th>1</th>\n",
       "      <td>0.064638</td>\n",
       "      <td>5708.853653</td>\n",
       "      <td>0.193339</td>\n",
       "      <td>0.183889</td>\n",
       "      <td>-1591.550244</td>\n",
       "      <td>-6971.401465</td>\n",
       "      <td>0.337405</td>\n",
       "      <td>0.809109</td>\n",
       "      <td>7.927740</td>\n",
       "      <td>-2.074116</td>\n",
       "      <td>1.702056</td>\n",
       "      <td>0.178062</td>\n",
       "      <td>-0.186030</td>\n",
       "      <td>1.633724</td>\n",
       "      <td>1.347793</td>\n",
       "      <td>0</td>\n",
       "    </tr>\n",
       "    <tr>\n",
       "      <th>2</th>\n",
       "      <td>0.118662</td>\n",
       "      <td>4560.664303</td>\n",
       "      <td>0.100333</td>\n",
       "      <td>0.044074</td>\n",
       "      <td>-1257.606062</td>\n",
       "      <td>-6932.965833</td>\n",
       "      <td>0.350866</td>\n",
       "      <td>0.478897</td>\n",
       "      <td>8.027385</td>\n",
       "      <td>-1.979711</td>\n",
       "      <td>1.513248</td>\n",
       "      <td>0.133862</td>\n",
       "      <td>-0.280434</td>\n",
       "      <td>1.956811</td>\n",
       "      <td>1.732240</td>\n",
       "      <td>0</td>\n",
       "    </tr>\n",
       "  </tbody>\n",
       "</table>\n",
       "</div>"
      ],
      "text/plain": [
       "    x__skew       z__sum   z__skew  xyz__amin       y__sum       x__sum  \\\n",
       "0  0.565319  5642.467250 -0.239643   0.101637 -1121.855887  5575.268706   \n",
       "1  0.064638  5708.853653  0.193339   0.183889 -1591.550244 -6971.401465   \n",
       "2  0.118662  4560.664303  0.100333   0.044074 -1257.606062 -6932.965833   \n",
       "\n",
       "   x__kurtosis   y__skew    z__p99    x__p30    x__p70   z__mean  x__median  \\\n",
       "0    -0.192928  1.177432  6.134114 -1.979711  1.702056  0.140598  -0.563647   \n",
       "1     0.337405  0.809109  7.927740 -2.074116  1.702056  0.178062  -0.186030   \n",
       "2     0.350866  0.478897  8.027385 -1.979711  1.513248  0.133862  -0.280434   \n",
       "\n",
       "   xyz__kurtosis    y__p70  status  \n",
       "0       1.778544  0.771121       0  \n",
       "1       1.633724  1.347793       0  \n",
       "2       1.956811  1.732240       0  "
      ]
     },
     "execution_count": 89,
     "metadata": {},
     "output_type": "execute_result"
    },
    {
     "data": {
      "text/plain": [
       "(200, 16)"
      ]
     },
     "execution_count": 89,
     "metadata": {},
     "output_type": "execute_result"
    }
   ],
   "source": [
    "df_data = X\n",
    "df_data['status'] = y\n",
    "df_data.head(3)\n",
    "df_data.shape"
   ]
  },
  {
   "cell_type": "code",
   "execution_count": 90,
   "id": "8f8b9709-f7e4-48fc-a719-a0714db53310",
   "metadata": {},
   "outputs": [
    {
     "data": {
      "image/png": "[encoded data removed]",
      "text/plain": [
       "<Figure size 1080x270 with 2 Axes>"
      ]
     },
     "metadata": {
      "needs_background": "light"
     },
     "output_type": "display_data"
    }
   ],
   "source": [
    "n_clusters = list(range(2, 10))\n",
    "    \n",
    "inertias = []\n",
    "clusters = []\n",
    "scores = []\n",
    "\n",
    "for n in n_clusters:\n",
    "    model = KMeans(n_clusters=n, random_state=RS)\n",
    "    lbls = model.fit_predict(scale(X))\n",
    "    \n",
    "    scores.append(adjusted_rand_score(lbls, y))\n",
    "\n",
    "    inertias.append(model.inertia_)\n",
    "    clusters.append(n)\n",
    "    \n",
    "axs = t.get_axes(1, 2, 0.5).flat\n",
    "_ = axs[0].plot(clusters, inertias)\n",
    "_ = axs[1].plot(clusters, scores, c='orange')\n"
   ]
  },
  {
   "cell_type": "code",
   "execution_count": 92,
   "id": "008dd9ba-febd-4c91-a11e-3837de4e55c5",
   "metadata": {},
   "outputs": [
    {
     "data": {
      "image/png": "[encoded data removed]",
      "text/plain": [
       "<Figure size 1080x270 with 2 Axes>"
      ]
     },
     "metadata": {
      "needs_background": "light"
     },
     "output_type": "display_data"
    }
   ],
   "source": [
    "n_clusters = list(range(2, 10))\n",
    "    \n",
    "aics = []\n",
    "bics = []\n",
    "clusters = []\n",
    "scores = []\n",
    "\n",
    "for n in n_clusters:\n",
    "    model = GaussianMixture(n_components=n, random_state=RS)\n",
    "    X_ = power_transform(X)\n",
    "    lbls = model.fit_predict(X_)\n",
    "    \n",
    "    scores.append(adjusted_rand_score(lbls, y))\n",
    "\n",
    "    aics.append(model.aic(X_))\n",
    "    bics.append(model.bic(X_))\n",
    "    clusters.append(n)\n",
    "    \n",
    "axs = t.get_axes(1, 2, 0.5).flat\n",
    "_ = axs[0].plot(clusters, aics)\n",
    "_ = axs[0].plot(clusters, bics)\n",
    "_ = axs[1].plot(clusters, scores, c='orange')\n"
   ]
  },
  {
   "cell_type": "markdown",
   "id": "e2634dd4-5e9a-4378-8b72-a9463df13802",
   "metadata": {},
   "source": [
    "# Select Features"
   ]
  },
  {
   "cell_type": "code",
   "execution_count": 96,
   "id": "39fd0768-8621-48a4-a120-1b63b99292ff",
   "metadata": {},
   "outputs": [
    {
     "data": {
      "text/plain": [
       "(200, 72)"
      ]
     },
     "execution_count": 96,
     "metadata": {},
     "output_type": "execute_result"
    },
    {
     "data": {
      "text/plain": [
       "Index(['x__amin', 'x__amax', 'x__sum', 'x__median', 'x__mean', 'x__std',\n",
       "       'x__var', 'x__p01', 'x__p10', 'x__p20', 'x__p30', 'x__p99', 'x__p90',\n",
       "       'x__p80', 'x__p70', 'x__iqr', 'x__kurtosis', 'x__skew', 'y__amin',\n",
       "       'y__amax', 'y__sum', 'y__median', 'y__mean', 'y__std', 'y__var',\n",
       "       'y__p01', 'y__p10', 'y__p20', 'y__p30', 'y__p99', 'y__p90', 'y__p80',\n",
       "       'y__p70', 'y__iqr', 'y__kurtosis', 'y__skew', 'z__amin', 'z__amax',\n",
       "       'z__sum', 'z__median', 'z__mean', 'z__std', 'z__var', 'z__p01',\n",
       "       'z__p10', 'z__p20', 'z__p30', 'z__p99', 'z__p90', 'z__p80', 'z__p70',\n",
       "       'z__iqr', 'z__kurtosis', 'z__skew', 'xyz__amin', 'xyz__amax',\n",
       "       'xyz__sum', 'xyz__median', 'xyz__mean', 'xyz__std', 'xyz__var',\n",
       "       'xyz__p01', 'xyz__p10', 'xyz__p20', 'xyz__p30', 'xyz__p99', 'xyz__p90',\n",
       "       'xyz__p80', 'xyz__p70', 'xyz__iqr', 'xyz__kurtosis', 'xyz__skew'],\n",
       "      dtype='object')"
      ]
     },
     "execution_count": 96,
     "metadata": {},
     "output_type": "execute_result"
    },
    {
     "data": {
      "text/plain": [
       "(200,)"
      ]
     },
     "execution_count": 96,
     "metadata": {},
     "output_type": "execute_result"
    },
    {
     "data": {
      "text/plain": [
       "0    100\n",
       "1    100\n",
       "Name: status, dtype: int64"
      ]
     },
     "execution_count": 96,
     "metadata": {},
     "output_type": "execute_result"
    }
   ],
   "source": [
    "(X, y) = t.from_pkl(f'{processed_data_path}/all_b1_b2_xyz_distance_cluster1.data.pkl')\n",
    "\n",
    "X.shape\n",
    "X.columns\n",
    "\n",
    "y.shape\n",
    "y.value_counts()"
   ]
  },
  {
   "cell_type": "code",
   "execution_count": 97,
   "id": "4e6dea71-ec83-4920-98f9-b219096e0f3d",
   "metadata": {},
   "outputs": [
    {
     "name": "stdout",
     "output_type": "stream",
     "text": [
      "Best feature: z__p99   Score: 0.299461634859534\n",
      "\n",
      "Best feature: x__kurtosis   Score: 0.4067907517813\n",
      "\n",
      "Best feature: y__p70   Score: 0.4597383289330955\n",
      "\n",
      "Best feature: x__skew   Score: 0.5016379915047655\n",
      "\n",
      "Best feature: z__skew   Score: 0.5754743853142064\n",
      "\n",
      "Best feature: xyz__amin   Score: 0.6707560967726296\n",
      "\n",
      "Best feature: z__kurtosis   Score: 0.7211020062877994\n",
      "\n",
      "Best feature: y__mean   Score: 0.6873365255102273\n",
      "\n",
      "Best feature: y__kurtosis   Score: 0.6064254026230091\n",
      "\n",
      "Best feature: x__p30   Score: 0.6381935129369556\n",
      "\n",
      "Best feature: z__mean   Score: 0.6543716847411352\n",
      "\n",
      "Best feature: xyz__kurtosis   Score: 0.6064420988838948\n",
      "\n",
      "Best feature: y__p80   Score: 0.6222062852741759\n",
      "\n",
      "Best feature: y__skew   Score: 0.6381818181818182\n",
      "\n",
      "Best feature: xyz__skew   Score: 0.5016017474526837\n",
      "\n"
     ]
    },
    {
     "data": {
      "text/plain": [
       "z__p99           0.299462\n",
       "x__kurtosis      0.406791\n",
       "y__p70           0.459738\n",
       "x__skew          0.501638\n",
       "z__skew          0.575474\n",
       "xyz__amin        0.670756\n",
       "z__kurtosis      0.721102\n",
       "y__mean          0.687337\n",
       "y__kurtosis      0.606425\n",
       "x__p30           0.638194\n",
       "z__mean          0.654372\n",
       "xyz__kurtosis    0.606442\n",
       "y__p80           0.622206\n",
       "y__skew          0.638182\n",
       "xyz__skew        0.501602\n",
       "dtype: float64"
      ]
     },
     "execution_count": 97,
     "metadata": {},
     "output_type": "execute_result"
    }
   ],
   "source": [
    "def score_func(X, y):\n",
    "    model = KMeans(n_clusters=2, random_state=RS)\n",
    "    lbls = model.fit_predict(scale(X))\n",
    "    \n",
    "    return adjusted_rand_score(lbls, y)\n",
    "\n",
    "adv_sequential_feature_selection(X, y, score_func, num_features_to_select=15, verbose=1)"
   ]
  },
  {
   "cell_type": "code",
   "execution_count": 98,
   "id": "05eee1fe-ef81-41d1-8c02-73568716e5c4",
   "metadata": {},
   "outputs": [
    {
     "name": "stdout",
     "output_type": "stream",
     "text": [
      "Best feature: x__mean   Score: 0.31207353869336524\n",
      "\n",
      "Best feature: xyz__p70   Score: 0.43474111238894436\n",
      "\n",
      "Best feature: x__kurtosis   Score: 0.4655931897549119\n",
      "\n",
      "Best feature: z__skew   Score: 0.5521090531858746\n",
      "\n",
      "Best feature: z__p99   Score: 0.5735393071260549\n",
      "\n",
      "Best feature: x__p30   Score: 0.5883582819902577\n",
      "\n",
      "Best feature: y__p70   Score: 0.5845956755373981\n",
      "\n",
      "Best feature: x__skew   Score: 0.5625484517439594\n",
      "\n",
      "Best feature: x__p20   Score: 0.5776305828343253\n",
      "\n",
      "Best feature: x__median   Score: 0.5993894400537236\n",
      "\n",
      "Best feature: z__iqr   Score: 0.5957691901204577\n",
      "\n",
      "Best feature: z__p80   Score: 0.5663602246758035\n",
      "\n",
      "Best feature: xyz__amin   Score: 0.5552435010992712\n",
      "\n",
      "Best feature: x__sum   Score: 0.5481838812924126\n",
      "\n",
      "Best feature: x__std   Score: 0.581066187251133\n",
      "\n"
     ]
    },
    {
     "data": {
      "text/plain": [
       "x__mean        0.312074\n",
       "xyz__p70       0.434741\n",
       "x__kurtosis    0.465593\n",
       "z__skew        0.552109\n",
       "z__p99         0.573539\n",
       "x__p30         0.588358\n",
       "y__p70         0.584596\n",
       "x__skew        0.562548\n",
       "x__p20         0.577631\n",
       "x__median      0.599389\n",
       "z__iqr         0.595769\n",
       "z__p80         0.566360\n",
       "xyz__amin      0.555244\n",
       "x__sum         0.548184\n",
       "x__std         0.581066\n",
       "dtype: float64"
      ]
     },
     "execution_count": 98,
     "metadata": {},
     "output_type": "execute_result"
    }
   ],
   "source": [
    "def score_func(X, y):\n",
    "    model = KMeans(n_clusters=3, random_state=RS)\n",
    "    lbls = model.fit_predict(scale(X))\n",
    "    \n",
    "    return adjusted_rand_score(lbls, y)\n",
    "\n",
    "adv_sequential_feature_selection(X, y, score_func, num_features_to_select=15, verbose=1)"
   ]
  },
  {
   "cell_type": "code",
   "execution_count": 99,
   "id": "c5ba84e3-94c2-42ad-bc7f-243778f1f3ae",
   "metadata": {},
   "outputs": [
    {
     "name": "stdout",
     "output_type": "stream",
     "text": [
      "Best feature: z__var   Score: 0.36904382584791356\n",
      "\n",
      "Best feature: x__sum   Score: 0.5305468365298418\n",
      "\n",
      "Best feature: x__kurtosis   Score: 0.6707481151667462\n",
      "\n",
      "Best feature: x__amax   Score: 0.6873327356977816\n",
      "\n",
      "Best feature: xyz__amin   Score: 0.6873327356977816\n",
      "\n",
      "Best feature: z__p30   Score: 0.6707514408828931\n",
      "\n",
      "Best feature: y__p90   Score: 0.6707620827230948\n",
      "\n",
      "Best feature: x__median   Score: 0.7041280743396798\n",
      "\n",
      "Best feature: y__kurtosis   Score: 0.7041280743396798\n",
      "\n",
      "Best feature: x__amin   Score: 0.6873365255102273\n",
      "\n",
      "Best feature: y__mean   Score: 0.6707780441936051\n",
      "\n",
      "Best feature: x__p99   Score: 0.6873327356977816\n",
      "\n",
      "Best feature: y__skew   Score: 0.6381883965746077\n",
      "\n",
      "Best feature: z__mean   Score: 0.7041137290631736\n",
      "\n",
      "Best feature: x__p01   Score: 0.6381847419414792\n",
      "\n"
     ]
    },
    {
     "data": {
      "text/plain": [
       "z__var         0.369044\n",
       "x__sum         0.530547\n",
       "x__kurtosis    0.670748\n",
       "x__amax        0.687333\n",
       "xyz__amin      0.687333\n",
       "z__p30         0.670751\n",
       "y__p90         0.670762\n",
       "x__median      0.704128\n",
       "y__kurtosis    0.704128\n",
       "x__amin        0.687337\n",
       "y__mean        0.670778\n",
       "x__p99         0.687333\n",
       "y__skew        0.638188\n",
       "z__mean        0.704114\n",
       "x__p01         0.638185\n",
       "dtype: float64"
      ]
     },
     "execution_count": 99,
     "metadata": {},
     "output_type": "execute_result"
    }
   ],
   "source": [
    "def score_func(X, y):\n",
    "    model = GaussianMixture(n_components=2, random_state=RS)\n",
    "    X_ = power_transform(X)\n",
    "    lbls = model.fit_predict(X_)\n",
    "    \n",
    "    return adjusted_rand_score(lbls, y)\n",
    "\n",
    "adv_sequential_feature_selection(X, y, score_func, num_features_to_select=15, verbose=1)"
   ]
  },
  {
   "cell_type": "markdown",
   "id": "feb86353-91c2-4a70-a50e-491f81169353",
   "metadata": {},
   "source": [
    "# with 10 best from trees"
   ]
  },
  {
   "cell_type": "code",
   "execution_count": 104,
   "id": "de832142-3cd4-4e7d-9195-27c883b57fbe",
   "metadata": {},
   "outputs": [
    {
     "name": "stdout",
     "output_type": "stream",
     "text": [
      "Best feature: xyz__skew   Score: 0.6707461197048087\n",
      "\n",
      "Best feature: z__mean   Score: 0.7041185109765681\n",
      "\n",
      "Best feature: xyz__kurtosis   Score: 0.7211020062877994\n",
      "\n",
      "Best feature: y__p90   Score: 0.7382933076910645\n",
      "\n",
      "Best feature: y__kurtosis   Score: 0.755678268568101\n",
      "\n",
      "Best feature: x__var   Score: 0.755678268568101\n",
      "\n",
      "Best feature: y__mean   Score: 0.6543633058771182\n",
      "\n",
      "Best feature: z__p80   Score: 0.41968913748553927\n",
      "\n",
      "Best feature: xyz__sum   Score: 0.4462176340576289\n",
      "\n",
      "Best feature: z__p30   Score: 0.4462646091019117\n",
      "\n"
     ]
    },
    {
     "data": {
      "text/plain": [
       "xyz__skew        0.670746\n",
       "z__mean          0.704119\n",
       "xyz__kurtosis    0.721102\n",
       "y__p90           0.738293\n",
       "y__kurtosis      0.755678\n",
       "x__var           0.755678\n",
       "y__mean          0.654363\n",
       "z__p80           0.419689\n",
       "xyz__sum         0.446218\n",
       "z__p30           0.446265\n",
       "dtype: float64"
      ]
     },
     "execution_count": 104,
     "metadata": {},
     "output_type": "execute_result"
    }
   ],
   "source": [
    "def score_func(X, y):\n",
    "    model = GaussianMixture(n_components=2, random_state=RS)\n",
    "    X_ = power_transform(X)\n",
    "    lbls = model.fit_predict(X_)\n",
    "    \n",
    "    return adjusted_rand_score(lbls, y)\n",
    "\n",
    "adv_sequential_feature_selection(X, y, score_func, base_features = top_15_fetures[:10],  num_features_to_select=10, verbose=1)"
   ]
  },
  {
   "cell_type": "code",
   "execution_count": null,
   "id": "2b78950d-e8bd-4673-86aa-9d276bc81991",
   "metadata": {},
   "outputs": [],
   "source": []
  }
 ],
 "metadata": {
  "kernelspec": {
   "display_name": "Python 3 (ipykernel)",
   "language": "python",
   "name": "python3"
  },
  "language_info": {
   "codemirror_mode": {
    "name": "ipython",
    "version": 3
   },
   "file_extension": ".py",
   "mimetype": "text/x-python",
   "name": "python",
   "nbconvert_exporter": "python",
   "pygments_lexer": "ipython3",
   "version": "3.10.5"
  }
 },
 "nbformat": 4,
 "nbformat_minor": 5
}
