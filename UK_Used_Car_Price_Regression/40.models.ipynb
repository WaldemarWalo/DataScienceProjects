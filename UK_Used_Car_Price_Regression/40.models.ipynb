{
 "cells": [
  {
   "cell_type": "code",
   "execution_count": 1,
   "id": "8e1d76cf-9cc5-4335-be9d-2ef2dc4c6342",
   "metadata": {},
   "outputs": [
    {
     "name": "stdout",
     "output_type": "stream",
     "text": [
      "framework loaded, version: 0.2\n"
     ]
    }
   ],
   "source": [
    "%load_ext autoreload\n",
    "%autoreload 1\n",
    "\n",
    "%aimport f\n",
    "%aimport t"
   ]
  },
  {
   "cell_type": "code",
   "execution_count": 2,
   "id": "5e5c03bb-2998-4f0e-8aa5-39066aab8a8f",
   "metadata": {},
   "outputs": [],
   "source": [
    "from IPython.core.interactiveshell import InteractiveShell\n",
    "InteractiveShell.ast_node_interactivity = 'all'\n",
    "from IPython.display import clear_output\n",
    "\n",
    "import time\n",
    "\n",
    "import numpy as np\n",
    "import pandas as pd\n",
    "pd.options.display.max_columns = None\n",
    "pd.options.display.max_colwidth = 999\n",
    "pd.options.display.max_rows = 113\n",
    "\n",
    "import matplotlib.pyplot as plt\n",
    "\n",
    "import seaborn as sns\n",
    "from sklearn.preprocessing import StandardScaler, PowerTransformer\n",
    "\n",
    "from sklearn.cluster import KMeans\n",
    "from sklearn.mixture import GaussianMixture, BayesianGaussianMixture\n",
    "\n",
    "RS = 35577 # global random state seed\n",
    "data_path = './data-raw/'"
   ]
  },
  {
   "cell_type": "code",
   "execution_count": 3,
   "id": "5bb7ccfa-558e-46da-9209-3a4a26930464",
   "metadata": {},
   "outputs": [
    {
     "data": {
      "text/plain": [
       "(97452, 9)"
      ]
     },
     "execution_count": 3,
     "metadata": {},
     "output_type": "execute_result"
    },
    {
     "data": {
      "text/html": [
       "<div>\n",
       "<style scoped>\n",
       "    .dataframe tbody tr th:only-of-type {\n",
       "        vertical-align: middle;\n",
       "    }\n",
       "\n",
       "    .dataframe tbody tr th {\n",
       "        vertical-align: top;\n",
       "    }\n",
       "\n",
       "    .dataframe thead th {\n",
       "        text-align: right;\n",
       "    }\n",
       "</style>\n",
       "<table border=\"1\" class=\"dataframe\">\n",
       "  <thead>\n",
       "    <tr style=\"text-align: right;\">\n",
       "      <th></th>\n",
       "      <th>make</th>\n",
       "      <th>model</th>\n",
       "      <th>year</th>\n",
       "      <th>price</th>\n",
       "      <th>transmission</th>\n",
       "      <th>mileage</th>\n",
       "      <th>fuelType</th>\n",
       "      <th>tax</th>\n",
       "      <th>engineSize</th>\n",
       "    </tr>\n",
       "  </thead>\n",
       "  <tbody>\n",
       "    <tr>\n",
       "      <th>0</th>\n",
       "      <td>Audi</td>\n",
       "      <td>A1</td>\n",
       "      <td>2017</td>\n",
       "      <td>12500</td>\n",
       "      <td>Manual</td>\n",
       "      <td>15735</td>\n",
       "      <td>Petrol</td>\n",
       "      <td>150</td>\n",
       "      <td>1.4</td>\n",
       "    </tr>\n",
       "    <tr>\n",
       "      <th>1</th>\n",
       "      <td>Audi</td>\n",
       "      <td>A6</td>\n",
       "      <td>2016</td>\n",
       "      <td>16500</td>\n",
       "      <td>Automatic</td>\n",
       "      <td>36203</td>\n",
       "      <td>Diesel</td>\n",
       "      <td>20</td>\n",
       "      <td>2.0</td>\n",
       "    </tr>\n",
       "    <tr>\n",
       "      <th>2</th>\n",
       "      <td>Audi</td>\n",
       "      <td>A1</td>\n",
       "      <td>2016</td>\n",
       "      <td>11000</td>\n",
       "      <td>Manual</td>\n",
       "      <td>29946</td>\n",
       "      <td>Petrol</td>\n",
       "      <td>30</td>\n",
       "      <td>1.4</td>\n",
       "    </tr>\n",
       "    <tr>\n",
       "      <th>3</th>\n",
       "      <td>Audi</td>\n",
       "      <td>A4</td>\n",
       "      <td>2017</td>\n",
       "      <td>16800</td>\n",
       "      <td>Automatic</td>\n",
       "      <td>25952</td>\n",
       "      <td>Diesel</td>\n",
       "      <td>145</td>\n",
       "      <td>2.0</td>\n",
       "    </tr>\n",
       "    <tr>\n",
       "      <th>4</th>\n",
       "      <td>Audi</td>\n",
       "      <td>A3</td>\n",
       "      <td>2019</td>\n",
       "      <td>17300</td>\n",
       "      <td>Manual</td>\n",
       "      <td>1998</td>\n",
       "      <td>Petrol</td>\n",
       "      <td>145</td>\n",
       "      <td>1.0</td>\n",
       "    </tr>\n",
       "    <tr>\n",
       "      <th>5</th>\n",
       "      <td>Audi</td>\n",
       "      <td>A1</td>\n",
       "      <td>2016</td>\n",
       "      <td>13900</td>\n",
       "      <td>Automatic</td>\n",
       "      <td>32260</td>\n",
       "      <td>Petrol</td>\n",
       "      <td>30</td>\n",
       "      <td>1.4</td>\n",
       "    </tr>\n",
       "    <tr>\n",
       "      <th>6</th>\n",
       "      <td>Audi</td>\n",
       "      <td>A6</td>\n",
       "      <td>2016</td>\n",
       "      <td>13250</td>\n",
       "      <td>Automatic</td>\n",
       "      <td>76788</td>\n",
       "      <td>Diesel</td>\n",
       "      <td>30</td>\n",
       "      <td>2.0</td>\n",
       "    </tr>\n",
       "    <tr>\n",
       "      <th>7</th>\n",
       "      <td>Audi</td>\n",
       "      <td>A4</td>\n",
       "      <td>2016</td>\n",
       "      <td>11750</td>\n",
       "      <td>Manual</td>\n",
       "      <td>75185</td>\n",
       "      <td>Diesel</td>\n",
       "      <td>20</td>\n",
       "      <td>2.0</td>\n",
       "    </tr>\n",
       "    <tr>\n",
       "      <th>8</th>\n",
       "      <td>Audi</td>\n",
       "      <td>A3</td>\n",
       "      <td>2015</td>\n",
       "      <td>10200</td>\n",
       "      <td>Manual</td>\n",
       "      <td>46112</td>\n",
       "      <td>Petrol</td>\n",
       "      <td>20</td>\n",
       "      <td>1.4</td>\n",
       "    </tr>\n",
       "    <tr>\n",
       "      <th>9</th>\n",
       "      <td>Audi</td>\n",
       "      <td>A1</td>\n",
       "      <td>2016</td>\n",
       "      <td>12000</td>\n",
       "      <td>Manual</td>\n",
       "      <td>22451</td>\n",
       "      <td>Petrol</td>\n",
       "      <td>30</td>\n",
       "      <td>1.4</td>\n",
       "    </tr>\n",
       "  </tbody>\n",
       "</table>\n",
       "</div>"
      ],
      "text/plain": [
       "   make model  year  price transmission  mileage fuelType  tax  engineSize\n",
       "0  Audi    A1  2017  12500       Manual    15735   Petrol  150         1.4\n",
       "1  Audi    A6  2016  16500    Automatic    36203   Diesel   20         2.0\n",
       "2  Audi    A1  2016  11000       Manual    29946   Petrol   30         1.4\n",
       "3  Audi    A4  2017  16800    Automatic    25952   Diesel  145         2.0\n",
       "4  Audi    A3  2019  17300       Manual     1998   Petrol  145         1.0\n",
       "5  Audi    A1  2016  13900    Automatic    32260   Petrol   30         1.4\n",
       "6  Audi    A6  2016  13250    Automatic    76788   Diesel   30         2.0\n",
       "7  Audi    A4  2016  11750       Manual    75185   Diesel   20         2.0\n",
       "8  Audi    A3  2015  10200       Manual    46112   Petrol   20         1.4\n",
       "9  Audi    A1  2016  12000       Manual    22451   Petrol   30         1.4"
      ]
     },
     "execution_count": 3,
     "metadata": {},
     "output_type": "execute_result"
    }
   ],
   "source": [
    "df_data = f.from_pkl(f'data-processed/df_clean.pkl')\n",
    "\n",
    "df_data.shape\n",
    "df_data.head(10)\n"
   ]
  },
  {
   "cell_type": "markdown",
   "id": "99b9222c-6f4f-4336-ba7c-93484ca070d7",
   "metadata": {
    "tags": []
   },
   "source": [
    "# Encode"
   ]
  },
  {
   "cell_type": "code",
   "execution_count": 135,
   "id": "51c6ce34-be77-4973-9843-7cc8315f0f7d",
   "metadata": {},
   "outputs": [],
   "source": [
    "from sklearn.preprocessing import OneHotEncoder, OrdinalEncoder"
   ]
  },
  {
   "cell_type": "markdown",
   "id": "344f9b2d-892f-47c6-8462-e6b3a39f01d4",
   "metadata": {},
   "source": [
    "## transmission & fuelType"
   ]
  },
  {
   "cell_type": "code",
   "execution_count": 136,
   "id": "43edb938-d790-4dd7-ad15-de46453b68a2",
   "metadata": {},
   "outputs": [],
   "source": [
    "df_enc1 = df_data.copy()"
   ]
  },
  {
   "cell_type": "code",
   "execution_count": 137,
   "id": "b23bc803-3da2-47c3-8c1c-a174a7191719",
   "metadata": {},
   "outputs": [
    {
     "data": {
      "text/plain": [
       "Manual       55470\n",
       "Semi-Auto    22295\n",
       "Automatic    19687\n",
       "Name: transmission, dtype: int64"
      ]
     },
     "execution_count": 137,
     "metadata": {},
     "output_type": "execute_result"
    },
    {
     "data": {
      "text/plain": [
       "Petrol    53978\n",
       "Diesel    40417\n",
       "Hybrid     3057\n",
       "Name: fuelType, dtype: int64"
      ]
     },
     "execution_count": 137,
     "metadata": {},
     "output_type": "execute_result"
    },
    {
     "data": {
      "text/plain": [
       "1    55470\n",
       "2    22295\n",
       "0    19687\n",
       "Name: transmission, dtype: int64"
      ]
     },
     "execution_count": 137,
     "metadata": {},
     "output_type": "execute_result"
    },
    {
     "data": {
      "text/plain": [
       "2    53978\n",
       "0    40417\n",
       "1     3057\n",
       "Name: fuelType, dtype: int64"
      ]
     },
     "execution_count": 137,
     "metadata": {},
     "output_type": "execute_result"
    }
   ],
   "source": [
    "df_enc1['transmission'].value_counts()\n",
    "df_enc1['fuelType'].value_counts()\n",
    "\n",
    "t.ordinalEncode(df_enc1, ['transmission', 'fuelType'])\n",
    "\n",
    "df_enc1['transmission'].value_counts()\n",
    "df_enc1['fuelType'].value_counts()"
   ]
  },
  {
   "cell_type": "markdown",
   "id": "6e5ed99a-6cd8-4005-83b0-3aa550906ee4",
   "metadata": {},
   "source": [
    "## make & model"
   ]
  },
  {
   "cell_type": "code",
   "execution_count": 138,
   "id": "e59010c1-9adb-4b8f-a062-e78d0ac8d6c5",
   "metadata": {},
   "outputs": [
    {
     "data": {
      "text/plain": [
       " A3     1917\n",
       " Q3     1379\n",
       " A4     1375\n",
       " A1     1337\n",
       " A5      874\n",
       " Q5      864\n",
       " Q2      810\n",
       " A6      748\n",
       " Q7      394\n",
       " TT      336\n",
       " A7      122\n",
       " A8      118\n",
       " Q8       69\n",
       " RS6      39\n",
       " RS3      33\n",
       " RS4      31\n",
       " RS5      28\n",
       " R8       28\n",
       " S3       18\n",
       " SQ5      16\n",
       " S4       12\n",
       " SQ7       8\n",
       " S8        4\n",
       " S5        3\n",
       " A2        1\n",
       " RS7       1\n",
       "Name: model, dtype: int64"
      ]
     },
     "execution_count": 138,
     "metadata": {},
     "output_type": "execute_result"
    },
    {
     "data": {
      "text/plain": [
       " A3     1917\n",
       " Q3     1379\n",
       " A4     1375\n",
       " A1     1337\n",
       " A5      874\n",
       " Q5      864\n",
       " Q2      810\n",
       " A6      748\n",
       " Q7      394\n",
       " TT      336\n",
       " A7      122\n",
       " A8      118\n",
       " Q8       69\n",
       " RS6      39\n",
       " RS3      33\n",
       " RS4      31\n",
       " RS5      28\n",
       " R8       28\n",
       " S3       18\n",
       " SQ5      16\n",
       " S4       12\n",
       "Name: model, dtype: int64"
      ]
     },
     "execution_count": 138,
     "metadata": {},
     "output_type": "execute_result"
    }
   ],
   "source": [
    "df_audi = df_enc1.loc[df_enc1['make'] == 'Audi'].drop(columns='make').copy()\n",
    "\n",
    "model_vc = df_audi['model'].value_counts()\n",
    "model_vc\n",
    "\n",
    "models_to_keep = model_vc[model_vc>10].index\n",
    "df_audi = df_audi.loc[ df_audi['model'].isin(models_to_keep) ]\n",
    "df_audi['model'].value_counts()"
   ]
  },
  {
   "cell_type": "code",
   "execution_count": 139,
   "id": "716f0bee-f8d8-460a-aeac-6c4b68010ea6",
   "metadata": {},
   "outputs": [],
   "source": [
    "t.oh_encode(df_audi, ['model'])"
   ]
  },
  {
   "cell_type": "code",
   "execution_count": 140,
   "id": "2934a70a-9554-44e5-a834-822fe342bf1b",
   "metadata": {},
   "outputs": [],
   "source": [
    "df_train = df_audi"
   ]
  },
  {
   "cell_type": "code",
   "execution_count": 144,
   "id": "5a10a7e4-5d61-43a0-a43b-ebe367b1d390",
   "metadata": {},
   "outputs": [
    {
     "data": {
      "text/html": [
       "<div>\n",
       "<style scoped>\n",
       "    .dataframe tbody tr th:only-of-type {\n",
       "        vertical-align: middle;\n",
       "    }\n",
       "\n",
       "    .dataframe tbody tr th {\n",
       "        vertical-align: top;\n",
       "    }\n",
       "\n",
       "    .dataframe thead th {\n",
       "        text-align: right;\n",
       "    }\n",
       "</style>\n",
       "<table border=\"1\" class=\"dataframe\">\n",
       "  <thead>\n",
       "    <tr style=\"text-align: right;\">\n",
       "      <th></th>\n",
       "      <th>year</th>\n",
       "      <th>price</th>\n",
       "      <th>transmission</th>\n",
       "      <th>mileage</th>\n",
       "      <th>fuelType</th>\n",
       "      <th>tax</th>\n",
       "      <th>engineSize</th>\n",
       "      <th>model__ A1</th>\n",
       "      <th>model__ A6</th>\n",
       "      <th>model__ A4</th>\n",
       "      <th>model__ A3</th>\n",
       "      <th>model__ Q3</th>\n",
       "      <th>model__ Q5</th>\n",
       "      <th>model__ A5</th>\n",
       "      <th>model__ S4</th>\n",
       "      <th>model__ Q2</th>\n",
       "      <th>model__ A7</th>\n",
       "      <th>model__ TT</th>\n",
       "      <th>model__ Q7</th>\n",
       "      <th>model__ RS6</th>\n",
       "      <th>model__ RS3</th>\n",
       "      <th>model__ A8</th>\n",
       "      <th>model__ Q8</th>\n",
       "      <th>model__ RS4</th>\n",
       "      <th>model__ RS5</th>\n",
       "      <th>model__ R8</th>\n",
       "      <th>model__ SQ5</th>\n",
       "      <th>model__ S3</th>\n",
       "    </tr>\n",
       "  </thead>\n",
       "  <tbody>\n",
       "    <tr>\n",
       "      <th>0</th>\n",
       "      <td>2017</td>\n",
       "      <td>12500</td>\n",
       "      <td>1</td>\n",
       "      <td>15735</td>\n",
       "      <td>2</td>\n",
       "      <td>150</td>\n",
       "      <td>1.4</td>\n",
       "      <td>1</td>\n",
       "      <td>0</td>\n",
       "      <td>0</td>\n",
       "      <td>0</td>\n",
       "      <td>0</td>\n",
       "      <td>0</td>\n",
       "      <td>0</td>\n",
       "      <td>0</td>\n",
       "      <td>0</td>\n",
       "      <td>0</td>\n",
       "      <td>0</td>\n",
       "      <td>0</td>\n",
       "      <td>0</td>\n",
       "      <td>0</td>\n",
       "      <td>0</td>\n",
       "      <td>0</td>\n",
       "      <td>0</td>\n",
       "      <td>0</td>\n",
       "      <td>0</td>\n",
       "      <td>0</td>\n",
       "      <td>0</td>\n",
       "    </tr>\n",
       "    <tr>\n",
       "      <th>1</th>\n",
       "      <td>2016</td>\n",
       "      <td>16500</td>\n",
       "      <td>0</td>\n",
       "      <td>36203</td>\n",
       "      <td>0</td>\n",
       "      <td>20</td>\n",
       "      <td>2.0</td>\n",
       "      <td>0</td>\n",
       "      <td>1</td>\n",
       "      <td>0</td>\n",
       "      <td>0</td>\n",
       "      <td>0</td>\n",
       "      <td>0</td>\n",
       "      <td>0</td>\n",
       "      <td>0</td>\n",
       "      <td>0</td>\n",
       "      <td>0</td>\n",
       "      <td>0</td>\n",
       "      <td>0</td>\n",
       "      <td>0</td>\n",
       "      <td>0</td>\n",
       "      <td>0</td>\n",
       "      <td>0</td>\n",
       "      <td>0</td>\n",
       "      <td>0</td>\n",
       "      <td>0</td>\n",
       "      <td>0</td>\n",
       "      <td>0</td>\n",
       "    </tr>\n",
       "    <tr>\n",
       "      <th>2</th>\n",
       "      <td>2016</td>\n",
       "      <td>11000</td>\n",
       "      <td>1</td>\n",
       "      <td>29946</td>\n",
       "      <td>2</td>\n",
       "      <td>30</td>\n",
       "      <td>1.4</td>\n",
       "      <td>1</td>\n",
       "      <td>0</td>\n",
       "      <td>0</td>\n",
       "      <td>0</td>\n",
       "      <td>0</td>\n",
       "      <td>0</td>\n",
       "      <td>0</td>\n",
       "      <td>0</td>\n",
       "      <td>0</td>\n",
       "      <td>0</td>\n",
       "      <td>0</td>\n",
       "      <td>0</td>\n",
       "      <td>0</td>\n",
       "      <td>0</td>\n",
       "      <td>0</td>\n",
       "      <td>0</td>\n",
       "      <td>0</td>\n",
       "      <td>0</td>\n",
       "      <td>0</td>\n",
       "      <td>0</td>\n",
       "      <td>0</td>\n",
       "    </tr>\n",
       "  </tbody>\n",
       "</table>\n",
       "</div>"
      ],
      "text/plain": [
       "   year  price  transmission  mileage  fuelType  tax  engineSize  model__ A1  \\\n",
       "0  2017  12500             1    15735         2  150         1.4           1   \n",
       "1  2016  16500             0    36203         0   20         2.0           0   \n",
       "2  2016  11000             1    29946         2   30         1.4           1   \n",
       "\n",
       "   model__ A6  model__ A4  model__ A3  model__ Q3  model__ Q5  model__ A5  \\\n",
       "0           0           0           0           0           0           0   \n",
       "1           1           0           0           0           0           0   \n",
       "2           0           0           0           0           0           0   \n",
       "\n",
       "   model__ S4  model__ Q2  model__ A7  model__ TT  model__ Q7  model__ RS6  \\\n",
       "0           0           0           0           0           0            0   \n",
       "1           0           0           0           0           0            0   \n",
       "2           0           0           0           0           0            0   \n",
       "\n",
       "   model__ RS3  model__ A8  model__ Q8  model__ RS4  model__ RS5  model__ R8  \\\n",
       "0            0           0           0            0            0           0   \n",
       "1            0           0           0            0            0           0   \n",
       "2            0           0           0            0            0           0   \n",
       "\n",
       "   model__ SQ5  model__ S3  \n",
       "0            0           0  \n",
       "1            0           0  \n",
       "2            0           0  "
      ]
     },
     "execution_count": 144,
     "metadata": {},
     "output_type": "execute_result"
    },
    {
     "data": {
      "text/plain": [
       "year              int64\n",
       "price             int64\n",
       "transmission      int64\n",
       "mileage           int64\n",
       "fuelType          int64\n",
       "tax               int64\n",
       "engineSize      float64\n",
       "model__ A1        int64\n",
       "model__ A6        int64\n",
       "model__ A4        int64\n",
       "model__ A3        int64\n",
       "model__ Q3        int64\n",
       "model__ Q5        int64\n",
       "model__ A5        int64\n",
       "model__ S4        int64\n",
       "model__ Q2        int64\n",
       "model__ A7        int64\n",
       "model__ TT        int64\n",
       "model__ Q7        int64\n",
       "model__ RS6       int64\n",
       "model__ RS3       int64\n",
       "model__ A8        int64\n",
       "model__ Q8        int64\n",
       "model__ RS4       int64\n",
       "model__ RS5       int64\n",
       "model__ R8        int64\n",
       "model__ SQ5       int64\n",
       "model__ S3        int64\n",
       "dtype: object"
      ]
     },
     "execution_count": 144,
     "metadata": {},
     "output_type": "execute_result"
    }
   ],
   "source": [
    "df_train.head(3)\n",
    "df_train.dtypes"
   ]
  },
  {
   "cell_type": "code",
   "execution_count": 145,
   "id": "d3751ef5-9bf0-488c-8ca1-b7c2b8960f7f",
   "metadata": {},
   "outputs": [],
   "source": [
    "X = df_train.drop('price', axis=1)\n",
    "y = df_train['price']"
   ]
  },
  {
   "cell_type": "code",
   "execution_count": 146,
   "id": "d8148275-c74d-4c0c-b64d-f04aad4e06e8",
   "metadata": {},
   "outputs": [
    {
     "data": {
      "text/plain": [
       "(10548, 27)"
      ]
     },
     "execution_count": 146,
     "metadata": {},
     "output_type": "execute_result"
    },
    {
     "data": {
      "text/plain": [
       "(10548,)"
      ]
     },
     "execution_count": 146,
     "metadata": {},
     "output_type": "execute_result"
    }
   ],
   "source": [
    "X.shape\n",
    "y.shape"
   ]
  },
  {
   "cell_type": "markdown",
   "id": "75413f69-a057-449f-9ec1-e06f722d13fe",
   "metadata": {},
   "source": [
    "# Train model"
   ]
  },
  {
   "cell_type": "code",
   "execution_count": 147,
   "id": "1794efb0-25fe-430b-bad9-f958e7e5bb7d",
   "metadata": {},
   "outputs": [],
   "source": [
    "from sklearn.model_selection import KFold, StratifiedKFold, RepeatedStratifiedKFold\n",
    "from lightgbm import LGBMRegressor"
   ]
  },
  {
   "cell_type": "code",
   "execution_count": 148,
   "id": "517db28e-ea34-486f-a18a-a3596dd334ad",
   "metadata": {},
   "outputs": [],
   "source": [
    "import itertools\n",
    "\n",
    "def grid_exec(func, *args):\n",
    "    return [func(*element) for element in itertools.product(*args)]\n",
    "\n",
    "def grid_exec_callback(func, callback, *args):\n",
    "    return [ callback(func(*element)) for element in itertools.product(*args)]"
   ]
  },
  {
   "cell_type": "code",
   "execution_count": 149,
   "id": "0644a774-7160-4f01-b7b5-5e5ecf51d6ef",
   "metadata": {},
   "outputs": [],
   "source": [
    "def get_stats_df(cv_results):\n",
    "    ret_list = []\n",
    "    \n",
    "    for result in cv_results:\n",
    "        model_params = result[1]\n",
    "        model_params.pop('random_state', None)\n",
    "        model_params.pop('silent', None)\n",
    "        \n",
    "        stats_ = np.array(result[4])\n",
    "        \n",
    "        ret_list.append(\n",
    "            {\n",
    "                'model' : result[0],\n",
    "                # '#' : None,\n",
    "                # '#1' : None,\n",
    "                # '#2' : None,\n",
    "                # '#3' : None, \n",
    "                'params' : str(model_params).strip('{').strip('}'),\n",
    "                'n_folds' : result[2],    \n",
    "\n",
    "#                 'min': stats_.min(),\n",
    "#                 'mean': stats_.mean(),\n",
    "#                 'max': stats_.max(),\n",
    "#                 'std': stats_.std(),\n",
    "\n",
    "#                 'folds_min': stats_.mean(axis=1).min(),\n",
    "#                 'folds_mean': stats_.mean(axis=1).mean(),\n",
    "#                 'folds_max': stats_.mean(axis=1).max(),\n",
    "#                 'folds_std': stats_.mean(axis=1).std(),\n",
    "                'M1': stats_.mean(axis=0)[0],\n",
    "                'M1_std': stats_.std(axis=0)[0],\n",
    "                'M2': stats_.mean(axis=0)[1],\n",
    "                'M2_std': stats_.std(axis=0)[1],\n",
    "                'M3': stats_.mean(axis=0)[2],\n",
    "                'M3_std': stats_.std(axis=0)[2],\n",
    "                \n",
    "                'time': round(result[3], 1), \n",
    "            })\n",
    "    df = pd.DataFrame(ret_list)\n",
    "    return df\n",
    "    # return df.sort_values(by=['mean', 'std'], ascending=[False, True]).reset_index(drop=True)\n",
    "\n",
    "def display_stats(df_stats):\n",
    "    styler = df_stats.style\n",
    "    \n",
    "    styler.format('{:,.1f}', 'time')\n",
    "    styler.bar(subset='time')\n",
    "    \n",
    "    styler.background_gradient(cmap='Oranges', subset=[c for c in df_stats.columns if c[0] == '#'])\n",
    "    \n",
    "    # styler.format('{:,.0f}', ['min', 'mean', 'max', 'std', 'folds_min', 'folds_mean', 'folds_max', 'folds_std'])\n",
    "    for c in ['M1', 'M2', 'M3']:\n",
    "        styler.background_gradient(cmap='Blues', subset=c, gmap=df_stats[c].rank())\n",
    "\n",
    "#     for c in ['min', 'mean', 'max', 'std']:\n",
    "#         styler.background_gradient(cmap='Blues', subset=c, gmap=df_stats[c].rank())\n",
    "        \n",
    "#     for c in ['folds_min', 'folds_mean', 'folds_max', 'folds_std']:\n",
    "#         styler.background_gradient(cmap='Greens', subset=c, gmap=df_stats[c].rank())\n",
    "    \n",
    "    display(styler)\n",
    "    # return styler\n",
    "    \n",
    "# def display_stats_v1(df_stats):\n",
    "#     display(df_stats.style\\\n",
    "#             .format('{:,.3f}', df_stats.columns[5:])\\\n",
    "#             .format('{:,.1f}', df_stats.columns[-1])\\\n",
    "#             .background_gradient(cmap='Reds', subset=['#1', '#2'], axis=0)\\\n",
    "#             .background_gradient(cmap='Blues', subset=df_stats.columns[6:10], axis=0)\\\n",
    "#             .background_gradient(cmap='Greens', subset=df_stats.columns[10:-1], axis=0)\\\n",
    "#            )"
   ]
  },
  {
   "cell_type": "code",
   "execution_count": null,
   "id": "839ef665-445b-4fba-b852-41b22fa449b4",
   "metadata": {},
   "outputs": [],
   "source": [
    "mean_squared_error("
   ]
  },
  {
   "cell_type": "code",
   "execution_count": 156,
   "id": "b5b6c31d-ea56-4442-a697-3949a7e7c59f",
   "metadata": {},
   "outputs": [],
   "source": [
    "from sklearn.metrics import mean_squared_error, mean_absolute_error, r2_score\n",
    "\n",
    "def root_mean_squared_error(y_true, y_pred):\n",
    "    return mean_squared_error(y_true, y_pred, squared=False)\n",
    "    "
   ]
  },
  {
   "cell_type": "code",
   "execution_count": 151,
   "id": "2fb835af-4379-47cc-84d0-adf74fba5a34",
   "metadata": {},
   "outputs": [],
   "source": [
    "all_trained_models = []\n",
    "\n",
    "def cross_val(model_and_params, X, y, eval_metric, n_folds = 5, n_fold_repeats = 1):\n",
    "    np.random.seed(RS)\n",
    "    get_random = lambda  : np.random.randint(1, 2**16)\n",
    "    cv_scores = []\n",
    "    n_folds_completed = 0\n",
    "    \n",
    "    start_time = time.perf_counter()\n",
    "    \n",
    "    # cv = RepeatedStratifiedKFold(n_splits=n_folds, n_repeats=n_fold_repeats, random_state=get_random())\n",
    "    cv = KFold(n_splits=n_folds)\n",
    "    for i_fold, (idx_train, idx_test) in enumerate(cv.split(X)):\n",
    "        X_train, y_train = X.iloc[idx_train], y.iloc[idx_train].values\n",
    "        X_test, y_test = X.iloc[idx_test], y.iloc[idx_test].values\n",
    "\n",
    "        \n",
    "\n",
    "        constructor, params_dic = model_and_params\n",
    "\n",
    "        if 'random_state' in params_dic.keys():\n",
    "            params_dic['random_state'] = get_random()\n",
    "\n",
    "        model = constructor(**params_dic)\n",
    "        all_trained_models.append(model)\n",
    "\n",
    "        model.fit(X_train, y_train)\n",
    "        y_pred = model.predict(X_test)\n",
    "        scores = [ metric(y_test, y_pred) for metric in eval_metric ]\n",
    "\n",
    "        # score = mean_squared_error(y_pred, y_test, squared=False)\n",
    "        # score = mean_absolute_error(y_pred, y_test)\n",
    "        # score = model.score(X_test, y_test, )\n",
    "\n",
    "        cv_scores.append(scores)\n",
    "        n_folds_completed += 1\n",
    "\n",
    "    model_name = model.__class__.__name__\n",
    "    model_params = params_dic.copy()\n",
    "        \n",
    "    total_elapsed_time = time.perf_counter() - start_time\n",
    "    return model_name, model_params, n_folds_completed, total_elapsed_time, cv_scores"
   ]
  },
  {
   "cell_type": "code",
   "execution_count": 157,
   "id": "8f14ee35-9180-4bf9-b0bb-aad31552a7aa",
   "metadata": {},
   "outputs": [
    {
     "data": {
      "text/html": [
       "<style type=\"text/css\">\n",
       "#T_8144d_row0_col3, #T_8144d_row0_col5, #T_8144d_row0_col7 {\n",
       "  background-color: #f7fbff;\n",
       "  color: #000000;\n",
       "}\n",
       "#T_8144d_row0_col9 {\n",
       "  width: 10em;\n",
       "  background: linear-gradient(90deg, #d65f5f 100.0%, transparent 100.0%);\n",
       "}\n",
       "</style>\n",
       "<table id=\"T_8144d\">\n",
       "  <thead>\n",
       "    <tr>\n",
       "      <th class=\"blank level0\" >&nbsp;</th>\n",
       "      <th id=\"T_8144d_level0_col0\" class=\"col_heading level0 col0\" >model</th>\n",
       "      <th id=\"T_8144d_level0_col1\" class=\"col_heading level0 col1\" >params</th>\n",
       "      <th id=\"T_8144d_level0_col2\" class=\"col_heading level0 col2\" >n_folds</th>\n",
       "      <th id=\"T_8144d_level0_col3\" class=\"col_heading level0 col3\" >M1</th>\n",
       "      <th id=\"T_8144d_level0_col4\" class=\"col_heading level0 col4\" >M1_std</th>\n",
       "      <th id=\"T_8144d_level0_col5\" class=\"col_heading level0 col5\" >M2</th>\n",
       "      <th id=\"T_8144d_level0_col6\" class=\"col_heading level0 col6\" >M2_std</th>\n",
       "      <th id=\"T_8144d_level0_col7\" class=\"col_heading level0 col7\" >M3</th>\n",
       "      <th id=\"T_8144d_level0_col8\" class=\"col_heading level0 col8\" >M3_std</th>\n",
       "      <th id=\"T_8144d_level0_col9\" class=\"col_heading level0 col9\" >time</th>\n",
       "    </tr>\n",
       "  </thead>\n",
       "  <tbody>\n",
       "    <tr>\n",
       "      <th id=\"T_8144d_level0_row0\" class=\"row_heading level0 row0\" >0</th>\n",
       "      <td id=\"T_8144d_row0_col0\" class=\"data row0 col0\" >LGBMRegressor</td>\n",
       "      <td id=\"T_8144d_row0_col1\" class=\"data row0 col1\" >'n_estimators': 1000</td>\n",
       "      <td id=\"T_8144d_row0_col2\" class=\"data row0 col2\" >8</td>\n",
       "      <td id=\"T_8144d_row0_col3\" class=\"data row0 col3\" >1851.579379</td>\n",
       "      <td id=\"T_8144d_row0_col4\" class=\"data row0 col4\" >278.309158</td>\n",
       "      <td id=\"T_8144d_row0_col5\" class=\"data row0 col5\" >2798.710982</td>\n",
       "      <td id=\"T_8144d_row0_col6\" class=\"data row0 col6\" >508.410322</td>\n",
       "      <td id=\"T_8144d_row0_col7\" class=\"data row0 col7\" >0.936128</td>\n",
       "      <td id=\"T_8144d_row0_col8\" class=\"data row0 col8\" >0.016793</td>\n",
       "      <td id=\"T_8144d_row0_col9\" class=\"data row0 col9\" >6.7</td>\n",
       "    </tr>\n",
       "  </tbody>\n",
       "</table>\n"
      ],
      "text/plain": [
       "<pandas.io.formats.style.Styler at 0x7f2aa36ae590>"
      ]
     },
     "metadata": {},
     "output_type": "display_data"
    }
   ],
   "source": [
    "all_results = []\n",
    "def on_1_completed(results):\n",
    "    all_results.append(results)\n",
    "    clear_output(wait=True)\n",
    "    get_stats_df(all_results)\n",
    "    display_stats(get_stats_df(all_results))\n",
    "\n",
    "grid_func = lambda factory, n_folds, n_fold_repeats: cross_val(factory, X, y, metric_list, n_folds, n_fold_repeats)\n",
    "\n",
    "n_est_list = [1000]\n",
    "\n",
    "all_models = [\n",
    "    *[ (LGBMRegressor,         {'random_state': RS, 'n_estimators': n_e}) for n_e in n_est_list ],\n",
    "]\n",
    "\n",
    "metric_list = [ mean_absolute_error, root_mean_squared_error, r2_score]\n",
    "\n",
    "n_folds_list = [8]\n",
    "# n_fold_repeats_list = [1]\n",
    "\n",
    "_ = grid_exec_callback(grid_func, on_1_completed, \n",
    "                       all_models,\n",
    "                       n_folds_list, \n",
    "                       n_fold_repeats_list)"
   ]
  },
  {
   "cell_type": "code",
   "execution_count": null,
   "id": "f94798a8-eade-42b6-962a-fc1a128db52b",
   "metadata": {},
   "outputs": [],
   "source": []
  }
 ],
 "metadata": {
  "kernelspec": {
   "display_name": "Python 3 (ipykernel)",
   "language": "python",
   "name": "python3"
  },
  "language_info": {
   "codemirror_mode": {
    "name": "ipython",
    "version": 3
   },
   "file_extension": ".py",
   "mimetype": "text/x-python",
   "name": "python",
   "nbconvert_exporter": "python",
   "pygments_lexer": "ipython3",
   "version": "3.10.5"
  }
 },
 "nbformat": 4,
 "nbformat_minor": 5
}
